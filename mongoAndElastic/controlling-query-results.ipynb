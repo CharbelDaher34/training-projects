{
 "cells": [
  {
   "cell_type": "code",
   "execution_count": 1,
   "metadata": {},
   "outputs": [],
   "source": [
    "from elasticsearch import Elasticsearch\n",
    "\n",
    "# Create an Elasticsearch client instance with authentication\n",
    "es = Elasticsearch(\n",
    "    \"https://localhost:9200\",  # Use https for SSL\n",
    "    basic_auth=(\n",
    "        \"elastic\",\n",
    "        \"8+6x+mXMgyoyi0F7Fi07\",\n",
    "    ),  # Replace with your username and password\n",
    "    verify_certs=False,  # Optional: Disable SSL certificate verification for development\n",
    "    ssl_show_warn=False,  # This will disable the warning\n",
    ")"
   ]
  },
  {
   "cell_type": "markdown",
   "metadata": {},
   "source": [
    "format data as yaml"
   ]
  },
  {
   "cell_type": "code",
   "execution_count": 13,
   "metadata": {},
   "outputs": [
    {
     "name": "stdout",
     "output_type": "stream",
     "text": [
      "!!python/object/new:elastic_transport.ObjectApiResponse\n",
      "state: !!python/tuple\n",
      "- _shards:\n",
      "    failed: 0\n",
      "    skipped: 0\n",
      "    successful: 1\n",
      "    total: 1\n",
      "  hits:\n",
      "    hits: []\n",
      "    max_score: null\n",
      "    total:\n",
      "      relation: eq\n",
      "      value: 0\n",
      "  timed_out: false\n",
      "  took: 4\n",
      "- !!python/object:elastic_transport.ApiResponseMeta\n",
      "  duration: 0.018866539001464844\n",
      "  headers: !!python/object/new:elastic_transport.HttpHeaders\n",
      "    state: !!python/tuple\n",
      "    - null\n",
      "    - _frozen: false\n",
      "      _internal:\n",
      "        content-type: !!python/tuple\n",
      "        - content-type\n",
      "        - application/vnd.elasticsearch+json;compatible-with=8\n",
      "        transfer-encoding: !!python/tuple\n",
      "        - Transfer-Encoding\n",
      "        - chunked\n",
      "        x-elastic-product: !!python/tuple\n",
      "        - X-elastic-product\n",
      "        - Elasticsearch\n",
      "  http_version: '1.1'\n",
      "  node: !!python/object:elastic_transport.NodeConfig\n",
      "    _extras: {}\n",
      "    ca_certs: null\n",
      "    client_cert: null\n",
      "    client_key: null\n",
      "    connections_per_node: 10\n",
      "    headers: !!python/object/new:elastic_transport.HttpHeaders\n",
      "      state: !!python/tuple\n",
      "      - null\n",
      "      - _frozen: true\n",
      "        _internal:\n",
      "          user-agent: !!python/tuple\n",
      "          - user-agent\n",
      "          - elasticsearch-py/8.15.0 (Python/3.11.0rc1; elastic-transport/8.15.0)\n",
      "    host: localhost\n",
      "    http_compress: false\n",
      "    path_prefix: ''\n",
      "    port: 9200\n",
      "    request_timeout: 10.0\n",
      "    scheme: https\n",
      "    ssl_assert_fingerprint: null\n",
      "    ssl_assert_hostname: null\n",
      "    ssl_context: null\n",
      "    ssl_show_warn: false\n",
      "    ssl_version: null\n",
      "    verify_certs: false\n",
      "  status: 200\n",
      "\n"
     ]
    }
   ],
   "source": [
    "import yaml\n",
    "\n",
    "# Define the search query\n",
    "query = {\"query\": {\"match\": {\"title\": \"pasta\"}}}\n",
    "\n",
    "# Execute the search query and retrieve the response\n",
    "response = es.search(index=\"recipes\", body=query)\n",
    "\n",
    "# Convert the JSON response to YAML format and print it\n",
    "yaml_response = yaml.dump(response, default_flow_style=False)\n",
    "print(yaml_response)"
   ]
  },
  {
   "cell_type": "markdown",
   "metadata": {},
   "source": [
    "format data as json"
   ]
  },
  {
   "cell_type": "code",
   "execution_count": 17,
   "metadata": {},
   "outputs": [
    {
     "name": "stdout",
     "output_type": "stream",
     "text": [
      "Pretty JSON Response:\n",
      "{\n",
      "    \"took\": 5,\n",
      "    \"timed_out\": false,\n",
      "    \"_shards\": {\n",
      "        \"total\": 1,\n",
      "        \"successful\": 1,\n",
      "        \"skipped\": 0,\n",
      "        \"failed\": 0\n",
      "    },\n",
      "    \"hits\": {\n",
      "        \"total\": {\n",
      "            \"value\": 0,\n",
      "            \"relation\": \"eq\"\n",
      "        },\n",
      "        \"max_score\": null,\n",
      "        \"hits\": []\n",
      "    }\n",
      "}\n"
     ]
    }
   ],
   "source": [
    "import json\n",
    "\n",
    "# Define the search query\n",
    "query = {\"query\": {\"match\": {\"title\": \"pasta\"}}}\n",
    "\n",
    "# Execute the search query with pretty formatting enabled\n",
    "response = es.search(index=\"recipes\", body=query)\n",
    "\n",
    "# Convert the JSON response to pretty JSON format and print it\n",
    "pretty_json_response = json.dumps(response.body, indent=4)\n",
    "print(\"Pretty JSON Response:\")\n",
    "print(pretty_json_response)"
   ]
  },
  {
   "cell_type": "markdown",
   "metadata": {},
   "source": [
    "source filtering"
   ]
  },
  {
   "cell_type": "code",
   "execution_count": 18,
   "metadata": {},
   "outputs": [
    {
     "name": "stdout",
     "output_type": "stream",
     "text": [
      "{'took': 4, 'timed_out': False, '_shards': {'total': 1, 'successful': 1, 'skipped': 0, 'failed': 0}, 'hits': {'total': {'value': 0, 'relation': 'eq'}, 'max_score': None, 'hits': []}}\n",
      "{'took': 5, 'timed_out': False, '_shards': {'total': 1, 'successful': 1, 'skipped': 0, 'failed': 0}, 'hits': {'total': {'value': 0, 'relation': 'eq'}, 'max_score': None, 'hits': []}}\n",
      "{'took': 4, 'timed_out': False, '_shards': {'total': 1, 'successful': 1, 'skipped': 0, 'failed': 0}, 'hits': {'total': {'value': 0, 'relation': 'eq'}, 'max_score': None, 'hits': []}}\n",
      "{'took': 4, 'timed_out': False, '_shards': {'total': 1, 'successful': 1, 'skipped': 0, 'failed': 0}, 'hits': {'total': {'value': 0, 'relation': 'eq'}, 'max_score': None, 'hits': []}}\n",
      "{'took': 4, 'timed_out': False, '_shards': {'total': 1, 'successful': 1, 'skipped': 0, 'failed': 0}, 'hits': {'total': {'value': 0, 'relation': 'eq'}, 'max_score': None, 'hits': []}}\n",
      "{'took': 4, 'timed_out': False, '_shards': {'total': 1, 'successful': 1, 'skipped': 0, 'failed': 0}, 'hits': {'total': {'value': 0, 'relation': 'eq'}, 'max_score': None, 'hits': []}}\n"
     ]
    }
   ],
   "source": [
    "# Excluding the _source field altogether\n",
    "query1 = {\"_source\": False, \"query\": {\"match\": {\"title\": \"pasta\"}}}\n",
    "response1 = es.search(index=\"recipes\", body=query1)\n",
    "print(response1)\n",
    "\n",
    "# Only returning the 'created' field\n",
    "query2 = {\"_source\": \"created\", \"query\": {\"match\": {\"title\": \"pasta\"}}}\n",
    "response2 = es.search(index=\"recipes\", body=query2)\n",
    "print(response2)\n",
    "\n",
    "# Only returning an object's key (e.g., ingredients.name)\n",
    "query3 = {\"_source\": \"ingredients.name\", \"query\": {\"match\": {\"title\": \"pasta\"}}}\n",
    "response3 = es.search(index=\"recipes\", body=query3)\n",
    "print(response3)\n",
    "\n",
    "# Returning all of an object's keys (e.g., ingredients.*)\n",
    "query4 = {\"_source\": \"ingredients.*\", \"query\": {\"match\": {\"title\": \"pasta\"}}}\n",
    "response4 = es.search(index=\"recipes\", body=query4)\n",
    "print(response4)\n",
    "\n",
    "# Returning the ingredients object with all keys, and the servings field\n",
    "query5 = {\n",
    "    \"_source\": [\"ingredients.*\", \"servings\"],\n",
    "    \"query\": {\"match\": {\"title\": \"pasta\"}},\n",
    "}\n",
    "response5 = es.search(index=\"recipes\", body=query5)\n",
    "print(response5)\n",
    "\n",
    "# Including all of the ingredients object's keys, except the name key\n",
    "query6 = {\n",
    "    \"_source\": {\"includes\": \"ingredients.*\", \"excludes\": \"ingredients.name\"},\n",
    "    \"query\": {\"match\": {\"title\": \"pasta\"}},\n",
    "}\n",
    "response6 = es.search(index=\"recipes\", body=query6)\n",
    "print(response6)"
   ]
  },
  {
   "cell_type": "markdown",
   "metadata": {},
   "source": [
    "controlling the size"
   ]
  },
  {
   "cell_type": "code",
   "execution_count": 19,
   "metadata": {},
   "outputs": [
    {
     "name": "stdout",
     "output_type": "stream",
     "text": [
      "{'took': 7, 'timed_out': False, '_shards': {'total': 1, 'successful': 1, 'skipped': 0, 'failed': 0}, 'hits': {'total': {'value': 0, 'relation': 'eq'}, 'max_score': None, 'hits': []}}\n",
      "{'took': 8, 'timed_out': False, '_shards': {'total': 1, 'successful': 1, 'skipped': 0, 'failed': 0}, 'hits': {'total': {'value': 0, 'relation': 'eq'}, 'max_score': None, 'hits': []}}\n"
     ]
    },
    {
     "name": "stderr",
     "output_type": "stream",
     "text": [
      "/tmp/ipykernel_8284/122332058.py:2: DeprecationWarning: The 'params' parameter is deprecated and will be removed in a future version. Instead use individual parameters.\n",
      "  response1 = es.search(\n",
      "/tmp/ipykernel_8284/122332058.py:2: DeprecationWarning: Received 'size' via a specific parameter in the presence of a 'body' parameter, which is deprecated and will be removed in a future version. Instead, use only 'body' or only specific parameters.\n",
      "  response1 = es.search(\n"
     ]
    }
   ],
   "source": [
    "# 1. Using the `size` parameter as a query parameter\n",
    "response1 = es.search(\n",
    "    index=\"recipes\",\n",
    "    body={\"_source\": False, \"query\": {\"match\": {\"title\": \"pasta\"}}},\n",
    "    params={\"size\": 2},  # size as a query parameter\n",
    ")\n",
    "print(response1)\n",
    "\n",
    "# 2. Including `size` within the request body\n",
    "response2 = es.search(\n",
    "    index=\"recipes\",\n",
    "    body={\n",
    "        \"_source\": False,\n",
    "        \"size\": 2,  # size within the request body\n",
    "        \"query\": {\"match\": {\"title\": \"pasta\"}},\n",
    "    },\n",
    ")\n",
    "print(response2)"
   ]
  },
  {
   "cell_type": "markdown",
   "metadata": {},
   "source": [
    "offset"
   ]
  },
  {
   "cell_type": "code",
   "execution_count": 20,
   "metadata": {},
   "outputs": [
    {
     "name": "stdout",
     "output_type": "stream",
     "text": [
      "{'took': 4, 'timed_out': False, '_shards': {'total': 1, 'successful': 1, 'skipped': 0, 'failed': 0}, 'hits': {'total': {'value': 0, 'relation': 'eq'}, 'max_score': None, 'hits': []}}\n"
     ]
    }
   ],
   "source": [
    "# Using the `from` parameter to specify the offset\n",
    "response = es.search(\n",
    "    index=\"recipes\",\n",
    "    body={\n",
    "        \"_source\": False,  # Exclude _source fields from the response\n",
    "        \"size\": 2,  # Number of results to return\n",
    "        \"from\": 2,  # Offset to start from (skip the first 2 results)\n",
    "        \"query\": {\"match\": {\"title\": \"pasta\"}},\n",
    "    },\n",
    ")\n",
    "\n",
    "# Print the response to verify the result\n",
    "print(response)"
   ]
  },
  {
   "cell_type": "markdown",
   "metadata": {},
   "source": [
    "sorting"
   ]
  },
  {
   "cell_type": "code",
   "execution_count": 21,
   "metadata": {},
   "outputs": [
    {
     "name": "stdout",
     "output_type": "stream",
     "text": [
      "Ascending order response: {'took': 68, 'timed_out': False, '_shards': {'total': 1, 'successful': 1, 'skipped': 0, 'failed': 0}, 'hits': {'total': {'value': 0, 'relation': 'eq'}, 'max_score': None, 'hits': []}}\n",
      "Descending order response: {'took': 21, 'timed_out': False, '_shards': {'total': 1, 'successful': 1, 'skipped': 0, 'failed': 0}, 'hits': {'total': {'value': 0, 'relation': 'eq'}, 'max_score': None, 'hits': []}}\n",
      "Multiple fields sorted response: {'took': 6, 'timed_out': False, '_shards': {'total': 1, 'successful': 1, 'skipped': 0, 'failed': 0}, 'hits': {'total': {'value': 0, 'relation': 'eq'}, 'max_score': None, 'hits': []}}\n"
     ]
    }
   ],
   "source": [
    "# Sorting by ascending order (implicitly)\n",
    "response_ascending = es.search(\n",
    "    index=\"recipes\",\n",
    "    body={\n",
    "        \"_source\": False,\n",
    "        \"query\": {\"match_all\": {}},\n",
    "        \"sort\": [\"preparation_time_minutes\"],  # Ascending by default\n",
    "    },\n",
    ")\n",
    "print(\"Ascending order response:\", response_ascending)\n",
    "\n",
    "# Sorting by descending order\n",
    "response_descending = es.search(\n",
    "    index=\"recipes\",\n",
    "    body={\n",
    "        \"_source\": \"created\",\n",
    "        \"query\": {\"match_all\": {}},\n",
    "        \"sort\": [{\"created\": \"desc\"}],  # Sorts by \"created\" in descending order\n",
    "    },\n",
    ")\n",
    "print(\"Descending order response:\", response_descending)\n",
    "\n",
    "# Sorting by multiple fields\n",
    "response_multiple_sort = es.search(\n",
    "    index=\"recipes\",\n",
    "    body={\n",
    "        \"_source\": [\"preparation_time_minutes\", \"created\"],\n",
    "        \"query\": {\"match_all\": {}},\n",
    "        \"sort\": [\n",
    "            {\"preparation_time_minutes\": \"asc\"},  # First sort field in ascending order\n",
    "            {\"created\": \"desc\"},  # Second sort field in descending order\n",
    "        ],\n",
    "    },\n",
    ")\n",
    "print(\"Multiple fields sorted response:\", response_multiple_sort)"
   ]
  },
  {
   "cell_type": "markdown",
   "metadata": {},
   "source": [
    "multi value field"
   ]
  },
  {
   "cell_type": "code",
   "execution_count": 22,
   "metadata": {},
   "outputs": [
    {
     "name": "stdout",
     "output_type": "stream",
     "text": [
      "Sorted by average rating (descending): {'took': 27, 'timed_out': False, '_shards': {'total': 1, 'successful': 1, 'skipped': 0, 'failed': 0}, 'hits': {'total': {'value': 0, 'relation': 'eq'}, 'max_score': None, 'hits': []}}\n"
     ]
    }
   ],
   "source": [
    "# Sorting by the average rating in descending order\n",
    "response_sort_by_avg_rating = es.search(\n",
    "    index=\"recipes\",\n",
    "    body={\n",
    "        \"_source\": \"ratings\",  # Only returning the \"ratings\" field\n",
    "        \"query\": {\"match_all\": {}},\n",
    "        \"sort\": [\n",
    "            {\n",
    "                \"ratings\": {\n",
    "                    \"order\": \"desc\",  # Descending order\n",
    "                    \"mode\": \"avg\",  # Sorting by the average value\n",
    "                }\n",
    "            }\n",
    "        ],\n",
    "    },\n",
    ")\n",
    "\n",
    "# Output the results\n",
    "print(\"Sorted by average rating (descending):\", response_sort_by_avg_rating)"
   ]
  },
  {
   "cell_type": "code",
   "execution_count": null,
   "metadata": {},
   "outputs": [],
   "source": []
  }
 ],
 "metadata": {
  "kernelspec": {
   "display_name": "Python 3",
   "language": "python",
   "name": "python3"
  },
  "language_info": {
   "codemirror_mode": {
    "name": "ipython",
    "version": 3
   },
   "file_extension": ".py",
   "mimetype": "text/x-python",
   "name": "python",
   "nbconvert_exporter": "python",
   "pygments_lexer": "ipython3",
   "version": "3.11.0"
  }
 },
 "nbformat": 4,
 "nbformat_minor": 2
}
