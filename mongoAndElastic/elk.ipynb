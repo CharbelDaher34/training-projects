{
 "cells": [
  {
   "cell_type": "code",
   "execution_count": null,
   "metadata": {},
   "outputs": [],
   "source": [
    "%pip install pandas elasticsearch"
   ]
  },
  {
   "cell_type": "code",
   "execution_count": 2,
   "metadata": {},
   "outputs": [],
   "source": [
    "import pandas as pd\n",
    "from elasticsearch import Elasticsearch"
   ]
  },
  {
   "cell_type": "markdown",
   "metadata": {},
   "source": [
    "# CSV\n"
   ]
  },
  {
   "cell_type": "markdown",
   "metadata": {},
   "source": [
    "send csv file to elastic\n"
   ]
  },
  {
   "cell_type": "code",
   "execution_count": 2,
   "metadata": {},
   "outputs": [
    {
     "ename": "TlsError",
     "evalue": "TLS error caused by: TlsError(TLS error caused by: SSLError([SSL: CERTIFICATE_VERIFY_FAILED] certificate verify failed: self-signed certificate in certificate chain (_ssl.c:992)))",
     "output_type": "error",
     "traceback": [
      "\u001b[0;31m---------------------------------------------------------------------------\u001b[0m",
      "\u001b[0;31mTlsError\u001b[0m                                  Traceback (most recent call last)",
      "Cell \u001b[0;32mIn[2], line 22\u001b[0m\n\u001b[1;32m     20\u001b[0m \u001b[38;5;66;03m### Index each record in Elasticsearch\u001b[39;00m\n\u001b[1;32m     21\u001b[0m \u001b[38;5;28;01mfor\u001b[39;00m record \u001b[38;5;129;01min\u001b[39;00m records:\n\u001b[0;32m---> 22\u001b[0m     \u001b[43mes\u001b[49m\u001b[38;5;241;43m.\u001b[39;49m\u001b[43mindex\u001b[49m\u001b[43m(\u001b[49m\u001b[43mindex\u001b[49m\u001b[38;5;241;43m=\u001b[39;49m\u001b[43mindex_name\u001b[49m\u001b[43m,\u001b[49m\u001b[43m \u001b[49m\u001b[43mbody\u001b[49m\u001b[38;5;241;43m=\u001b[39;49m\u001b[43mrecord\u001b[49m\u001b[43m)\u001b[49m\n\u001b[1;32m     24\u001b[0m \u001b[38;5;66;03m## Output\u001b[39;00m\n\u001b[1;32m     25\u001b[0m \u001b[38;5;66;03m### Print success message\u001b[39;00m\n\u001b[1;32m     26\u001b[0m \u001b[38;5;28mprint\u001b[39m(\u001b[38;5;124mf\u001b[39m\u001b[38;5;124m\"\u001b[39m\u001b[38;5;124mSuccessfully indexed \u001b[39m\u001b[38;5;132;01m{\u001b[39;00m\u001b[38;5;28mlen\u001b[39m(records)\u001b[38;5;132;01m}\u001b[39;00m\u001b[38;5;124m records to the \u001b[39m\u001b[38;5;124m'\u001b[39m\u001b[38;5;132;01m{\u001b[39;00mindex_name\u001b[38;5;132;01m}\u001b[39;00m\u001b[38;5;124m'\u001b[39m\u001b[38;5;124m index.\u001b[39m\u001b[38;5;124m\"\u001b[39m)\n",
      "File \u001b[0;32m~/.local/lib/python3.11/site-packages/elasticsearch/_sync/client/utils.py:446\u001b[0m, in \u001b[0;36m_rewrite_parameters.<locals>.wrapper.<locals>.wrapped\u001b[0;34m(*args, **kwargs)\u001b[0m\n\u001b[1;32m    443\u001b[0m         \u001b[38;5;28;01mexcept\u001b[39;00m \u001b[38;5;167;01mKeyError\u001b[39;00m:\n\u001b[1;32m    444\u001b[0m             \u001b[38;5;28;01mpass\u001b[39;00m\n\u001b[0;32m--> 446\u001b[0m \u001b[38;5;28;01mreturn\u001b[39;00m \u001b[43mapi\u001b[49m\u001b[43m(\u001b[49m\u001b[38;5;241;43m*\u001b[39;49m\u001b[43margs\u001b[49m\u001b[43m,\u001b[49m\u001b[43m \u001b[49m\u001b[38;5;241;43m*\u001b[39;49m\u001b[38;5;241;43m*\u001b[39;49m\u001b[43mkwargs\u001b[49m\u001b[43m)\u001b[49m\n",
      "File \u001b[0;32m~/.local/lib/python3.11/site-packages/elasticsearch/_sync/client/__init__.py:2428\u001b[0m, in \u001b[0;36mElasticsearch.index\u001b[0;34m(self, index, document, body, id, error_trace, filter_path, human, if_primary_term, if_seq_no, op_type, pipeline, pretty, refresh, require_alias, routing, timeout, version, version_type, wait_for_active_shards)\u001b[0m\n\u001b[1;32m   2426\u001b[0m __body \u001b[38;5;241m=\u001b[39m document \u001b[38;5;28;01mif\u001b[39;00m document \u001b[38;5;129;01mis\u001b[39;00m \u001b[38;5;129;01mnot\u001b[39;00m \u001b[38;5;28;01mNone\u001b[39;00m \u001b[38;5;28;01melse\u001b[39;00m body\n\u001b[1;32m   2427\u001b[0m __headers \u001b[38;5;241m=\u001b[39m {\u001b[38;5;124m\"\u001b[39m\u001b[38;5;124maccept\u001b[39m\u001b[38;5;124m\"\u001b[39m: \u001b[38;5;124m\"\u001b[39m\u001b[38;5;124mapplication/json\u001b[39m\u001b[38;5;124m\"\u001b[39m, \u001b[38;5;124m\"\u001b[39m\u001b[38;5;124mcontent-type\u001b[39m\u001b[38;5;124m\"\u001b[39m: \u001b[38;5;124m\"\u001b[39m\u001b[38;5;124mapplication/json\u001b[39m\u001b[38;5;124m\"\u001b[39m}\n\u001b[0;32m-> 2428\u001b[0m \u001b[38;5;28;01mreturn\u001b[39;00m \u001b[38;5;28;43mself\u001b[39;49m\u001b[38;5;241;43m.\u001b[39;49m\u001b[43mperform_request\u001b[49m\u001b[43m(\u001b[49m\u001b[43m  \u001b[49m\u001b[38;5;66;43;03m# type: ignore[return-value]\u001b[39;49;00m\n\u001b[1;32m   2429\u001b[0m \u001b[43m    \u001b[49m\u001b[43m__method\u001b[49m\u001b[43m,\u001b[49m\n\u001b[1;32m   2430\u001b[0m \u001b[43m    \u001b[49m\u001b[43m__path\u001b[49m\u001b[43m,\u001b[49m\n\u001b[1;32m   2431\u001b[0m \u001b[43m    \u001b[49m\u001b[43mparams\u001b[49m\u001b[38;5;241;43m=\u001b[39;49m\u001b[43m__query\u001b[49m\u001b[43m,\u001b[49m\n\u001b[1;32m   2432\u001b[0m \u001b[43m    \u001b[49m\u001b[43mheaders\u001b[49m\u001b[38;5;241;43m=\u001b[39;49m\u001b[43m__headers\u001b[49m\u001b[43m,\u001b[49m\n\u001b[1;32m   2433\u001b[0m \u001b[43m    \u001b[49m\u001b[43mbody\u001b[49m\u001b[38;5;241;43m=\u001b[39;49m\u001b[43m__body\u001b[49m\u001b[43m,\u001b[49m\n\u001b[1;32m   2434\u001b[0m \u001b[43m    \u001b[49m\u001b[43mendpoint_id\u001b[49m\u001b[38;5;241;43m=\u001b[39;49m\u001b[38;5;124;43m\"\u001b[39;49m\u001b[38;5;124;43mindex\u001b[39;49m\u001b[38;5;124;43m\"\u001b[39;49m\u001b[43m,\u001b[49m\n\u001b[1;32m   2435\u001b[0m \u001b[43m    \u001b[49m\u001b[43mpath_parts\u001b[49m\u001b[38;5;241;43m=\u001b[39;49m\u001b[43m__path_parts\u001b[49m\u001b[43m,\u001b[49m\n\u001b[1;32m   2436\u001b[0m \u001b[43m\u001b[49m\u001b[43m)\u001b[49m\n",
      "File \u001b[0;32m~/.local/lib/python3.11/site-packages/elasticsearch/_sync/client/_base.py:271\u001b[0m, in \u001b[0;36mBaseClient.perform_request\u001b[0;34m(self, method, path, params, headers, body, endpoint_id, path_parts)\u001b[0m\n\u001b[1;32m    255\u001b[0m \u001b[38;5;28;01mdef\u001b[39;00m \u001b[38;5;21mperform_request\u001b[39m(\n\u001b[1;32m    256\u001b[0m     \u001b[38;5;28mself\u001b[39m,\n\u001b[1;32m    257\u001b[0m     method: \u001b[38;5;28mstr\u001b[39m,\n\u001b[0;32m   (...)\u001b[0m\n\u001b[1;32m    264\u001b[0m     path_parts: Optional[Mapping[\u001b[38;5;28mstr\u001b[39m, Any]] \u001b[38;5;241m=\u001b[39m \u001b[38;5;28;01mNone\u001b[39;00m,\n\u001b[1;32m    265\u001b[0m ) \u001b[38;5;241m-\u001b[39m\u001b[38;5;241m>\u001b[39m ApiResponse[Any]:\n\u001b[1;32m    266\u001b[0m     \u001b[38;5;28;01mwith\u001b[39;00m \u001b[38;5;28mself\u001b[39m\u001b[38;5;241m.\u001b[39m_otel\u001b[38;5;241m.\u001b[39mspan(\n\u001b[1;32m    267\u001b[0m         method,\n\u001b[1;32m    268\u001b[0m         endpoint_id\u001b[38;5;241m=\u001b[39mendpoint_id,\n\u001b[1;32m    269\u001b[0m         path_parts\u001b[38;5;241m=\u001b[39mpath_parts \u001b[38;5;129;01mor\u001b[39;00m {},\n\u001b[1;32m    270\u001b[0m     ) \u001b[38;5;28;01mas\u001b[39;00m otel_span:\n\u001b[0;32m--> 271\u001b[0m         response \u001b[38;5;241m=\u001b[39m \u001b[38;5;28;43mself\u001b[39;49m\u001b[38;5;241;43m.\u001b[39;49m\u001b[43m_perform_request\u001b[49m\u001b[43m(\u001b[49m\n\u001b[1;32m    272\u001b[0m \u001b[43m            \u001b[49m\u001b[43mmethod\u001b[49m\u001b[43m,\u001b[49m\n\u001b[1;32m    273\u001b[0m \u001b[43m            \u001b[49m\u001b[43mpath\u001b[49m\u001b[43m,\u001b[49m\n\u001b[1;32m    274\u001b[0m \u001b[43m            \u001b[49m\u001b[43mparams\u001b[49m\u001b[38;5;241;43m=\u001b[39;49m\u001b[43mparams\u001b[49m\u001b[43m,\u001b[49m\n\u001b[1;32m    275\u001b[0m \u001b[43m            \u001b[49m\u001b[43mheaders\u001b[49m\u001b[38;5;241;43m=\u001b[39;49m\u001b[43mheaders\u001b[49m\u001b[43m,\u001b[49m\n\u001b[1;32m    276\u001b[0m \u001b[43m            \u001b[49m\u001b[43mbody\u001b[49m\u001b[38;5;241;43m=\u001b[39;49m\u001b[43mbody\u001b[49m\u001b[43m,\u001b[49m\n\u001b[1;32m    277\u001b[0m \u001b[43m            \u001b[49m\u001b[43motel_span\u001b[49m\u001b[38;5;241;43m=\u001b[39;49m\u001b[43motel_span\u001b[49m\u001b[43m,\u001b[49m\n\u001b[1;32m    278\u001b[0m \u001b[43m        \u001b[49m\u001b[43m)\u001b[49m\n\u001b[1;32m    279\u001b[0m         otel_span\u001b[38;5;241m.\u001b[39mset_elastic_cloud_metadata(response\u001b[38;5;241m.\u001b[39mmeta\u001b[38;5;241m.\u001b[39mheaders)\n\u001b[1;32m    280\u001b[0m         \u001b[38;5;28;01mreturn\u001b[39;00m response\n",
      "File \u001b[0;32m~/.local/lib/python3.11/site-packages/elasticsearch/_sync/client/_base.py:316\u001b[0m, in \u001b[0;36mBaseClient._perform_request\u001b[0;34m(self, method, path, params, headers, body, otel_span)\u001b[0m\n\u001b[1;32m    313\u001b[0m \u001b[38;5;28;01melse\u001b[39;00m:\n\u001b[1;32m    314\u001b[0m     target \u001b[38;5;241m=\u001b[39m path\n\u001b[0;32m--> 316\u001b[0m meta, resp_body \u001b[38;5;241m=\u001b[39m \u001b[38;5;28;43mself\u001b[39;49m\u001b[38;5;241;43m.\u001b[39;49m\u001b[43mtransport\u001b[49m\u001b[38;5;241;43m.\u001b[39;49m\u001b[43mperform_request\u001b[49m\u001b[43m(\u001b[49m\n\u001b[1;32m    317\u001b[0m \u001b[43m    \u001b[49m\u001b[43mmethod\u001b[49m\u001b[43m,\u001b[49m\n\u001b[1;32m    318\u001b[0m \u001b[43m    \u001b[49m\u001b[43mtarget\u001b[49m\u001b[43m,\u001b[49m\n\u001b[1;32m    319\u001b[0m \u001b[43m    \u001b[49m\u001b[43mheaders\u001b[49m\u001b[38;5;241;43m=\u001b[39;49m\u001b[43mrequest_headers\u001b[49m\u001b[43m,\u001b[49m\n\u001b[1;32m    320\u001b[0m \u001b[43m    \u001b[49m\u001b[43mbody\u001b[49m\u001b[38;5;241;43m=\u001b[39;49m\u001b[43mbody\u001b[49m\u001b[43m,\u001b[49m\n\u001b[1;32m    321\u001b[0m \u001b[43m    \u001b[49m\u001b[43mrequest_timeout\u001b[49m\u001b[38;5;241;43m=\u001b[39;49m\u001b[38;5;28;43mself\u001b[39;49m\u001b[38;5;241;43m.\u001b[39;49m\u001b[43m_request_timeout\u001b[49m\u001b[43m,\u001b[49m\n\u001b[1;32m    322\u001b[0m \u001b[43m    \u001b[49m\u001b[43mmax_retries\u001b[49m\u001b[38;5;241;43m=\u001b[39;49m\u001b[38;5;28;43mself\u001b[39;49m\u001b[38;5;241;43m.\u001b[39;49m\u001b[43m_max_retries\u001b[49m\u001b[43m,\u001b[49m\n\u001b[1;32m    323\u001b[0m \u001b[43m    \u001b[49m\u001b[43mretry_on_status\u001b[49m\u001b[38;5;241;43m=\u001b[39;49m\u001b[38;5;28;43mself\u001b[39;49m\u001b[38;5;241;43m.\u001b[39;49m\u001b[43m_retry_on_status\u001b[49m\u001b[43m,\u001b[49m\n\u001b[1;32m    324\u001b[0m \u001b[43m    \u001b[49m\u001b[43mretry_on_timeout\u001b[49m\u001b[38;5;241;43m=\u001b[39;49m\u001b[38;5;28;43mself\u001b[39;49m\u001b[38;5;241;43m.\u001b[39;49m\u001b[43m_retry_on_timeout\u001b[49m\u001b[43m,\u001b[49m\n\u001b[1;32m    325\u001b[0m \u001b[43m    \u001b[49m\u001b[43mclient_meta\u001b[49m\u001b[38;5;241;43m=\u001b[39;49m\u001b[38;5;28;43mself\u001b[39;49m\u001b[38;5;241;43m.\u001b[39;49m\u001b[43m_client_meta\u001b[49m\u001b[43m,\u001b[49m\n\u001b[1;32m    326\u001b[0m \u001b[43m    \u001b[49m\u001b[43motel_span\u001b[49m\u001b[38;5;241;43m=\u001b[39;49m\u001b[43motel_span\u001b[49m\u001b[43m,\u001b[49m\n\u001b[1;32m    327\u001b[0m \u001b[43m\u001b[49m\u001b[43m)\u001b[49m\n\u001b[1;32m    329\u001b[0m \u001b[38;5;66;03m# HEAD with a 404 is returned as a normal response\u001b[39;00m\n\u001b[1;32m    330\u001b[0m \u001b[38;5;66;03m# since this is used as an 'exists' functionality.\u001b[39;00m\n\u001b[1;32m    331\u001b[0m \u001b[38;5;28;01mif\u001b[39;00m \u001b[38;5;129;01mnot\u001b[39;00m (method \u001b[38;5;241m==\u001b[39m \u001b[38;5;124m\"\u001b[39m\u001b[38;5;124mHEAD\u001b[39m\u001b[38;5;124m\"\u001b[39m \u001b[38;5;129;01mand\u001b[39;00m meta\u001b[38;5;241m.\u001b[39mstatus \u001b[38;5;241m==\u001b[39m \u001b[38;5;241m404\u001b[39m) \u001b[38;5;129;01mand\u001b[39;00m (\n\u001b[1;32m    332\u001b[0m     \u001b[38;5;129;01mnot\u001b[39;00m \u001b[38;5;241m200\u001b[39m \u001b[38;5;241m<\u001b[39m\u001b[38;5;241m=\u001b[39m meta\u001b[38;5;241m.\u001b[39mstatus \u001b[38;5;241m<\u001b[39m \u001b[38;5;241m299\u001b[39m\n\u001b[1;32m    333\u001b[0m     \u001b[38;5;129;01mand\u001b[39;00m (\n\u001b[0;32m   (...)\u001b[0m\n\u001b[1;32m    337\u001b[0m     )\n\u001b[1;32m    338\u001b[0m ):\n",
      "File \u001b[0;32m~/.local/lib/python3.11/site-packages/elastic_transport/_transport.py:342\u001b[0m, in \u001b[0;36mTransport.perform_request\u001b[0;34m(self, method, target, body, headers, max_retries, retry_on_status, retry_on_timeout, request_timeout, client_meta, otel_span)\u001b[0m\n\u001b[1;32m    340\u001b[0m \u001b[38;5;28;01mtry\u001b[39;00m:\n\u001b[1;32m    341\u001b[0m     otel_span\u001b[38;5;241m.\u001b[39mset_node_metadata(node\u001b[38;5;241m.\u001b[39mhost, node\u001b[38;5;241m.\u001b[39mport, node\u001b[38;5;241m.\u001b[39mbase_url, target)\n\u001b[0;32m--> 342\u001b[0m     resp \u001b[38;5;241m=\u001b[39m \u001b[43mnode\u001b[49m\u001b[38;5;241;43m.\u001b[39;49m\u001b[43mperform_request\u001b[49m\u001b[43m(\u001b[49m\n\u001b[1;32m    343\u001b[0m \u001b[43m        \u001b[49m\u001b[43mmethod\u001b[49m\u001b[43m,\u001b[49m\n\u001b[1;32m    344\u001b[0m \u001b[43m        \u001b[49m\u001b[43mtarget\u001b[49m\u001b[43m,\u001b[49m\n\u001b[1;32m    345\u001b[0m \u001b[43m        \u001b[49m\u001b[43mbody\u001b[49m\u001b[38;5;241;43m=\u001b[39;49m\u001b[43mrequest_body\u001b[49m\u001b[43m,\u001b[49m\n\u001b[1;32m    346\u001b[0m \u001b[43m        \u001b[49m\u001b[43mheaders\u001b[49m\u001b[38;5;241;43m=\u001b[39;49m\u001b[43mrequest_headers\u001b[49m\u001b[43m,\u001b[49m\n\u001b[1;32m    347\u001b[0m \u001b[43m        \u001b[49m\u001b[43mrequest_timeout\u001b[49m\u001b[38;5;241;43m=\u001b[39;49m\u001b[43mrequest_timeout\u001b[49m\u001b[43m,\u001b[49m\n\u001b[1;32m    348\u001b[0m \u001b[43m    \u001b[49m\u001b[43m)\u001b[49m\n\u001b[1;32m    349\u001b[0m     _logger\u001b[38;5;241m.\u001b[39minfo(\n\u001b[1;32m    350\u001b[0m         \u001b[38;5;124m\"\u001b[39m\u001b[38;5;132;01m%s\u001b[39;00m\u001b[38;5;124m \u001b[39m\u001b[38;5;132;01m%s\u001b[39;00m\u001b[38;5;132;01m%s\u001b[39;00m\u001b[38;5;124m [status:\u001b[39m\u001b[38;5;132;01m%s\u001b[39;00m\u001b[38;5;124m duration:\u001b[39m\u001b[38;5;132;01m%.3f\u001b[39;00m\u001b[38;5;124ms]\u001b[39m\u001b[38;5;124m\"\u001b[39m\n\u001b[1;32m    351\u001b[0m         \u001b[38;5;241m%\u001b[39m (\n\u001b[0;32m   (...)\u001b[0m\n\u001b[1;32m    357\u001b[0m         )\n\u001b[1;32m    358\u001b[0m     )\n\u001b[1;32m    360\u001b[0m     \u001b[38;5;28;01mif\u001b[39;00m method \u001b[38;5;241m!=\u001b[39m \u001b[38;5;124m\"\u001b[39m\u001b[38;5;124mHEAD\u001b[39m\u001b[38;5;124m\"\u001b[39m:\n",
      "File \u001b[0;32m~/.local/lib/python3.11/site-packages/elastic_transport/_node/_http_urllib3.py:202\u001b[0m, in \u001b[0;36mUrllib3HttpNode.perform_request\u001b[0;34m(self, method, target, body, headers, request_timeout)\u001b[0m\n\u001b[1;32m    194\u001b[0m         err \u001b[38;5;241m=\u001b[39m \u001b[38;5;167;01mConnectionError\u001b[39;00m(\u001b[38;5;28mstr\u001b[39m(e), errors\u001b[38;5;241m=\u001b[39m(e,))\n\u001b[1;32m    195\u001b[0m     \u001b[38;5;28mself\u001b[39m\u001b[38;5;241m.\u001b[39m_log_request(\n\u001b[1;32m    196\u001b[0m         method\u001b[38;5;241m=\u001b[39mmethod,\n\u001b[1;32m    197\u001b[0m         target\u001b[38;5;241m=\u001b[39mtarget,\n\u001b[0;32m   (...)\u001b[0m\n\u001b[1;32m    200\u001b[0m         exception\u001b[38;5;241m=\u001b[39merr,\n\u001b[1;32m    201\u001b[0m     )\n\u001b[0;32m--> 202\u001b[0m     \u001b[38;5;28;01mraise\u001b[39;00m err \u001b[38;5;28;01mfrom\u001b[39;00m \u001b[38;5;28;01mNone\u001b[39;00m\n\u001b[1;32m    204\u001b[0m meta \u001b[38;5;241m=\u001b[39m ApiResponseMeta(\n\u001b[1;32m    205\u001b[0m     node\u001b[38;5;241m=\u001b[39m\u001b[38;5;28mself\u001b[39m\u001b[38;5;241m.\u001b[39mconfig,\n\u001b[1;32m    206\u001b[0m     duration\u001b[38;5;241m=\u001b[39mduration,\n\u001b[0;32m   (...)\u001b[0m\n\u001b[1;32m    209\u001b[0m     headers\u001b[38;5;241m=\u001b[39mresponse_headers,\n\u001b[1;32m    210\u001b[0m )\n\u001b[1;32m    211\u001b[0m \u001b[38;5;28mself\u001b[39m\u001b[38;5;241m.\u001b[39m_log_request(\n\u001b[1;32m    212\u001b[0m     method\u001b[38;5;241m=\u001b[39mmethod,\n\u001b[1;32m    213\u001b[0m     target\u001b[38;5;241m=\u001b[39mtarget,\n\u001b[0;32m   (...)\u001b[0m\n\u001b[1;32m    217\u001b[0m     response\u001b[38;5;241m=\u001b[39mdata,\n\u001b[1;32m    218\u001b[0m )\n",
      "\u001b[0;31mTlsError\u001b[0m: TLS error caused by: TlsError(TLS error caused by: SSLError([SSL: CERTIFICATE_VERIFY_FAILED] certificate verify failed: self-signed certificate in certificate chain (_ssl.c:992)))"
     ]
    }
   ],
   "source": [
    "import pandas as pd\n",
    "from elasticsearch import Elasticsearch\n",
    "\n",
    "### Setup variables\n",
    "csv_file_path = \"data.csv\"\n",
    "es_host = \"https://localhost:9200\"  # Elasticsearch URL\n",
    "index_name = \"eurisko\"  # Name of the index in Elasticsearch\n",
    "\n",
    "## Model\n",
    "### Read the CSV file\n",
    "df = pd.read_csv(csv_file_path)\n",
    "df = df.fillna(\"null\")  # Replace NaN with 'null' or any other placeholder\n",
    "\n",
    "### Convert DataFrame to JSON\n",
    "records = df.to_dict(orient=\"records\")\n",
    "\n",
    "### Initialize Elasticsearch client\n",
    "es = Elasticsearch([es_host])\n",
    "\n",
    "### Index each record in Elasticsearch\n",
    "for record in records:\n",
    "    es.index(index=index_name, body=record)\n",
    "\n",
    "## Output\n",
    "### Print success message\n",
    "print(f\"Successfully indexed {len(records)} records to the '{index_name}' index.\")"
   ]
  },
  {
   "cell_type": "markdown",
   "metadata": {},
   "source": [
    "read from elastic with id filter\n"
   ]
  },
  {
   "cell_type": "code",
   "execution_count": null,
   "metadata": {},
   "outputs": [],
   "source": [
    "### Setup variables\n",
    "es_host = \"http://localhost:9200\"  # Elasticsearch URL\n",
    "id_column = \"ID\"  # The column name for IDs in your data\n",
    "filter_ids = [1, 2, 3]  # List of IDs you want to retrieve\n",
    "index_name = \"eurisko\"  # Name of the index in Elasticsearch\n",
    "\n",
    "## Model\n",
    "### Initialize Elasticsearch client\n",
    "es = Elasticsearch([es_host])\n",
    "\n",
    "### Define the search query to match the IDs\n",
    "query = {\"query\": {\"terms\": {id_column: filter_ids}}}\n",
    "\n",
    "### Execute the search query\n",
    "response = es.search(index=index_name, body=query)\n",
    "\n",
    "### Extract the hits (matching documents)\n",
    "hits = response[\"hits\"][\"hits\"]\n",
    "\n",
    "## Output\n",
    "### Print the retrieved documents\n",
    "for hit in hits:\n",
    "    print(hit[\"_source\"])"
   ]
  },
  {
   "cell_type": "markdown",
   "metadata": {},
   "source": [
    "# vectors database\n"
   ]
  },
  {
   "cell_type": "markdown",
   "metadata": {},
   "source": [
    "save vectors one at a time\n"
   ]
  },
  {
   "cell_type": "code",
   "execution_count": 39,
   "metadata": {},
   "outputs": [
    {
     "name": "stderr",
     "output_type": "stream",
     "text": [
      "/tmp/ipykernel_28822/1385836427.py:53: DeprecationWarning: Passing transport options in the API method is deprecated. Use 'Elasticsearch.options()' instead.\n",
      "  es.indices.create(\n"
     ]
    },
    {
     "name": "stdout",
     "output_type": "stream",
     "text": [
      "Successfully indexed 2000 random vectors with names into the 'vectorstore' index in 13.902277708053589 seconds\n"
     ]
    }
   ],
   "source": [
    "## Input\n",
    "### Import libraries\n",
    "import numpy as np\n",
    "import random\n",
    "import time\n",
    "from elasticsearch import Elasticsearch\n",
    "\n",
    "### Setup variables\n",
    "es_host = \"http://localhost:9200\"  # Elasticsearch URL\n",
    "index_name = \"vectorstore\"  # Name of the index in Elasticsearch\n",
    "vector_size = 50  # Size of each vector\n",
    "num_vectors = 2000  # Number of vectors to generate\n",
    "random_words = [\n",
    "    \"alpha\",\n",
    "    \"beta\",\n",
    "    \"gamma\",\n",
    "    \"delta\",\n",
    "    \"epsilon\",\n",
    "    \"zeta\",\n",
    "    \"eta\",\n",
    "    \"theta\",\n",
    "    \"iota\",\n",
    "    \"kappa\",\n",
    "    \"lambda\",\n",
    "    \"mu\",\n",
    "    \"nu\",\n",
    "    \"xi\",\n",
    "    \"omicron\",\n",
    "    \"pi\",\n",
    "    \"rho\",\n",
    "    \"sigma\",\n",
    "    \"tau\",\n",
    "    \"upsilon\",\n",
    "]  # List of random words\n",
    "\n",
    "## Model\n",
    "### Generate random vectors\n",
    "np.random.seed(0)  # For reproducibility\n",
    "vectors = np.random.rand(num_vectors, vector_size).tolist()\n",
    "\n",
    "### Initialize Elasticsearch client\n",
    "es = Elasticsearch([es_host])\n",
    "\n",
    "### Create index with mapping for dense_vector and name field\n",
    "mapping = {\n",
    "    \"mappings\": {\n",
    "        \"properties\": {\n",
    "            \"vector\": {\"type\": \"dense_vector\", \"dims\": vector_size},\n",
    "            \"name\": {\"type\": \"text\"},  # Adding 'name' field\n",
    "        }\n",
    "    }\n",
    "}\n",
    "es.indices.create(\n",
    "    index=index_name, body=mapping, ignore=400\n",
    ")  # Ignore 400 if index already exists\n",
    "\n",
    "starttime = time.time()\n",
    "### Index each random vector with a random name\n",
    "for i, vector in enumerate(vectors):\n",
    "    random_name = \" \".join(\n",
    "        random.sample(random_words, 2)\n",
    "    )  # Random combination of 2 words\n",
    "    document = {\"vector\": vector, \"name\": random_name}\n",
    "    es.index(index=index_name, body=document)\n",
    "endtime = time.time()\n",
    "\n",
    "## Output\n",
    "### Print success message\n",
    "print(\n",
    "    f\"Successfully indexed {num_vectors} random vectors with names into the '{index_name}' index in {endtime-starttime} seconds\"\n",
    ")"
   ]
  },
  {
   "cell_type": "markdown",
   "metadata": {},
   "source": [
    "bulk save vectors\n"
   ]
  },
  {
   "cell_type": "code",
   "execution_count": 40,
   "metadata": {},
   "outputs": [
    {
     "name": "stderr",
     "output_type": "stream",
     "text": [
      "/tmp/ipykernel_28822/1882706879.py:53: DeprecationWarning: Passing transport options in the API method is deprecated. Use 'Elasticsearch.options()' instead.\n",
      "  es.indices.create(\n"
     ]
    },
    {
     "name": "stdout",
     "output_type": "stream",
     "text": [
      "Successfully indexed 2000 random vectors into the 'vectorstore' index in 0.4981706142425537 seconds\n"
     ]
    }
   ],
   "source": [
    "## Input\n",
    "### Import libraries\n",
    "import numpy as np\n",
    "import pandas as pd\n",
    "import time\n",
    "from elasticsearch import Elasticsearch, helpers\n",
    "import random\n",
    "\n",
    "### Setup variables\n",
    "es_host = \"http://localhost:9200\"  # Elasticsearch URL\n",
    "index_name = \"vectorstore\"  # Name of the index in Elasticsearch\n",
    "vector_size = 50  # Size of each vector\n",
    "num_vectors = 2000  # Number of vectors to generate\n",
    "random_words = [\n",
    "    \"alpha\",\n",
    "    \"beta\",\n",
    "    \"gamma\",\n",
    "    \"delta\",\n",
    "    \"epsilon\",\n",
    "    \"zeta\",\n",
    "    \"eta\",\n",
    "    \"theta\",\n",
    "    \"iota\",\n",
    "    \"kappa\",\n",
    "    \"lambda\",\n",
    "    \"mu\",\n",
    "    \"nu\",\n",
    "    \"xi\",\n",
    "    \"omicron\",\n",
    "    \"pi\",\n",
    "    \"rho\",\n",
    "    \"sigma\",\n",
    "    \"tau\",\n",
    "    \"upsilon\",\n",
    "]\n",
    "## Model\n",
    "### Generate random vectors\n",
    "np.random.seed(0)  # For reproducibility\n",
    "vectors = np.random.rand(num_vectors, vector_size).tolist()\n",
    "\n",
    "### Initialize Elasticsearch client\n",
    "es = Elasticsearch([es_host])\n",
    "\n",
    "### Create index with mapping for dense_vector\n",
    "mapping = {\n",
    "    \"mappings\": {\n",
    "        \"properties\": {\n",
    "            \"vector\": {\"type\": \"dense_vector\", \"dims\": vector_size},\n",
    "            \"name\": {\"type\": \"text\"},  # Adding 'name' field\n",
    "        }\n",
    "    }\n",
    "}\n",
    "es.indices.create(\n",
    "    index=index_name, body=mapping, ignore=400\n",
    ")  # Ignore 400 if index already exists\n",
    "\n",
    "### Prepare bulk data\n",
    "actions = [\n",
    "    {\n",
    "        \"_index\": index_name,\n",
    "        # \"_id\": i + 3000,\n",
    "        \"_source\": {\"vector\": vector, \"name\": \" \".join(random.sample(random_words, 2))},\n",
    "    }\n",
    "    for i, vector in enumerate(vectors)\n",
    "]\n",
    "\n",
    "starttime = time.time()\n",
    "### Bulk index all vectors\n",
    "helpers.bulk(es, actions)\n",
    "endtime = time.time()\n",
    "\n",
    "\n",
    "print(\n",
    "    f\"Successfully indexed {num_vectors} random vectors into the '{index_name}' index in {endtime-starttime} seconds\"\n",
    ")"
   ]
  },
  {
   "cell_type": "markdown",
   "metadata": {},
   "source": [
    "cosine similarity\n"
   ]
  },
  {
   "cell_type": "code",
   "execution_count": 27,
   "metadata": {},
   "outputs": [
    {
     "name": "stdout",
     "output_type": "stream",
     "text": [
      "Name: pi iota, Vector: [0.8583639092841238, 0.3970260297012893, 0.30344747149584583, 0.47541434394037974, 0.5805702658610854, 0.8912380956098888, 0.3139102346282898, 0.6469437671307302, 0.4920824006727923, 0.7743974361641899, 0.4041689965269496, 0.7288626254013872, 0.27113076389372226, 0.6663518107013724, 0.6451225702859146, 0.5900478568087331, 0.5041734721617624, 0.6393502074514879, 0.5040971038994176, 0.19978437444490993, 0.3670625560839704, 0.10119631759147107, 0.6359936996780754, 0.595963404329483, 0.4333722525960275, 0.5108994089576718, 0.5467876170753613, 0.5478548696547741, 0.4015381426636617, 0.48671057428990994, 0.8445327535217351, 0.5306972579336255, 0.59478367954256, 0.7768408985615862, 0.24895984546680094, 0.6233116655126576, 0.5263209209182268, 0.5115966617048758, 0.3846984816804553, 0.9759036142526318, 0.3516412810131888, 0.8592079042791395, 0.311442398993132, 0.3476573755038592, 0.30273533668044106, 0.9509670856880753, 0.7533704208043165, 0.6026944956598547, 0.3958088499054988, 0.9332282070197145]\n",
      "Name: tau zeta, Vector: [0.8583639092841238, 0.3970260297012893, 0.30344747149584583, 0.47541434394037974, 0.5805702658610854, 0.8912380956098888, 0.3139102346282898, 0.6469437671307302, 0.4920824006727923, 0.7743974361641899, 0.4041689965269496, 0.7288626254013872, 0.27113076389372226, 0.6663518107013724, 0.6451225702859146, 0.5900478568087331, 0.5041734721617624, 0.6393502074514879, 0.5040971038994176, 0.19978437444490993, 0.3670625560839704, 0.10119631759147107, 0.6359936996780754, 0.595963404329483, 0.4333722525960275, 0.5108994089576718, 0.5467876170753613, 0.5478548696547741, 0.4015381426636617, 0.48671057428990994, 0.8445327535217351, 0.5306972579336255, 0.59478367954256, 0.7768408985615862, 0.24895984546680094, 0.6233116655126576, 0.5263209209182268, 0.5115966617048758, 0.3846984816804553, 0.9759036142526318, 0.3516412810131888, 0.8592079042791395, 0.311442398993132, 0.3476573755038592, 0.30273533668044106, 0.9509670856880753, 0.7533704208043165, 0.6026944956598547, 0.3958088499054988, 0.9332282070197145]\n",
      "Name: eta theta, Vector: [0.47298460835621714, 0.8450377203404724, 0.7012593917069188, 0.5501599994504932, 0.6306174468372223, 0.31260326960579865, 0.8629243711948104, 0.6679400240831957, 0.9057781536019708, 0.8304087878553537, 0.4673182918443747, 0.42765671581615405, 0.7604498266623294, 0.09715887825978009, 0.6742383774039683, 0.49499200251932873, 0.5008010864995065, 0.8247210681695776, 0.3828639664018425, 0.8668037630800107, 0.5973436709331247, 0.9364509044300143, 0.11840104014193287, 0.7045995908866692, 0.3616379466387145, 0.8463014960773221, 0.8600278481886948, 0.698377827736145, 0.46820979182716416, 0.9315411043018724, 0.4925537131173531, 0.6866534828858862, 0.9326619097547095, 0.4082865347155108, 0.36714551731341094, 0.8393607394965934, 0.279368504881223, 0.8270532932911301, 0.16622914619912843, 0.7319463633904214, 0.03669929937616545, 0.5745888168959937, 0.6876740093362077, 0.8826380272978475, 0.9488541028081419, 0.8949426212316021, 0.670353892861211, 0.6333588478724245, 0.37167065702443447, 0.9134290783406502]\n",
      "Name: rho tau, Vector: [0.47298460835621714, 0.8450377203404724, 0.7012593917069188, 0.5501599994504932, 0.6306174468372223, 0.31260326960579865, 0.8629243711948104, 0.6679400240831957, 0.9057781536019708, 0.8304087878553537, 0.4673182918443747, 0.42765671581615405, 0.7604498266623294, 0.09715887825978009, 0.6742383774039683, 0.49499200251932873, 0.5008010864995065, 0.8247210681695776, 0.3828639664018425, 0.8668037630800107, 0.5973436709331247, 0.9364509044300143, 0.11840104014193287, 0.7045995908866692, 0.3616379466387145, 0.8463014960773221, 0.8600278481886948, 0.698377827736145, 0.46820979182716416, 0.9315411043018724, 0.4925537131173531, 0.6866534828858862, 0.9326619097547095, 0.4082865347155108, 0.36714551731341094, 0.8393607394965934, 0.279368504881223, 0.8270532932911301, 0.16622914619912843, 0.7319463633904214, 0.03669929937616545, 0.5745888168959937, 0.6876740093362077, 0.8826380272978475, 0.9488541028081419, 0.8949426212316021, 0.670353892861211, 0.6333588478724245, 0.37167065702443447, 0.9134290783406502]\n",
      "Name: alpha zeta, Vector: [0.07284116099587268, 0.7399306298608107, 0.3116161159560572, 0.7115241880252594, 0.9086434957914838, 0.8215480502493148, 0.7059125380917661, 0.3077336446071536, 0.6891184430949108, 0.41194698564393106, 0.8569770864513789, 0.8901771375888056, 0.7233228400789953, 0.9437427188209204, 0.6113264227249064, 0.7346607157561679, 0.653319547887849, 0.5049075482302442, 0.8367341600861703, 0.3763953950469009, 0.7730709247835288, 0.5554607353291874, 0.21466406227935575, 0.9499802786692075, 0.7472297863214215, 0.8332851581740635, 0.6492684968445843, 0.4477518788723892, 0.4593075797757077, 0.6611080389517966, 0.6108555719039418, 0.03790268149390286, 0.7718430650048649, 0.6701181652359686, 0.3697539045584032, 0.8645684557576443, 0.1265914911959225, 0.7457631828924226, 0.21376724651662593, 0.6255507891682999, 0.6484137126231303, 0.8608193863074165, 0.8559403613362075, 0.6667564711359232, 0.7135801675181901, 0.638934260620531, 0.3722399294661646, 0.014847425600096997, 0.6484830729180145, 0.5112947972600217]\n",
      "Query executed in 0.03790140151977539 seconds\n"
     ]
    },
    {
     "name": "stderr",
     "output_type": "stream",
     "text": [
      "/tmp/ipykernel_28822/822745206.py:29: ElasticsearchWarning: The vector functions of the form function(query, doc['field']) are deprecated, and the form function(query, 'field') should be used instead. For example, cosineSimilarity(query, doc['field']) is replaced by cosineSimilarity(query, 'field').\n",
      "  response = es.search(index=index_name, body=query)\n"
     ]
    }
   ],
   "source": [
    "### Setup variables\n",
    "es_host = \"http://localhost:9200\"  # Elasticsearch URL\n",
    "index_name = \"vectorstore\"  # Name of the index in Elasticsearch\n",
    "vector_field = \"vector\"  # Field name where vectors are stored\n",
    "query_vector = [0.7] * 50  # Example query vector (must match the dimensionality)\n",
    "n = 5  # Number of top recommendations to retrieve\n",
    "\n",
    "## Model\n",
    "### Initialize Elasticsearch client\n",
    "es = Elasticsearch([es_host])\n",
    "\n",
    "### Define the search query for cosine similarity\n",
    "query = {\n",
    "    \"size\": n,\n",
    "    \"query\": {\n",
    "        \"script_score\": {\n",
    "            \"query\": {\"match_all\": {}},\n",
    "            \"script\": {\n",
    "                \"source\": \"cosineSimilarity(params.query_vector, doc['vector']) + 1.0\",\n",
    "                \"params\": {\"query_vector\": query_vector},\n",
    "            },\n",
    "        }\n",
    "    },\n",
    "    \"_source\": [\"name\", \"vector\"],  # Fetch 'name' and 'vector' fields in the response\n",
    "}\n",
    "starttime = time.time()\n",
    "\n",
    "### Execute the search query\n",
    "response = es.search(index=index_name, body=query)\n",
    "endtime = time.time()\n",
    "\n",
    "### Extract the hits (top recommendations)\n",
    "hits = response[\"hits\"][\"hits\"]\n",
    "\n",
    "## Output\n",
    "### Print the top `n` recommendations\n",
    "for hit in hits:\n",
    "    print(f\"Name: {hit['_source']['name']}, Vector: {hit['_source']['vector']}\")\n",
    "print(f\"Query executed in {endtime - starttime} seconds\")"
   ]
  },
  {
   "cell_type": "markdown",
   "metadata": {},
   "source": [
    "Hybrid search"
   ]
  },
  {
   "cell_type": "code",
   "execution_count": 38,
   "metadata": {},
   "outputs": [
    {
     "name": "stdout",
     "output_type": "stream",
     "text": [
      "Name: eta theta, Vector: [0.47298460835621714, 0.8450377203404724, 0.7012593917069188, 0.5501599994504932, 0.6306174468372223, 0.31260326960579865, 0.8629243711948104, 0.6679400240831957, 0.9057781536019708, 0.8304087878553537, 0.4673182918443747, 0.42765671581615405, 0.7604498266623294, 0.09715887825978009, 0.6742383774039683, 0.49499200251932873, 0.5008010864995065, 0.8247210681695776, 0.3828639664018425, 0.8668037630800107, 0.5973436709331247, 0.9364509044300143, 0.11840104014193287, 0.7045995908866692, 0.3616379466387145, 0.8463014960773221, 0.8600278481886948, 0.698377827736145, 0.46820979182716416, 0.9315411043018724, 0.4925537131173531, 0.6866534828858862, 0.9326619097547095, 0.4082865347155108, 0.36714551731341094, 0.8393607394965934, 0.279368504881223, 0.8270532932911301, 0.16622914619912843, 0.7319463633904214, 0.03669929937616545, 0.5745888168959937, 0.6876740093362077, 0.8826380272978475, 0.9488541028081419, 0.8949426212316021, 0.670353892861211, 0.6333588478724245, 0.37167065702443447, 0.9134290783406502]\n",
      "Name: theta xi, Vector: [0.4856030596622326, 0.4968311369073688, 0.3785409265628532, 0.5802609630956064, 0.8824674169406052, 0.8222833925584122, 0.26505013261535926, 0.3211836458434003, 0.6304994467838689, 0.7521227658868582, 0.9862505668593121, 0.3135129521206961, 0.34901260346150487, 0.513259998723903, 0.9287209571155716, 0.7745703045750815, 0.8812491207255195, 0.9432921788250671, 0.7753229215562715, 0.09449283564870703, 0.5281860689659643, 0.7321362424555379, 0.8604669776025123, 0.26281506651932895, 0.4963711201806855, 0.5079030481127086, 0.44961059790064417, 0.6135428069951065, 0.5497762776651551, 0.5640314858499891, 0.47488409051089453, 0.8004777396965225, 0.45931793932951726, 0.19452175464403254, 0.894047507282256, 0.9005380551704049, 0.4760437097507071, 0.46767364865491445, 0.7197436634724041, 0.4741053384911964, 0.26889897013281905, 0.4391077716178159, 0.2990966846341244, 0.44271876022560896, 0.6445858404784269, 0.37659975731119677, 0.7647381196529996, 0.1114358899769069, 0.9965526957484132, 0.9766061001625138]\n",
      "Name: xi theta, Vector: [0.49875945347108697, 0.5917583220969318, 0.7024655805046631, 0.23224120219322308, 0.11529574102337148, 0.2467551875462377, 0.7065101292909091, 0.7236040226705003, 0.4089362453776696, 0.40469014759728905, 0.4363080579723583, 0.9042020096852623, 0.5519254572098738, 0.3272586894829731, 0.19898689781230372, 0.9634494019273505, 0.6282347262155724, 0.7301966677578575, 0.7757434533934361, 0.6646864730900445, 0.519148361114305, 0.45650370278474006, 0.9072805370072411, 0.7665854577409782, 0.5819808669013725, 0.6791203717522974, 0.6178535094355617, 0.6461497307253786, 0.1559170547696086, 0.18910148415042194, 0.7002796070534317, 0.7104856400496664, 0.4910060540852662, 0.2559005850837456, 0.08576309806894988, 0.4740483104718676, 0.6511995778118296, 0.6390582699515924, 0.01667569396470292, 0.4527008212602196, 0.7489306469558009, 0.38363546150227223, 0.5445453481348457, 0.8743507432285481, 0.5114663490912482, 0.43712350509726394, 0.4989946183385302, 0.8058223320481295, 0.2431272759898001, 0.7272795801137437]\n",
      "Name: theta delta, Vector: [0.442682623372443, 0.9457172076980251, 0.43182601828225187, 0.6378522954593696, 0.8856258555552924, 0.7992519469318249, 0.7696259060137947, 0.8206189795112392, 0.6096587171770712, 0.35987246187034816, 0.36963787101171297, 0.06146226042725178, 0.9235187995122378, 0.4484445654149698, 0.7707956367797929, 0.1089899575806117, 0.31996713334368965, 0.4844900624827774, 0.9691925886295525, 0.405980558943413, 0.3141699851394669, 0.8319285862152448, 0.9385689837905041, 0.36876302686579554, 0.8494770327747105, 0.5554269763621932, 0.3184368246805299, 0.416921188487299, 0.8904225738709849, 0.43055644209683686, 0.6699412043994428, 0.7261685278154307, 0.7020344131044898, 0.8778312278847916, 0.8304961543243505, 0.7581952294436111, 0.18884971020738517, 0.8187008889429002, 0.4284668572988325, 0.8873232642523045, 0.6666336030708067, 0.21663948951446488, 0.8109015089819773, 0.5567087386827458, 0.09119194263128705, 0.6218144454837483, 0.25264639183787385, 0.3807194481430154, 0.939592896099186, 0.8940071491427972]\n",
      "Name: theta epsilon, Vector: [0.918892789453167, 0.6810470667043885, 0.08481878194657466, 0.6663245154575039, 0.9941001395196927, 0.3512777073387614, 0.43418726152407583, 0.9077558790003688, 0.6111778397504095, 0.8597856778294524, 0.8146214422811485, 0.9245250023830663, 0.709212222213939, 0.9533457608647855, 0.6006962224950044, 0.7931752491471454, 0.8620201572295441, 0.2506495784565548, 0.7608381718458588, 0.8976812219803283, 0.7286940905979514, 0.3402069310015484, 0.5467841203436633, 0.020585719884905984, 0.7979327388952374, 0.2416161363919459, 0.45828733933729093, 0.4289463893023101, 0.8448231981618194, 0.719437361675462, 0.7394561006652732, 0.7116773522004726, 0.02009235965759182, 0.6985008991631687, 0.1671030113356432, 0.7494545121475098, 0.6837632270354883, 0.4250901672058154, 0.11831491997227994, 0.05069567184676449, 0.818756705361747, 0.714632221830276, 0.6415126497126491, 0.8716856875133684, 0.5857817816580716, 0.32675822630536056, 0.8558639970363447, 0.662501856392263, 0.411571971528486, 0.5925362934885676]\n",
      "Query executed in 0.04999279975891113 seconds\n"
     ]
    },
    {
     "name": "stderr",
     "output_type": "stream",
     "text": [
      "/tmp/ipykernel_28822/2567639947.py:45: ElasticsearchWarning: The vector functions of the form function(query, doc['field']) are deprecated, and the form function(query, 'field') should be used instead. For example, cosineSimilarity(query, doc['field']) is replaced by cosineSimilarity(query, 'field').\n",
      "  response = es.search(index=index_name, body=query)\n"
     ]
    }
   ],
   "source": [
    "### Setup variables\n",
    "es_host = \"http://localhost:9200\"  # Elasticsearch URL\n",
    "index_name = \"vectorstore\"  # Name of the index in Elasticsearch\n",
    "vector_field = \"vector\"  # Field name where vectors are stored\n",
    "query_vector = [0.7] * 50  # Example query vector (must match the dimensionality)\n",
    "n = 5  # Number of top recommendations to retrieve\n",
    "query_string = \"theta\"  # Replace with your search string\n",
    "\n",
    "## Model\n",
    "### Initialize Elasticsearch client\n",
    "es = Elasticsearch([es_host])\n",
    "\n",
    "\n",
    "## Model\n",
    "### Create the Elasticsearch query\n",
    "query = {\n",
    "    \"size\": n,\n",
    "    \"query\": {\n",
    "        \"bool\": {\n",
    "            \"must\": [\n",
    "                {\n",
    "                    \"match\": {\n",
    "                        \"name\": query_string  # Match documents having the query string in 'name'\n",
    "                    }\n",
    "                },\n",
    "                {\n",
    "                    \"script_score\": {\n",
    "                        \"query\": {\"match_all\": {}},  # Match all for scoring\n",
    "                        \"script\": {\n",
    "                            \"source\": \"cosineSimilarity(params.query_vector, doc['vector']) + 1.0\",\n",
    "                            \"params\": {\n",
    "                                \"query_vector\": query_vector\n",
    "                            },  # Use cosine similarity for scoring\n",
    "                        },\n",
    "                    }\n",
    "                },\n",
    "            ]\n",
    "        }\n",
    "    },\n",
    "    \"_source\": [\"name\", \"vector\"],  # Fetch 'name' and 'vector' fields in the response\n",
    "}\n",
    "starttime = time.time()\n",
    "\n",
    "### Execute the search query\n",
    "response = es.search(index=index_name, body=query)\n",
    "endtime = time.time()\n",
    "\n",
    "### Extract the hits (top recommendations)\n",
    "hits = response[\"hits\"][\"hits\"]\n",
    "\n",
    "## Output\n",
    "### Print the top `n` recommendations\n",
    "for hit in hits:\n",
    "    print(f\"Name: {hit['_source']['name']}, Vector: {hit['_source']['vector']}\")\n",
    "print(f\"Query executed in {endtime - starttime} seconds\")"
   ]
  },
  {
   "cell_type": "code",
   "execution_count": null,
   "metadata": {},
   "outputs": [],
   "source": [
    "\n",
    "\n",
    "## Output\n",
    "### Display the constructed query\n",
    "print(query)"
   ]
  },
  {
   "cell_type": "markdown",
   "metadata": {},
   "source": [
    "delete index\n"
   ]
  },
  {
   "cell_type": "code",
   "execution_count": null,
   "metadata": {},
   "outputs": [],
   "source": [
    "## Input\n",
    "### Import libraries\n",
    "from elasticsearch import Elasticsearch\n",
    "\n",
    "### Setup variables\n",
    "es_host = \"http://localhost:9200\"  # Elasticsearch URL\n",
    "index_name = \"vectorstore\"  # Name of the index you want to delete\n",
    "\n",
    "## Model\n",
    "### Initialize Elasticsearch client\n",
    "es = Elasticsearch([es_host])\n",
    "\n",
    "### Delete the index\n",
    "try:\n",
    "    response = es.indices.delete(\n",
    "        index=index_name, ignore=[400, 404]\n",
    "    )  # Ignore 400 and 404 errors if index does not exist\n",
    "    print(f\"Index '{index_name}' deleted successfully.\")\n",
    "except Exception as e:\n",
    "    print(f\"An error occurred: {e}\")"
   ]
  },
  {
   "cell_type": "code",
   "execution_count": null,
   "metadata": {},
   "outputs": [],
   "source": []
  }
 ],
 "metadata": {
  "kernelspec": {
   "display_name": "Python 3",
   "language": "python",
   "name": "python3"
  },
  "language_info": {
   "codemirror_mode": {
    "name": "ipython",
    "version": 3
   },
   "file_extension": ".py",
   "mimetype": "text/x-python",
   "name": "python",
   "nbconvert_exporter": "python",
   "pygments_lexer": "ipython3",
   "version": "3.11.0rc1"
  }
 },
 "nbformat": 4,
 "nbformat_minor": 2
}
