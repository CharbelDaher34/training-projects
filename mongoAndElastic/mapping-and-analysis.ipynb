{
 "cells": [
  {
   "cell_type": "code",
   "execution_count": 30,
   "metadata": {},
   "outputs": [],
   "source": [
    "from elasticsearch import Elasticsearch\n",
    "\n",
    "# Create an Elasticsearch client instance with authentication\n",
    "es = Elasticsearch(\n",
    "    \"https://localhost:9200\",  # Use https for SSL\n",
    "    basic_auth=(\n",
    "        \"elastic\",\n",
    "        \"8+6x+mXMgyoyi0F7Fi07\",\n",
    "    ),  # Replace with your username and password\n",
    "    verify_certs=False,  # Optional: Disable SSL certificate verification for development\n",
    "    ssl_show_warn=False,  # This will disable the warning\n",
    ")"
   ]
  },
  {
   "cell_type": "markdown",
   "metadata": {},
   "source": [
    "analyzer api\n"
   ]
  },
  {
   "cell_type": "code",
   "execution_count": 2,
   "metadata": {},
   "outputs": [
    {
     "name": "stderr",
     "output_type": "stream",
     "text": [
      "/home/charbel/.local/lib/python3.11/site-packages/urllib3/connectionpool.py:1099: InsecureRequestWarning: Unverified HTTPS request is being made to host 'localhost'. Adding certificate verification is strongly advised. See: https://urllib3.readthedocs.io/en/latest/advanced-usage.html#tls-warnings\n",
      "  warnings.warn(\n"
     ]
    },
    {
     "name": "stdout",
     "output_type": "stream",
     "text": [
      "{'tokens': [{'token': '2', 'start_offset': 0, 'end_offset': 1, 'type': '<NUM>', 'position': 0}, {'token': 'guys', 'start_offset': 2, 'end_offset': 6, 'type': '<ALPHANUM>', 'position': 1}, {'token': 'walk', 'start_offset': 7, 'end_offset': 11, 'type': '<ALPHANUM>', 'position': 2}, {'token': 'into', 'start_offset': 12, 'end_offset': 16, 'type': '<ALPHANUM>', 'position': 3}, {'token': 'a', 'start_offset': 19, 'end_offset': 20, 'type': '<ALPHANUM>', 'position': 4}, {'token': 'bar', 'start_offset': 21, 'end_offset': 24, 'type': '<ALPHANUM>', 'position': 5}, {'token': 'but', 'start_offset': 26, 'end_offset': 29, 'type': '<ALPHANUM>', 'position': 6}, {'token': 'the', 'start_offset': 30, 'end_offset': 33, 'type': '<ALPHANUM>', 'position': 7}, {'token': 'third', 'start_offset': 34, 'end_offset': 39, 'type': '<ALPHANUM>', 'position': 8}, {'token': 'ducks', 'start_offset': 43, 'end_offset': 48, 'type': '<ALPHANUM>', 'position': 9}]}\n"
     ]
    }
   ],
   "source": [
    "# Define the text to analyze\n",
    "text_to_analyze = \"2 guys walk into   a bar, but the third... DUCKS! :-)\"\n",
    "\n",
    "# Perform the analyze API call\n",
    "response = es.indices.analyze(\n",
    "    body={\"text\": text_to_analyze, \"analyzer\": \"standard\"},\n",
    ")\n",
    "\n",
    "# Print the response\n",
    "print(response)"
   ]
  },
  {
   "cell_type": "code",
   "execution_count": 3,
   "metadata": {},
   "outputs": [
    {
     "name": "stdout",
     "output_type": "stream",
     "text": [
      "{\n",
      "  \"tokens\": [\n",
      "    {\n",
      "      \"token\": \"2\",\n",
      "      \"start_offset\": 0,\n",
      "      \"end_offset\": 1,\n",
      "      \"type\": \"<NUM>\",\n",
      "      \"position\": 0\n",
      "    },\n",
      "    {\n",
      "      \"token\": \"guys\",\n",
      "      \"start_offset\": 2,\n",
      "      \"end_offset\": 6,\n",
      "      \"type\": \"<ALPHANUM>\",\n",
      "      \"position\": 1\n",
      "    },\n",
      "    {\n",
      "      \"token\": \"walk\",\n",
      "      \"start_offset\": 7,\n",
      "      \"end_offset\": 11,\n",
      "      \"type\": \"<ALPHANUM>\",\n",
      "      \"position\": 2\n",
      "    },\n",
      "    {\n",
      "      \"token\": \"into\",\n",
      "      \"start_offset\": 12,\n",
      "      \"end_offset\": 16,\n",
      "      \"type\": \"<ALPHANUM>\",\n",
      "      \"position\": 3\n",
      "    },\n",
      "    {\n",
      "      \"token\": \"a\",\n",
      "      \"start_offset\": 19,\n",
      "      \"end_offset\": 20,\n",
      "      \"type\": \"<ALPHANUM>\",\n",
      "      \"position\": 4\n",
      "    },\n",
      "    {\n",
      "      \"token\": \"bar\",\n",
      "      \"start_offset\": 21,\n",
      "      \"end_offset\": 24,\n",
      "      \"type\": \"<ALPHANUM>\",\n",
      "      \"position\": 5\n",
      "    },\n",
      "    {\n",
      "      \"token\": \"but\",\n",
      "      \"start_offset\": 26,\n",
      "      \"end_offset\": 29,\n",
      "      \"type\": \"<ALPHANUM>\",\n",
      "      \"position\": 6\n",
      "    },\n",
      "    {\n",
      "      \"token\": \"the\",\n",
      "      \"start_offset\": 30,\n",
      "      \"end_offset\": 33,\n",
      "      \"type\": \"<ALPHANUM>\",\n",
      "      \"position\": 7\n",
      "    },\n",
      "    {\n",
      "      \"token\": \"third\",\n",
      "      \"start_offset\": 34,\n",
      "      \"end_offset\": 39,\n",
      "      \"type\": \"<ALPHANUM>\",\n",
      "      \"position\": 8\n",
      "    },\n",
      "    {\n",
      "      \"token\": \"ducks\",\n",
      "      \"start_offset\": 43,\n",
      "      \"end_offset\": 48,\n",
      "      \"type\": \"<ALPHANUM>\",\n",
      "      \"position\": 9\n",
      "    }\n",
      "  ]\n",
      "}\n"
     ]
    },
    {
     "name": "stderr",
     "output_type": "stream",
     "text": [
      "/home/charbel/.local/lib/python3.11/site-packages/urllib3/connectionpool.py:1099: InsecureRequestWarning: Unverified HTTPS request is being made to host 'localhost'. Adding certificate verification is strongly advised. See: https://urllib3.readthedocs.io/en/latest/advanced-usage.html#tls-warnings\n",
      "  warnings.warn(\n"
     ]
    }
   ],
   "source": [
    "response = es.indices.analyze(\n",
    "    body={\n",
    "        \"text\": \"2 guys walk into   a bar, but the third... DUCKS! :-)\",\n",
    "        \"char_filter\": [],\n",
    "        \"tokenizer\": \"standard\",\n",
    "        \"filter\": [\"lowercase\"],\n",
    "    },\n",
    ")\n",
    "import json\n",
    "\n",
    "print(json.dumps(response.body, indent=2))"
   ]
  },
  {
   "cell_type": "markdown",
   "metadata": {},
   "source": [
    "analyse texts using keyword analyzer, it is used for exact searches\n"
   ]
  },
  {
   "cell_type": "code",
   "execution_count": 4,
   "metadata": {},
   "outputs": [
    {
     "name": "stdout",
     "output_type": "stream",
     "text": [
      "{\n",
      "  \"tokens\": [\n",
      "    {\n",
      "      \"token\": \"2 guys walk into   a bar, but the third... DUCKS! :-)\",\n",
      "      \"start_offset\": 0,\n",
      "      \"end_offset\": 53,\n",
      "      \"type\": \"word\",\n",
      "      \"position\": 0\n",
      "    }\n",
      "  ]\n",
      "}\n"
     ]
    },
    {
     "name": "stderr",
     "output_type": "stream",
     "text": [
      "/home/charbel/.local/lib/python3.11/site-packages/urllib3/connectionpool.py:1099: InsecureRequestWarning: Unverified HTTPS request is being made to host 'localhost'. Adding certificate verification is strongly advised. See: https://urllib3.readthedocs.io/en/latest/advanced-usage.html#tls-warnings\n",
      "  warnings.warn(\n"
     ]
    }
   ],
   "source": [
    "response = es.indices.analyze(\n",
    "    body={\n",
    "        \"text\": \"2 guys walk into   a bar, but the third... DUCKS! :-)\",\n",
    "        \"analyzer\": \"keyword\",\n",
    "    },\n",
    ")\n",
    "print(json.dumps(response.body, indent=2))"
   ]
  },
  {
   "cell_type": "markdown",
   "metadata": {},
   "source": [
    "coercion\n"
   ]
  },
  {
   "cell_type": "code",
   "execution_count": 5,
   "metadata": {},
   "outputs": [
    {
     "name": "stderr",
     "output_type": "stream",
     "text": [
      "/home/charbel/.local/lib/python3.11/site-packages/urllib3/connectionpool.py:1099: InsecureRequestWarning: Unverified HTTPS request is being made to host 'localhost'. Adding certificate verification is strongly advised. See: https://urllib3.readthedocs.io/en/latest/advanced-usage.html#tls-warnings\n",
      "  warnings.warn(\n"
     ]
    },
    {
     "data": {
      "text/plain": [
       "ObjectApiResponse({'error': {'root_cause': [{'type': 'index_not_found_exception', 'reason': 'no such index [coercion_test]', 'resource.type': 'index_or_alias', 'resource.id': 'coercion_test', 'index_uuid': '_na_', 'index': 'coercion_test'}], 'type': 'index_not_found_exception', 'reason': 'no such index [coercion_test]', 'resource.type': 'index_or_alias', 'resource.id': 'coercion_test', 'index_uuid': '_na_', 'index': 'coercion_test'}, 'status': 404})"
      ]
     },
     "execution_count": 5,
     "metadata": {},
     "output_type": "execute_result"
    }
   ],
   "source": [
    "es.options(ignore_status=[404]).indices.delete(index=\"coercion_test\")"
   ]
  },
  {
   "cell_type": "code",
   "execution_count": 6,
   "metadata": {},
   "outputs": [
    {
     "name": "stderr",
     "output_type": "stream",
     "text": [
      "/home/charbel/.local/lib/python3.11/site-packages/urllib3/connectionpool.py:1099: InsecureRequestWarning: Unverified HTTPS request is being made to host 'localhost'. Adding certificate verification is strongly advised. See: https://urllib3.readthedocs.io/en/latest/advanced-usage.html#tls-warnings\n",
      "  warnings.warn(\n",
      "/home/charbel/.local/lib/python3.11/site-packages/urllib3/connectionpool.py:1099: InsecureRequestWarning: Unverified HTTPS request is being made to host 'localhost'. Adding certificate verification is strongly advised. See: https://urllib3.readthedocs.io/en/latest/advanced-usage.html#tls-warnings\n",
      "  warnings.warn(\n",
      "/home/charbel/.local/lib/python3.11/site-packages/urllib3/connectionpool.py:1099: InsecureRequestWarning: Unverified HTTPS request is being made to host 'localhost'. Adding certificate verification is strongly advised. See: https://urllib3.readthedocs.io/en/latest/advanced-usage.html#tls-warnings\n",
      "  warnings.warn(\n"
     ]
    },
    {
     "ename": "BadRequestError",
     "evalue": "BadRequestError(400, 'document_parsing_exception', \"[1:10] failed to parse field [price] of type [float] in document with id '3'. Preview of field's value: 'f7.4'\")",
     "output_type": "error",
     "traceback": [
      "\u001b[0;31m---------------------------------------------------------------------------\u001b[0m",
      "\u001b[0;31mBadRequestError\u001b[0m                           Traceback (most recent call last)",
      "Cell \u001b[0;32mIn[6], line 5\u001b[0m\n\u001b[1;32m      1\u001b[0m response \u001b[38;5;241m=\u001b[39m es\u001b[38;5;241m.\u001b[39mindex(\n\u001b[1;32m      2\u001b[0m     index\u001b[38;5;241m=\u001b[39m\u001b[38;5;124m\"\u001b[39m\u001b[38;5;124mcoercion_test\u001b[39m\u001b[38;5;124m\"\u001b[39m, \u001b[38;5;28mid\u001b[39m\u001b[38;5;241m=\u001b[39m\u001b[38;5;241m1\u001b[39m, body\u001b[38;5;241m=\u001b[39m{\u001b[38;5;124m\"\u001b[39m\u001b[38;5;124mprice\u001b[39m\u001b[38;5;124m\"\u001b[39m: \u001b[38;5;241m7.4\u001b[39m}\n\u001b[1;32m      3\u001b[0m )  \u001b[38;5;66;03m# when indexing the first document, the types are configured by dynamic mapping\u001b[39;00m\n\u001b[1;32m      4\u001b[0m response \u001b[38;5;241m=\u001b[39m es\u001b[38;5;241m.\u001b[39mindex(index\u001b[38;5;241m=\u001b[39m\u001b[38;5;124m\"\u001b[39m\u001b[38;5;124mcoercion_test\u001b[39m\u001b[38;5;124m\"\u001b[39m, \u001b[38;5;28mid\u001b[39m\u001b[38;5;241m=\u001b[39m\u001b[38;5;241m2\u001b[39m, body\u001b[38;5;241m=\u001b[39m{\u001b[38;5;124m\"\u001b[39m\u001b[38;5;124mprice\u001b[39m\u001b[38;5;124m\"\u001b[39m: \u001b[38;5;124m\"\u001b[39m\u001b[38;5;124m7.4\u001b[39m\u001b[38;5;124m\"\u001b[39m})\n\u001b[0;32m----> 5\u001b[0m response \u001b[38;5;241m=\u001b[39m \u001b[43mes\u001b[49m\u001b[38;5;241;43m.\u001b[39;49m\u001b[43mindex\u001b[49m\u001b[43m(\u001b[49m\n\u001b[1;32m      6\u001b[0m \u001b[43m    \u001b[49m\u001b[43mindex\u001b[49m\u001b[38;5;241;43m=\u001b[39;49m\u001b[38;5;124;43m\"\u001b[39;49m\u001b[38;5;124;43mcoercion_test\u001b[39;49m\u001b[38;5;124;43m\"\u001b[39;49m\u001b[43m,\u001b[49m\u001b[43m \u001b[49m\u001b[38;5;28;43mid\u001b[39;49m\u001b[38;5;241;43m=\u001b[39;49m\u001b[38;5;241;43m3\u001b[39;49m\u001b[43m,\u001b[49m\u001b[43m \u001b[49m\u001b[43mbody\u001b[49m\u001b[38;5;241;43m=\u001b[39;49m\u001b[43m{\u001b[49m\u001b[38;5;124;43m\"\u001b[39;49m\u001b[38;5;124;43mprice\u001b[39;49m\u001b[38;5;124;43m\"\u001b[39;49m\u001b[43m:\u001b[49m\u001b[43m \u001b[49m\u001b[38;5;124;43m\"\u001b[39;49m\u001b[38;5;124;43mf7.4\u001b[39;49m\u001b[38;5;124;43m\"\u001b[39;49m\u001b[43m}\u001b[49m\n\u001b[1;32m      7\u001b[0m \u001b[43m)\u001b[49m  \u001b[38;5;66;03m# this gives error because of dynamic mapping, it puts the type as numerical\u001b[39;00m\n",
      "File \u001b[0;32m~/.local/lib/python3.11/site-packages/elasticsearch/_sync/client/utils.py:446\u001b[0m, in \u001b[0;36m_rewrite_parameters.<locals>.wrapper.<locals>.wrapped\u001b[0;34m(*args, **kwargs)\u001b[0m\n\u001b[1;32m    443\u001b[0m         \u001b[38;5;28;01mexcept\u001b[39;00m \u001b[38;5;167;01mKeyError\u001b[39;00m:\n\u001b[1;32m    444\u001b[0m             \u001b[38;5;28;01mpass\u001b[39;00m\n\u001b[0;32m--> 446\u001b[0m \u001b[38;5;28;01mreturn\u001b[39;00m \u001b[43mapi\u001b[49m\u001b[43m(\u001b[49m\u001b[38;5;241;43m*\u001b[39;49m\u001b[43margs\u001b[49m\u001b[43m,\u001b[49m\u001b[43m \u001b[49m\u001b[38;5;241;43m*\u001b[39;49m\u001b[38;5;241;43m*\u001b[39;49m\u001b[43mkwargs\u001b[49m\u001b[43m)\u001b[49m\n",
      "File \u001b[0;32m~/.local/lib/python3.11/site-packages/elasticsearch/_sync/client/__init__.py:2428\u001b[0m, in \u001b[0;36mElasticsearch.index\u001b[0;34m(self, index, document, body, id, error_trace, filter_path, human, if_primary_term, if_seq_no, op_type, pipeline, pretty, refresh, require_alias, routing, timeout, version, version_type, wait_for_active_shards)\u001b[0m\n\u001b[1;32m   2426\u001b[0m __body \u001b[38;5;241m=\u001b[39m document \u001b[38;5;28;01mif\u001b[39;00m document \u001b[38;5;129;01mis\u001b[39;00m \u001b[38;5;129;01mnot\u001b[39;00m \u001b[38;5;28;01mNone\u001b[39;00m \u001b[38;5;28;01melse\u001b[39;00m body\n\u001b[1;32m   2427\u001b[0m __headers \u001b[38;5;241m=\u001b[39m {\u001b[38;5;124m\"\u001b[39m\u001b[38;5;124maccept\u001b[39m\u001b[38;5;124m\"\u001b[39m: \u001b[38;5;124m\"\u001b[39m\u001b[38;5;124mapplication/json\u001b[39m\u001b[38;5;124m\"\u001b[39m, \u001b[38;5;124m\"\u001b[39m\u001b[38;5;124mcontent-type\u001b[39m\u001b[38;5;124m\"\u001b[39m: \u001b[38;5;124m\"\u001b[39m\u001b[38;5;124mapplication/json\u001b[39m\u001b[38;5;124m\"\u001b[39m}\n\u001b[0;32m-> 2428\u001b[0m \u001b[38;5;28;01mreturn\u001b[39;00m \u001b[38;5;28;43mself\u001b[39;49m\u001b[38;5;241;43m.\u001b[39;49m\u001b[43mperform_request\u001b[49m\u001b[43m(\u001b[49m\u001b[43m  \u001b[49m\u001b[38;5;66;43;03m# type: ignore[return-value]\u001b[39;49;00m\n\u001b[1;32m   2429\u001b[0m \u001b[43m    \u001b[49m\u001b[43m__method\u001b[49m\u001b[43m,\u001b[49m\n\u001b[1;32m   2430\u001b[0m \u001b[43m    \u001b[49m\u001b[43m__path\u001b[49m\u001b[43m,\u001b[49m\n\u001b[1;32m   2431\u001b[0m \u001b[43m    \u001b[49m\u001b[43mparams\u001b[49m\u001b[38;5;241;43m=\u001b[39;49m\u001b[43m__query\u001b[49m\u001b[43m,\u001b[49m\n\u001b[1;32m   2432\u001b[0m \u001b[43m    \u001b[49m\u001b[43mheaders\u001b[49m\u001b[38;5;241;43m=\u001b[39;49m\u001b[43m__headers\u001b[49m\u001b[43m,\u001b[49m\n\u001b[1;32m   2433\u001b[0m \u001b[43m    \u001b[49m\u001b[43mbody\u001b[49m\u001b[38;5;241;43m=\u001b[39;49m\u001b[43m__body\u001b[49m\u001b[43m,\u001b[49m\n\u001b[1;32m   2434\u001b[0m \u001b[43m    \u001b[49m\u001b[43mendpoint_id\u001b[49m\u001b[38;5;241;43m=\u001b[39;49m\u001b[38;5;124;43m\"\u001b[39;49m\u001b[38;5;124;43mindex\u001b[39;49m\u001b[38;5;124;43m\"\u001b[39;49m\u001b[43m,\u001b[49m\n\u001b[1;32m   2435\u001b[0m \u001b[43m    \u001b[49m\u001b[43mpath_parts\u001b[49m\u001b[38;5;241;43m=\u001b[39;49m\u001b[43m__path_parts\u001b[49m\u001b[43m,\u001b[49m\n\u001b[1;32m   2436\u001b[0m \u001b[43m\u001b[49m\u001b[43m)\u001b[49m\n",
      "File \u001b[0;32m~/.local/lib/python3.11/site-packages/elasticsearch/_sync/client/_base.py:271\u001b[0m, in \u001b[0;36mBaseClient.perform_request\u001b[0;34m(self, method, path, params, headers, body, endpoint_id, path_parts)\u001b[0m\n\u001b[1;32m    255\u001b[0m \u001b[38;5;28;01mdef\u001b[39;00m \u001b[38;5;21mperform_request\u001b[39m(\n\u001b[1;32m    256\u001b[0m     \u001b[38;5;28mself\u001b[39m,\n\u001b[1;32m    257\u001b[0m     method: \u001b[38;5;28mstr\u001b[39m,\n\u001b[0;32m   (...)\u001b[0m\n\u001b[1;32m    264\u001b[0m     path_parts: Optional[Mapping[\u001b[38;5;28mstr\u001b[39m, Any]] \u001b[38;5;241m=\u001b[39m \u001b[38;5;28;01mNone\u001b[39;00m,\n\u001b[1;32m    265\u001b[0m ) \u001b[38;5;241m-\u001b[39m\u001b[38;5;241m>\u001b[39m ApiResponse[Any]:\n\u001b[1;32m    266\u001b[0m     \u001b[38;5;28;01mwith\u001b[39;00m \u001b[38;5;28mself\u001b[39m\u001b[38;5;241m.\u001b[39m_otel\u001b[38;5;241m.\u001b[39mspan(\n\u001b[1;32m    267\u001b[0m         method,\n\u001b[1;32m    268\u001b[0m         endpoint_id\u001b[38;5;241m=\u001b[39mendpoint_id,\n\u001b[1;32m    269\u001b[0m         path_parts\u001b[38;5;241m=\u001b[39mpath_parts \u001b[38;5;129;01mor\u001b[39;00m {},\n\u001b[1;32m    270\u001b[0m     ) \u001b[38;5;28;01mas\u001b[39;00m otel_span:\n\u001b[0;32m--> 271\u001b[0m         response \u001b[38;5;241m=\u001b[39m \u001b[38;5;28;43mself\u001b[39;49m\u001b[38;5;241;43m.\u001b[39;49m\u001b[43m_perform_request\u001b[49m\u001b[43m(\u001b[49m\n\u001b[1;32m    272\u001b[0m \u001b[43m            \u001b[49m\u001b[43mmethod\u001b[49m\u001b[43m,\u001b[49m\n\u001b[1;32m    273\u001b[0m \u001b[43m            \u001b[49m\u001b[43mpath\u001b[49m\u001b[43m,\u001b[49m\n\u001b[1;32m    274\u001b[0m \u001b[43m            \u001b[49m\u001b[43mparams\u001b[49m\u001b[38;5;241;43m=\u001b[39;49m\u001b[43mparams\u001b[49m\u001b[43m,\u001b[49m\n\u001b[1;32m    275\u001b[0m \u001b[43m            \u001b[49m\u001b[43mheaders\u001b[49m\u001b[38;5;241;43m=\u001b[39;49m\u001b[43mheaders\u001b[49m\u001b[43m,\u001b[49m\n\u001b[1;32m    276\u001b[0m \u001b[43m            \u001b[49m\u001b[43mbody\u001b[49m\u001b[38;5;241;43m=\u001b[39;49m\u001b[43mbody\u001b[49m\u001b[43m,\u001b[49m\n\u001b[1;32m    277\u001b[0m \u001b[43m            \u001b[49m\u001b[43motel_span\u001b[49m\u001b[38;5;241;43m=\u001b[39;49m\u001b[43motel_span\u001b[49m\u001b[43m,\u001b[49m\n\u001b[1;32m    278\u001b[0m \u001b[43m        \u001b[49m\u001b[43m)\u001b[49m\n\u001b[1;32m    279\u001b[0m         otel_span\u001b[38;5;241m.\u001b[39mset_elastic_cloud_metadata(response\u001b[38;5;241m.\u001b[39mmeta\u001b[38;5;241m.\u001b[39mheaders)\n\u001b[1;32m    280\u001b[0m         \u001b[38;5;28;01mreturn\u001b[39;00m response\n",
      "File \u001b[0;32m~/.local/lib/python3.11/site-packages/elasticsearch/_sync/client/_base.py:352\u001b[0m, in \u001b[0;36mBaseClient._perform_request\u001b[0;34m(self, method, path, params, headers, body, otel_span)\u001b[0m\n\u001b[1;32m    349\u001b[0m         \u001b[38;5;28;01mexcept\u001b[39;00m (\u001b[38;5;167;01mValueError\u001b[39;00m, \u001b[38;5;167;01mKeyError\u001b[39;00m, \u001b[38;5;167;01mTypeError\u001b[39;00m):\n\u001b[1;32m    350\u001b[0m             \u001b[38;5;28;01mpass\u001b[39;00m\n\u001b[0;32m--> 352\u001b[0m     \u001b[38;5;28;01mraise\u001b[39;00m HTTP_EXCEPTIONS\u001b[38;5;241m.\u001b[39mget(meta\u001b[38;5;241m.\u001b[39mstatus, ApiError)(\n\u001b[1;32m    353\u001b[0m         message\u001b[38;5;241m=\u001b[39mmessage, meta\u001b[38;5;241m=\u001b[39mmeta, body\u001b[38;5;241m=\u001b[39mresp_body\n\u001b[1;32m    354\u001b[0m     )\n\u001b[1;32m    356\u001b[0m \u001b[38;5;66;03m# 'X-Elastic-Product: Elasticsearch' should be on every 2XX response.\u001b[39;00m\n\u001b[1;32m    357\u001b[0m \u001b[38;5;28;01mif\u001b[39;00m \u001b[38;5;129;01mnot\u001b[39;00m \u001b[38;5;28mself\u001b[39m\u001b[38;5;241m.\u001b[39m_verified_elasticsearch:\n\u001b[1;32m    358\u001b[0m     \u001b[38;5;66;03m# If the header is set we mark the server as verified.\u001b[39;00m\n",
      "\u001b[0;31mBadRequestError\u001b[0m: BadRequestError(400, 'document_parsing_exception', \"[1:10] failed to parse field [price] of type [float] in document with id '3'. Preview of field's value: 'f7.4'\")"
     ]
    }
   ],
   "source": [
    "response = es.index(\n",
    "    index=\"coercion_test\", id=1, body={\"price\": 7.4}\n",
    ")  # when indexing the first document, the types are configured by dynamic mapping\n",
    "response = es.index(index=\"coercion_test\", id=2, body={\"price\": \"7.4\"})\n",
    "response = es.index(\n",
    "    index=\"coercion_test\", id=3, body={\"price\": \"f7.4\"}\n",
    ")  # this gives error because of dynamic mapping, it puts the type as numerical"
   ]
  },
  {
   "cell_type": "markdown",
   "metadata": {},
   "source": [
    "Create and add data to an index with mappings\n"
   ]
  },
  {
   "cell_type": "code",
   "execution_count": 47,
   "metadata": {},
   "outputs": [],
   "source": [
    "es.options(ignore_status=[404]).indices.delete(index=\"reviews\")\n",
    "response = es.indices.create(\n",
    "    index=\"reviews\",\n",
    "    body={\n",
    "        \"mappings\": {\n",
    "            \"properties\": {\n",
    "                \"rating\": {\"type\": \"float\"},\n",
    "                \"content\": {\"type\": \"text\"},\n",
    "                \"product_id\": {\"type\": \"integer\"},\n",
    "                \"author\": {\n",
    "                    \"type\": \"nested\",  # Define as nested\n",
    "                    \"properties\": {\n",
    "                        \"first_name\": {\"type\": \"text\"},\n",
    "                        \"last_name\": {\"type\": \"text\"},\n",
    "                        \"email\": {\"type\": \"keyword\"},\n",
    "                    },\n",
    "                },\n",
    "            }\n",
    "        }\n",
    "    },\n",
    ")"
   ]
  },
  {
   "cell_type": "code",
   "execution_count": 48,
   "metadata": {},
   "outputs": [],
   "source": [
    "response = es.index(\n",
    "    index=\"reviews\",\n",
    "    id=1,\n",
    "    body={\n",
    "        \"rating\": 5.0,\n",
    "        \"content\": \"Outstanding course! Bo really taught me a lot about Elasticsearch!\",\n",
    "        \"product_id\": 123,\n",
    "        \"author\": {\n",
    "            \"first_name\": \"John\",\n",
    "            \"last_name\": \"Doe\",\n",
    "            \"email\": \"johndoe123@example.com\",\n",
    "        },\n",
    "    },\n",
    ")"
   ]
  },
  {
   "cell_type": "markdown",
   "metadata": {},
   "source": [
    "retrieve mappings\n"
   ]
  },
  {
   "cell_type": "code",
   "execution_count": 20,
   "metadata": {},
   "outputs": [
    {
     "name": "stdout",
     "output_type": "stream",
     "text": [
      "{\n",
      " \"reviews\": {\n",
      "  \"mappings\": {\n",
      "   \"properties\": {\n",
      "    \"author\": {\n",
      "     \"type\": \"nested\",\n",
      "     \"properties\": {\n",
      "      \"email\": {\n",
      "       \"type\": \"keyword\"\n",
      "      },\n",
      "      \"first_name\": {\n",
      "       \"type\": \"text\"\n",
      "      },\n",
      "      \"last_name\": {\n",
      "       \"type\": \"text\"\n",
      "      }\n",
      "     }\n",
      "    },\n",
      "    \"content\": {\n",
      "     \"type\": \"text\"\n",
      "    },\n",
      "    \"product_id\": {\n",
      "     \"type\": \"integer\"\n",
      "    },\n",
      "    \"rating\": {\n",
      "     \"type\": \"float\"\n",
      "    }\n",
      "   }\n",
      "  }\n",
      " }\n",
      "}\n"
     ]
    },
    {
     "name": "stderr",
     "output_type": "stream",
     "text": [
      "/home/charbel/.local/lib/python3.11/site-packages/urllib3/connectionpool.py:1099: InsecureRequestWarning: Unverified HTTPS request is being made to host 'localhost'. Adding certificate verification is strongly advised. See: https://urllib3.readthedocs.io/en/latest/advanced-usage.html#tls-warnings\n",
      "  warnings.warn(\n"
     ]
    }
   ],
   "source": [
    "response = es.indices.get_mapping(\n",
    "    index=\"reviews\",\n",
    ")\n",
    "print(json.dumps(response.body, indent=1))"
   ]
  },
  {
   "cell_type": "code",
   "execution_count": 15,
   "metadata": {},
   "outputs": [
    {
     "name": "stdout",
     "output_type": "stream",
     "text": [
      "{'type': 'text'}\n"
     ]
    }
   ],
   "source": [
    "content_mapping = response[\"reviews\"][\"mappings\"][\"properties\"][\"content\"]\n",
    "print(content_mapping)"
   ]
  },
  {
   "cell_type": "code",
   "execution_count": 16,
   "metadata": {},
   "outputs": [
    {
     "name": "stdout",
     "output_type": "stream",
     "text": [
      "{'type': 'keyword'}\n"
     ]
    }
   ],
   "source": [
    "author_email_mapping = response[\"reviews\"][\"mappings\"][\"properties\"][\"author\"][\n",
    "    \"properties\"\n",
    "][\"email\"]\n",
    "print(author_email_mapping)"
   ]
  },
  {
   "cell_type": "markdown",
   "metadata": {},
   "source": [
    "using dot notation to define mappings\n"
   ]
  },
  {
   "cell_type": "code",
   "execution_count": 21,
   "metadata": {},
   "outputs": [
    {
     "name": "stdout",
     "output_type": "stream",
     "text": [
      "{'acknowledged': True, 'shards_acknowledged': True, 'index': 'reviews_dot_notation'}\n"
     ]
    },
    {
     "name": "stderr",
     "output_type": "stream",
     "text": [
      "/home/charbel/.local/lib/python3.11/site-packages/urllib3/connectionpool.py:1099: InsecureRequestWarning: Unverified HTTPS request is being made to host 'localhost'. Adding certificate verification is strongly advised. See: https://urllib3.readthedocs.io/en/latest/advanced-usage.html#tls-warnings\n",
      "  warnings.warn(\n"
     ]
    }
   ],
   "source": [
    "mapping = {\n",
    "    \"mappings\": {\n",
    "        \"properties\": {\n",
    "            \"rating\": {\"type\": \"float\"},\n",
    "            \"content\": {\"type\": \"text\"},\n",
    "            \"product_id\": {\"type\": \"integer\"},\n",
    "            \"author.first_name\": {\"type\": \"text\"},\n",
    "            \"author.last_name\": {\"type\": \"text\"},\n",
    "            \"author.email\": {\"type\": \"keyword\"},\n",
    "        }\n",
    "    }\n",
    "}\n",
    "\n",
    "response = es.indices.create(index=\"reviews_dot_notation\", body=mapping)\n",
    "print(response)"
   ]
  },
  {
   "cell_type": "code",
   "execution_count": 22,
   "metadata": {},
   "outputs": [
    {
     "name": "stdout",
     "output_type": "stream",
     "text": [
      "{\n",
      " \"reviews_dot_notation\": {\n",
      "  \"mappings\": {\n",
      "   \"properties\": {\n",
      "    \"author\": {\n",
      "     \"properties\": {\n",
      "      \"email\": {\n",
      "       \"type\": \"keyword\"\n",
      "      },\n",
      "      \"first_name\": {\n",
      "       \"type\": \"text\"\n",
      "      },\n",
      "      \"last_name\": {\n",
      "       \"type\": \"text\"\n",
      "      }\n",
      "     }\n",
      "    },\n",
      "    \"content\": {\n",
      "     \"type\": \"text\"\n",
      "    },\n",
      "    \"product_id\": {\n",
      "     \"type\": \"integer\"\n",
      "    },\n",
      "    \"rating\": {\n",
      "     \"type\": \"float\"\n",
      "    }\n",
      "   }\n",
      "  }\n",
      " }\n",
      "}\n"
     ]
    },
    {
     "name": "stderr",
     "output_type": "stream",
     "text": [
      "/home/charbel/.local/lib/python3.11/site-packages/urllib3/connectionpool.py:1099: InsecureRequestWarning: Unverified HTTPS request is being made to host 'localhost'. Adding certificate verification is strongly advised. See: https://urllib3.readthedocs.io/en/latest/advanced-usage.html#tls-warnings\n",
      "  warnings.warn(\n"
     ]
    }
   ],
   "source": [
    "response = es.indices.get_mapping(\n",
    "    index=\"reviews_dot_notation\",\n",
    ")\n",
    "print(json.dumps(response.body, indent=1))"
   ]
  },
  {
   "cell_type": "markdown",
   "metadata": {},
   "source": [
    "add mapping to an existing index\n"
   ]
  },
  {
   "cell_type": "code",
   "execution_count": 23,
   "metadata": {},
   "outputs": [
    {
     "name": "stdout",
     "output_type": "stream",
     "text": [
      "{'acknowledged': True}\n"
     ]
    },
    {
     "name": "stderr",
     "output_type": "stream",
     "text": [
      "/home/charbel/.local/lib/python3.11/site-packages/urllib3/connectionpool.py:1099: InsecureRequestWarning: Unverified HTTPS request is being made to host 'localhost'. Adding certificate verification is strongly advised. See: https://urllib3.readthedocs.io/en/latest/advanced-usage.html#tls-warnings\n",
      "  warnings.warn(\n"
     ]
    }
   ],
   "source": [
    "update_mapping = {\"properties\": {\"created_at\": {\"type\": \"date\"}}}\n",
    "\n",
    "response = es.indices.put_mapping(index=\"reviews\", body=update_mapping)\n",
    "print(response)"
   ]
  },
  {
   "cell_type": "markdown",
   "metadata": {},
   "source": [
    "add data with different date formats\n",
    "\n",
    "do not use unix default values\n"
   ]
  },
  {
   "cell_type": "code",
   "execution_count": 49,
   "metadata": {},
   "outputs": [
    {
     "name": "stdout",
     "output_type": "stream",
     "text": [
      "{\n",
      " \"errors\": false,\n",
      " \"took\": 0,\n",
      " \"items\": [\n",
      "  {\n",
      "   \"index\": {\n",
      "    \"_index\": \"reviews\",\n",
      "    \"_id\": \"2\",\n",
      "    \"_version\": 1,\n",
      "    \"result\": \"created\",\n",
      "    \"_shards\": {\n",
      "     \"total\": 2,\n",
      "     \"successful\": 1,\n",
      "     \"failed\": 0\n",
      "    },\n",
      "    \"_seq_no\": 1,\n",
      "    \"_primary_term\": 1,\n",
      "    \"status\": 201\n",
      "   }\n",
      "  },\n",
      "  {\n",
      "   \"index\": {\n",
      "    \"_index\": \"reviews\",\n",
      "    \"_id\": \"3\",\n",
      "    \"_version\": 1,\n",
      "    \"result\": \"created\",\n",
      "    \"_shards\": {\n",
      "     \"total\": 2,\n",
      "     \"successful\": 1,\n",
      "     \"failed\": 0\n",
      "    },\n",
      "    \"_seq_no\": 2,\n",
      "    \"_primary_term\": 1,\n",
      "    \"status\": 201\n",
      "   }\n",
      "  },\n",
      "  {\n",
      "   \"index\": {\n",
      "    \"_index\": \"reviews\",\n",
      "    \"_id\": \"4\",\n",
      "    \"_version\": 1,\n",
      "    \"result\": \"created\",\n",
      "    \"_shards\": {\n",
      "     \"total\": 2,\n",
      "     \"successful\": 1,\n",
      "     \"failed\": 0\n",
      "    },\n",
      "    \"_seq_no\": 3,\n",
      "    \"_primary_term\": 1,\n",
      "    \"status\": 201\n",
      "   }\n",
      "  },\n",
      "  {\n",
      "   \"index\": {\n",
      "    \"_index\": \"reviews\",\n",
      "    \"_id\": \"5\",\n",
      "    \"_version\": 1,\n",
      "    \"result\": \"created\",\n",
      "    \"_shards\": {\n",
      "     \"total\": 2,\n",
      "     \"successful\": 1,\n",
      "     \"failed\": 0\n",
      "    },\n",
      "    \"_seq_no\": 4,\n",
      "    \"_primary_term\": 1,\n",
      "    \"status\": 201\n",
      "   }\n",
      "  }\n",
      " ]\n",
      "}\n"
     ]
    }
   ],
   "source": [
    "# Define the bulk request payload\n",
    "bulk_data = [\n",
    "    {\"index\": {\"_index\": \"reviews\", \"_id\": 2}},\n",
    "    {\n",
    "        \"rating\": 4.5,\n",
    "        \"content\": \"Not bad. Not bad at all!\",\n",
    "        \"product_id\": 123,\n",
    "        \"created_at\": \"2015-03-27\",\n",
    "        \"author\": {\n",
    "            \"first_name\": \"Average\",\n",
    "            \"last_name\": \"Joe\",\n",
    "            \"email\": \"avgjoe@example.com\",\n",
    "        },\n",
    "    },\n",
    "    {\"index\": {\"_index\": \"reviews\", \"_id\": 3}},\n",
    "    {\n",
    "        \"rating\": 3.5,\n",
    "        \"content\": \"Could be better\",\n",
    "        \"product_id\": 123,\n",
    "        \"created_at\": \"2015-04-15T13:07:41Z\",\n",
    "        \"author\": {\n",
    "            \"first_name\": \"Spencer\",\n",
    "            \"last_name\": \"Pearson\",\n",
    "            \"email\": \"spearson@example.com\",\n",
    "        },\n",
    "    },\n",
    "    {\"index\": {\"_index\": \"reviews\", \"_id\": 4}},\n",
    "    {\n",
    "        \"rating\": 5.0,\n",
    "        \"content\": \"Incredible!\",\n",
    "        \"product_id\": 123,\n",
    "        \"created_at\": \"2015-01-28T09:21:51+01:00\",\n",
    "        \"author\": {\n",
    "            \"first_name\": \"Adam\",\n",
    "            \"last_name\": \"Jones\",\n",
    "            \"email\": \"adam.jones@example.com\",\n",
    "        },\n",
    "    },\n",
    "    {\"index\": {\"_index\": \"reviews\", \"_id\": 5}},\n",
    "    {\n",
    "        \"rating\": 4.5,\n",
    "        \"content\": \"Very useful\",\n",
    "        \"product_id\": 123,\n",
    "        \"created_at\": 1436011284000,\n",
    "        \"author\": {\n",
    "            \"first_name\": \"Taylor\",\n",
    "            \"last_name\": \"West\",\n",
    "            \"email\": \"twest@example.com\",\n",
    "        },\n",
    "    },\n",
    "]\n",
    "\n",
    "# Send the bulk request\n",
    "response = es.bulk(body=bulk_data)\n",
    "print(json.dumps(response.body, indent=1))"
   ]
  },
  {
   "cell_type": "markdown",
   "metadata": {},
   "source": [
    "# Parameters for the mapping\n",
    "\n",
    "-When creating mappings, if a field is not used for sorting, aggregation or scripting, disable doc values parameter for it\n",
    "\n",
    "-norms field is used for relevance scoring, disable it for fields that are not used for relevance scoring\n",
    "\n",
    "-index parameter will enable and disable querying on the field\n",
    "\n",
    "-null_value : it specifies a value for a field if no value is given, it is mainly used to search for null values\n",
    "\n",
    "-copy_to is used to create a searchable field out of existing field (like first name and last name to full name)\n",
    "\n",
    "---\n",
    "\n",
    "Mappings cannot be updated nor deleted, we have to reindex the documents\n",
    "\n",
    "# This is how we reindex documents:\n"
   ]
  },
  {
   "cell_type": "markdown",
   "metadata": {},
   "source": [
    "we copy the mapping of the existing index\n"
   ]
  },
  {
   "cell_type": "code",
   "execution_count": 26,
   "metadata": {},
   "outputs": [
    {
     "name": "stdout",
     "output_type": "stream",
     "text": [
      "{\n",
      " \"reviews\": {\n",
      "  \"mappings\": {\n",
      "   \"properties\": {\n",
      "    \"author\": {\n",
      "     \"type\": \"nested\",\n",
      "     \"properties\": {\n",
      "      \"email\": {\n",
      "       \"type\": \"keyword\"\n",
      "      },\n",
      "      \"first_name\": {\n",
      "       \"type\": \"text\"\n",
      "      },\n",
      "      \"last_name\": {\n",
      "       \"type\": \"text\"\n",
      "      }\n",
      "     }\n",
      "    },\n",
      "    \"content\": {\n",
      "     \"type\": \"text\"\n",
      "    },\n",
      "    \"created_at\": {\n",
      "     \"type\": \"date\"\n",
      "    },\n",
      "    \"product_id\": {\n",
      "     \"type\": \"integer\"\n",
      "    },\n",
      "    \"rating\": {\n",
      "     \"type\": \"float\"\n",
      "    }\n",
      "   }\n",
      "  }\n",
      " }\n",
      "}\n"
     ]
    },
    {
     "name": "stderr",
     "output_type": "stream",
     "text": [
      "/home/charbel/.local/lib/python3.11/site-packages/urllib3/connectionpool.py:1099: InsecureRequestWarning: Unverified HTTPS request is being made to host 'localhost'. Adding certificate verification is strongly advised. See: https://urllib3.readthedocs.io/en/latest/advanced-usage.html#tls-warnings\n",
      "  warnings.warn(\n"
     ]
    }
   ],
   "source": [
    "response = es.indices.get_mapping(\n",
    "    index=\"reviews\",\n",
    ")\n",
    "print(json.dumps(response.body, indent=1))"
   ]
  },
  {
   "cell_type": "markdown",
   "metadata": {},
   "source": [
    "we create a new index with the update mapping\n"
   ]
  },
  {
   "cell_type": "code",
   "execution_count": 27,
   "metadata": {},
   "outputs": [
    {
     "name": "stderr",
     "output_type": "stream",
     "text": [
      "/home/charbel/.local/lib/python3.11/site-packages/urllib3/connectionpool.py:1099: InsecureRequestWarning: Unverified HTTPS request is being made to host 'localhost'. Adding certificate verification is strongly advised. See: https://urllib3.readthedocs.io/en/latest/advanced-usage.html#tls-warnings\n",
      "  warnings.warn(\n"
     ]
    },
    {
     "name": "stdout",
     "output_type": "stream",
     "text": [
      "{'acknowledged': True, 'shards_acknowledged': True, 'index': 'reviews_new'}\n"
     ]
    }
   ],
   "source": [
    "# Define the mappings for the index\n",
    "mappings = {\n",
    "    \"mappings\": {\n",
    "        \"properties\": {\n",
    "            \"author\": {\n",
    "                \"type\": \"nested\",\n",
    "                \"properties\": {\n",
    "                    \"email\": {\"type\": \"keyword\"},\n",
    "                    \"first_name\": {\"type\": \"text\"},\n",
    "                    \"last_name\": {\"type\": \"text\"},\n",
    "                },\n",
    "            },\n",
    "            \"content\": {\"type\": \"text\"},\n",
    "            \"created_at\": {\"type\": \"date\"},\n",
    "            \"product_id\": {\"type\": \"keyword\"},\n",
    "            \"rating\": {\"type\": \"float\"},\n",
    "        }\n",
    "    }\n",
    "}\n",
    "# Create the new index with the specified mappings\n",
    "response = es.indices.create(index=\"reviews_new\", body=mappings)\n",
    "print(response)"
   ]
  },
  {
   "cell_type": "markdown",
   "metadata": {},
   "source": [
    "reindex everything\n"
   ]
  },
  {
   "cell_type": "code",
   "execution_count": 28,
   "metadata": {},
   "outputs": [
    {
     "name": "stderr",
     "output_type": "stream",
     "text": [
      "/home/charbel/.local/lib/python3.11/site-packages/urllib3/connectionpool.py:1099: InsecureRequestWarning: Unverified HTTPS request is being made to host 'localhost'. Adding certificate verification is strongly advised. See: https://urllib3.readthedocs.io/en/latest/advanced-usage.html#tls-warnings\n",
      "  warnings.warn(\n"
     ]
    },
    {
     "name": "stdout",
     "output_type": "stream",
     "text": [
      "{'took': 304, 'timed_out': False, 'total': 5, 'updated': 0, 'created': 5, 'deleted': 0, 'batches': 1, 'version_conflicts': 0, 'noops': 0, 'retries': {'bulk': 0, 'search': 0}, 'throttled_millis': 0, 'requests_per_second': -1.0, 'throttled_until_millis': 0, 'failures': []}\n"
     ]
    }
   ],
   "source": [
    "# Define the reindex body\n",
    "reindex_body = {\"source\": {\"index\": \"reviews\"}, \"dest\": {\"index\": \"reviews_new\"}}\n",
    "\n",
    "# Perform the reindex operation\n",
    "response = es.reindex(body=reindex_body)\n",
    "print(response)"
   ]
  },
  {
   "cell_type": "markdown",
   "metadata": {},
   "source": [
    "reindex everything and making sure the product_id is converted to a string for it to be returned as a string\n"
   ]
  },
  {
   "cell_type": "code",
   "execution_count": 46,
   "metadata": {},
   "outputs": [
    {
     "name": "stdout",
     "output_type": "stream",
     "text": [
      "{'took': 4, 'timed_out': False, 'total': 0, 'deleted': 0, 'batches': 0, 'version_conflicts': 0, 'noops': 0, 'retries': {'bulk': 0, 'search': 0}, 'throttled_millis': 0, 'requests_per_second': -1.0, 'throttled_until_millis': 0, 'failures': []}\n",
      "{'took': 5, 'timed_out': False, 'total': 0, 'updated': 0, 'created': 0, 'deleted': 0, 'batches': 0, 'version_conflicts': 0, 'noops': 0, 'retries': {'bulk': 0, 'search': 0}, 'throttled_millis': 0, 'requests_per_second': -1.0, 'throttled_until_millis': 0, 'failures': []}\n"
     ]
    }
   ],
   "source": [
    "# Delete all documents from reviews_new\n",
    "delete_query = {\"query\": {\"match_all\": {}}}\n",
    "\n",
    "delete_response = es.options(ignore_status=[404, 400]).delete_by_query(\n",
    "    index=\"reviews_new\", body=delete_query\n",
    ")\n",
    "print(delete_response)\n",
    "\n",
    "# Reindex from reviews to reviews_new, with a script to convert product_id to string\n",
    "reindex_body = {\n",
    "    \"source\": {\"index\": \"reviews\"},\n",
    "    \"dest\": {\"index\": \"reviews_new\"},\n",
    "    \"script\": {\n",
    "        \"source\": \"\"\"\n",
    "            if (ctx._source.product_id != null) {\n",
    "                ctx._source.product_id = ctx._source.product_id.toString();\n",
    "            }\n",
    "        \"\"\"\n",
    "    },\n",
    "}\n",
    "\n",
    "reindex_response = es.reindex(body=reindex_body)\n",
    "print(reindex_response)"
   ]
  },
  {
   "cell_type": "markdown",
   "metadata": {},
   "source": [
    "reindex documents based on a certain query\n"
   ]
  },
  {
   "cell_type": "code",
   "execution_count": 38,
   "metadata": {},
   "outputs": [
    {
     "name": "stdout",
     "output_type": "stream",
     "text": [
      "{'took': 29, 'timed_out': False, 'total': 5, 'updated': 5, 'created': 0, 'deleted': 0, 'batches': 1, 'version_conflicts': 0, 'noops': 0, 'retries': {'bulk': 0, 'search': 0}, 'throttled_millis': 0, 'requests_per_second': -1.0, 'throttled_until_millis': 0, 'failures': []}\n"
     ]
    }
   ],
   "source": [
    "# Reindex from reviews to reviews_new with a match_all query\n",
    "reindex_body = {\n",
    "    \"source\": {\"index\": \"reviews\", \"query\": {\"match_all\": {}}},\n",
    "    \"dest\": {\"index\": \"reviews_new\"},\n",
    "}\n",
    "\n",
    "# Execute the reindex operation\n",
    "reindex_response = es.reindex(body=reindex_body)\n",
    "print(reindex_response)"
   ]
  },
  {
   "cell_type": "markdown",
   "metadata": {},
   "source": [
    "reindexing only documents with positive >4 rating\n"
   ]
  },
  {
   "cell_type": "code",
   "execution_count": null,
   "metadata": {},
   "outputs": [],
   "source": [
    "# Reindex from reviews to reviews_new with a range query on rating\n",
    "reindex_body = {\n",
    "    \"source\": {\"index\": \"reviews\", \"query\": {\"range\": {\"rating\": {\"gte\": 4.0}}}},\n",
    "    \"dest\": {\"index\": \"reviews_new\"},\n",
    "}\n",
    "\n",
    "# Execute the reindex operation\n",
    "reindex_response = es.reindex(body=reindex_body)\n",
    "print(reindex_response)"
   ]
  },
  {
   "cell_type": "markdown",
   "metadata": {},
   "source": [
    "removing fields before reindexing by specifying only the fields that i want to index\n"
   ]
  },
  {
   "cell_type": "code",
   "execution_count": 50,
   "metadata": {},
   "outputs": [
    {
     "name": "stdout",
     "output_type": "stream",
     "text": [
      "{'took': 42, 'timed_out': False, 'total': 5, 'updated': 0, 'created': 5, 'deleted': 0, 'batches': 1, 'version_conflicts': 0, 'noops': 0, 'retries': {'bulk': 0, 'search': 0}, 'throttled_millis': 0, 'requests_per_second': -1.0, 'throttled_until_millis': 0, 'failures': []}\n"
     ]
    }
   ],
   "source": [
    "# Reindex from reviews to reviews_new, specifying the fields to include\n",
    "reindex_body = {\n",
    "    \"source\": {\n",
    "        \"index\": \"reviews\",\n",
    "        \"_source\": [\"content\", \"created_at\", \"rating\"],  # Specify the fields to include\n",
    "    },\n",
    "    \"dest\": {\"index\": \"reviews_new\"},\n",
    "}\n",
    "\n",
    "# Execute the reindex operation\n",
    "reindex_response = es.reindex(body=reindex_body)\n",
    "print(reindex_response)"
   ]
  },
  {
   "cell_type": "markdown",
   "metadata": {},
   "source": [
    "renaming fields before reindexing\n"
   ]
  },
  {
   "cell_type": "code",
   "execution_count": 51,
   "metadata": {},
   "outputs": [
    {
     "name": "stdout",
     "output_type": "stream",
     "text": [
      "{'took': 105, 'timed_out': False, 'total': 5, 'updated': 5, 'created': 0, 'deleted': 0, 'batches': 1, 'version_conflicts': 0, 'noops': 0, 'retries': {'bulk': 0, 'search': 0}, 'throttled_millis': 0, 'requests_per_second': -1.0, 'throttled_until_millis': 0, 'failures': []}\n"
     ]
    }
   ],
   "source": [
    "# Reindex from reviews to reviews_new, renaming \"content\" to \"comment\"\n",
    "reindex_body = {\n",
    "    \"source\": {\"index\": \"reviews\"},\n",
    "    \"dest\": {\"index\": \"reviews_new\"},\n",
    "    \"script\": {\n",
    "        \"source\": \"\"\"\n",
    "            // Rename \"content\" field to \"comment\"\n",
    "            ctx._source.comment = ctx._source.remove(\"content\");\n",
    "        \"\"\"\n",
    "    },\n",
    "}\n",
    "\n",
    "# Execute the reindex operation\n",
    "reindex_response = es.reindex(body=reindex_body)\n",
    "print(reindex_response)"
   ]
  },
  {
   "cell_type": "markdown",
   "metadata": {},
   "source": [
    "ignoring the fields below 4 rating\n"
   ]
  },
  {
   "cell_type": "code",
   "execution_count": null,
   "metadata": {},
   "outputs": [],
   "source": [
    "# Reindex from reviews to reviews_new, skipping documents with rating < 4.0\n",
    "reindex_body = {\n",
    "    \"source\": {\"index\": \"reviews\"},\n",
    "    \"dest\": {\"index\": \"reviews_new\"},\n",
    "    \"script\": {\n",
    "        \"source\": \"\"\"\n",
    "            if (ctx._source.rating < 4.0) {\n",
    "                ctx.op = \"noop\";  // Skip this document\n",
    "            }\n",
    "        \"\"\"\n",
    "    },\n",
    "}\n",
    "\n",
    "# Execute the reindex operation\n",
    "reindex_response = es.reindex(body=reindex_body)\n",
    "print(reindex_response)"
   ]
  },
  {
   "cell_type": "markdown",
   "metadata": {},
   "source": [
    "use alias to only use another name for a certain field\n"
   ]
  },
  {
   "cell_type": "code",
   "execution_count": 52,
   "metadata": {},
   "outputs": [
    {
     "name": "stdout",
     "output_type": "stream",
     "text": [
      "{'acknowledged': True}\n"
     ]
    }
   ],
   "source": [
    "# Update the mapping to create an alias for the \"content\" field\n",
    "mapping_body = {\"properties\": {\"comment\": {\"type\": \"alias\", \"path\": \"content\"}}}\n",
    "\n",
    "# Execute the mapping update\n",
    "update_response = es.indices.put_mapping(index=\"reviews\", body=mapping_body)\n",
    "print(update_response)"
   ]
  },
  {
   "cell_type": "markdown",
   "metadata": {},
   "source": [
    "multi mapping fields,\n"
   ]
  },
  {
   "cell_type": "code",
   "execution_count": 58,
   "metadata": {},
   "outputs": [
    {
     "name": "stdout",
     "output_type": "stream",
     "text": [
      "{'error': {'root_cause': [{'type': 'resource_already_exists_exception', 'reason': 'index [multi_field_test/Uva3OcE8T3ukqQWvbUw6fw] already exists', 'index_uuid': 'Uva3OcE8T3ukqQWvbUw6fw', 'index': 'multi_field_test'}], 'type': 'resource_already_exists_exception', 'reason': 'index [multi_field_test/Uva3OcE8T3ukqQWvbUw6fw] already exists', 'index_uuid': 'Uva3OcE8T3ukqQWvbUw6fw', 'index': 'multi_field_test'}, 'status': 400}\n"
     ]
    }
   ],
   "source": [
    "# Define the index mapping\n",
    "mapping_body = {\n",
    "    \"mappings\": {\n",
    "        \"properties\": {\n",
    "            \"description\": {\"type\": \"text\"},\n",
    "            \"ingredients\": {\"type\": \"text\", \"fields\": {\"keyword\": {\"type\": \"keyword\"}}},\n",
    "        }\n",
    "    }\n",
    "}\n",
    "\n",
    "# Create the index with the specified mapping\n",
    "create_index_response = es.options(ignore_status=[404, 400]).indices.create(\n",
    "    index=\"multi_field_test\", body=mapping_body\n",
    ")\n",
    "print(create_index_response)"
   ]
  },
  {
   "cell_type": "code",
   "execution_count": 59,
   "metadata": {},
   "outputs": [
    {
     "name": "stdout",
     "output_type": "stream",
     "text": [
      "Document indexed: {'_index': 'multi_field_test', '_id': 'NJBWs5IBumrHF_x884KY', '_version': 1, 'result': 'created', '_shards': {'total': 2, 'successful': 1, 'failed': 0}, '_seq_no': 3, '_primary_term': 1}\n",
      "All documents: [{'_index': 'multi_field_test', '_id': 'MZBVs5IBumrHF_x8v4KB', '_score': 1.0, '_source': {'description': 'To make this spaghetti carbonara, you first need to...', 'ingredients': ['Spaghetti', 'Bacon', 'Eggs']}}, {'_index': 'multi_field_test', '_id': 'MpBWs5IBumrHF_x8UILJ', '_score': 1.0, '_source': {'description': 'To make this spaghetti carbonara, you first need to...', 'ingredients': ['Spaghetti', 'Bacon', 'Eggs']}}, {'_index': 'multi_field_test', '_id': 'M5BWs5IBumrHF_x8lIIM', '_score': 1.0, '_source': {'description': 'To make this spaghetti carbonara, you first need to...', 'ingredients': ['Spaghetti', 'Bacon', 'Eggs']}}]\n",
      "Match search result: [{'_index': 'multi_field_test', '_id': 'MZBVs5IBumrHF_x8v4KB', '_score': 0.13353139, '_source': {'description': 'To make this spaghetti carbonara, you first need to...', 'ingredients': ['Spaghetti', 'Bacon', 'Eggs']}}, {'_index': 'multi_field_test', '_id': 'MpBWs5IBumrHF_x8UILJ', '_score': 0.13353139, '_source': {'description': 'To make this spaghetti carbonara, you first need to...', 'ingredients': ['Spaghetti', 'Bacon', 'Eggs']}}, {'_index': 'multi_field_test', '_id': 'M5BWs5IBumrHF_x8lIIM', '_score': 0.13353139, '_source': {'description': 'To make this spaghetti carbonara, you first need to...', 'ingredients': ['Spaghetti', 'Bacon', 'Eggs']}}]\n",
      "Term search result: [{'_index': 'multi_field_test', '_id': 'MZBVs5IBumrHF_x8v4KB', '_score': 0.18360566, '_source': {'description': 'To make this spaghetti carbonara, you first need to...', 'ingredients': ['Spaghetti', 'Bacon', 'Eggs']}}, {'_index': 'multi_field_test', '_id': 'MpBWs5IBumrHF_x8UILJ', '_score': 0.18360566, '_source': {'description': 'To make this spaghetti carbonara, you first need to...', 'ingredients': ['Spaghetti', 'Bacon', 'Eggs']}}, {'_index': 'multi_field_test', '_id': 'M5BWs5IBumrHF_x8lIIM', '_score': 0.18360566, '_source': {'description': 'To make this spaghetti carbonara, you first need to...', 'ingredients': ['Spaghetti', 'Bacon', 'Eggs']}}]\n"
     ]
    }
   ],
   "source": [
    "# Index a document\n",
    "doc_body = {\n",
    "    \"description\": \"To make this spaghetti carbonara, you first need to...\",\n",
    "    \"ingredients\": [\"Spaghetti\", \"Bacon\", \"Eggs\"],\n",
    "}\n",
    "index_response = es.index(index=\"multi_field_test\", body=doc_body)\n",
    "print(\"Document indexed:\", index_response)\n",
    "\n",
    "# Search for all documents\n",
    "search_all_response = es.search(\n",
    "    index=\"multi_field_test\", body={\"query\": {\"match_all\": {}}}\n",
    ")\n",
    "print(\"All documents:\", search_all_response[\"hits\"][\"hits\"])\n",
    "\n",
    "# Search for documents with ingredients matching \"Spaghetti\"\n",
    "match_search_response = es.search(\n",
    "    index=\"multi_field_test\", body={\"query\": {\"match\": {\"ingredients\": \"Spaghetti\"}}}\n",
    ")\n",
    "print(\"Match search result:\", match_search_response[\"hits\"][\"hits\"])\n",
    "\n",
    "# Search for documents with exact match for ingredients.keyword \"Spaghetti\"\n",
    "term_search_response = es.search(\n",
    "    index=\"multi_field_test\",\n",
    "    body={\"query\": {\"term\": {\"ingredients.keyword\": \"Spaghetti\"}}},\n",
    ")\n",
    "print(\"Term search result:\", term_search_response[\"hits\"][\"hits\"])"
   ]
  },
  {
   "cell_type": "markdown",
   "metadata": {},
   "source": [
    "# Index patterns\n"
   ]
  },
  {
   "cell_type": "markdown",
   "metadata": {},
   "source": [
    "adds a new index template\n"
   ]
  },
  {
   "cell_type": "code",
   "execution_count": 61,
   "metadata": {},
   "outputs": [
    {
     "name": "stdout",
     "output_type": "stream",
     "text": [
      "Template creation response: {'acknowledged': True}\n"
     ]
    }
   ],
   "source": [
    "# Define the index template\n",
    "index_template_body = {\n",
    "    \"index_patterns\": [\"access-logs-*\"],\n",
    "    \"template\": {\n",
    "        \"settings\": {\"number_of_shards\": 2, \"index.mapping.coerce\": False},\n",
    "        \"mappings\": {\n",
    "            \"properties\": {\n",
    "                \"@timestamp\": {\"type\": \"date\"},\n",
    "                \"url.original\": {\"type\": \"wildcard\"},\n",
    "                \"url.path\": {\"type\": \"wildcard\"},\n",
    "                \"url.scheme\": {\"type\": \"keyword\"},\n",
    "                \"url.domain\": {\"type\": \"keyword\"},\n",
    "                \"client.geo.continent_name\": {\"type\": \"keyword\"},\n",
    "                \"client.geo.country_name\": {\"type\": \"keyword\"},\n",
    "                \"client.geo.region_name\": {\"type\": \"keyword\"},\n",
    "                \"client.geo.city_name\": {\"type\": \"keyword\"},\n",
    "                \"user_agent.original\": {\"type\": \"keyword\"},\n",
    "                \"user_agent.name\": {\"type\": \"keyword\"},\n",
    "                \"user_agent.version\": {\"type\": \"keyword\"},\n",
    "                \"user_agent.device.name\": {\"type\": \"keyword\"},\n",
    "                \"user_agent.os.name\": {\"type\": \"keyword\"},\n",
    "                \"user_agent.os.version\": {\"type\": \"keyword\"},\n",
    "            }\n",
    "        },\n",
    "    },\n",
    "}\n",
    "\n",
    "# Create the index template\n",
    "response = es.indices.put_index_template(name=\"access-logs\", body=index_template_body)\n",
    "print(\"Template creation response:\", response)"
   ]
  },
  {
   "cell_type": "code",
   "execution_count": 63,
   "metadata": {},
   "outputs": [
    {
     "name": "stdout",
     "output_type": "stream",
     "text": [
      "{'_index': 'access-logs-2023-01', '_id': 'NpBws5IBumrHF_x83oKb', '_version': 1, 'result': 'created', '_shards': {'total': 2, 'successful': 1, 'failed': 0}, '_seq_no': 1, '_primary_term': 1}\n"
     ]
    }
   ],
   "source": [
    "# Document to be indexed\n",
    "doc = {\n",
    "    \"@timestamp\": \"2023-01-01T00:00:00Z\",\n",
    "    \"url.original\": \"https://example.com/products\",\n",
    "    \"url.path\": \"/products\",\n",
    "    \"url.scheme\": \"https\",\n",
    "    \"url.domain\": \"example.com\",\n",
    "    \"client.geo.continent_name\": \"Europe\",\n",
    "    \"client.geo.country_name\": \"Denmark\",\n",
    "    \"client.geo.region_name\": \"Capital City Region\",\n",
    "    \"client.geo.city_name\": \"Copenhagen\",\n",
    "    \"user_agent.original\": \"Mozilla/5.0 (iPhone; CPU iPhone OS 12_1 like Mac OS X) AppleWebKit/605.1.15 (KHTML, like Gecko) Version/12.0 Mobile/15E148 Safari/604.1\",\n",
    "    \"user_agent.name\": \"Safari\",\n",
    "    \"user_agent.version\": \"12.0\",\n",
    "    \"user_agent.device.name\": \"iPhone\",\n",
    "    \"user_agent.os.name\": \"iOS\",\n",
    "    \"user_agent.os.version\": \"12.1.0\",\n",
    "}\n",
    "\n",
    "# Index the document into the access-logs-2023-01 index\n",
    "response = es.index(index=\"access-logs-2023-01\", document=doc)\n",
    "\n",
    "# Output response from Elasticsearch\n",
    "print(response)"
   ]
  },
  {
   "cell_type": "markdown",
   "metadata": {},
   "source": [
    "create an index with a pattern but with modified settings\n"
   ]
  },
  {
   "cell_type": "code",
   "execution_count": 64,
   "metadata": {},
   "outputs": [
    {
     "name": "stdout",
     "output_type": "stream",
     "text": [
      "{'acknowledged': True, 'shards_acknowledged': True, 'index': 'access-logs-2023-02'}\n"
     ]
    }
   ],
   "source": [
    "# Define the settings and mappings for the index\n",
    "index_body = {\n",
    "    \"settings\": {\"number_of_shards\": 1},\n",
    "    \"mappings\": {\"properties\": {\"url.query\": {\"type\": \"keyword\"}}},\n",
    "}\n",
    "\n",
    "# Create the index with the specified settings and mappings\n",
    "response = es.indices.create(index=\"access-logs-2023-02\", body=index_body)\n",
    "\n",
    "# Output the response from Elasticsearch\n",
    "print(response)"
   ]
  },
  {
   "cell_type": "code",
   "execution_count": 67,
   "metadata": {},
   "outputs": [
    {
     "name": "stdout",
     "output_type": "stream",
     "text": [
      "access-logs-2023-01: {\n",
      " \"access-logs-2023-01\": {\n",
      "  \"aliases\": {},\n",
      "  \"mappings\": {\n",
      "   \"properties\": {\n",
      "    \"@timestamp\": {\n",
      "     \"type\": \"date\"\n",
      "    },\n",
      "    \"client\": {\n",
      "     \"properties\": {\n",
      "      \"geo\": {\n",
      "       \"properties\": {\n",
      "        \"city_name\": {\n",
      "         \"type\": \"keyword\"\n",
      "        },\n",
      "        \"continent_name\": {\n",
      "         \"type\": \"keyword\"\n",
      "        },\n",
      "        \"country_name\": {\n",
      "         \"type\": \"keyword\"\n",
      "        },\n",
      "        \"region_name\": {\n",
      "         \"type\": \"keyword\"\n",
      "        }\n",
      "       }\n",
      "      }\n",
      "     }\n",
      "    },\n",
      "    \"url\": {\n",
      "     \"properties\": {\n",
      "      \"domain\": {\n",
      "       \"type\": \"keyword\"\n",
      "      },\n",
      "      \"original\": {\n",
      "       \"type\": \"wildcard\"\n",
      "      },\n",
      "      \"path\": {\n",
      "       \"type\": \"wildcard\"\n",
      "      },\n",
      "      \"scheme\": {\n",
      "       \"type\": \"keyword\"\n",
      "      }\n",
      "     }\n",
      "    },\n",
      "    \"user_agent\": {\n",
      "     \"properties\": {\n",
      "      \"device\": {\n",
      "       \"properties\": {\n",
      "        \"name\": {\n",
      "         \"type\": \"keyword\"\n",
      "        }\n",
      "       }\n",
      "      },\n",
      "      \"name\": {\n",
      "       \"type\": \"keyword\"\n",
      "      },\n",
      "      \"original\": {\n",
      "       \"type\": \"keyword\"\n",
      "      },\n",
      "      \"os\": {\n",
      "       \"properties\": {\n",
      "        \"name\": {\n",
      "         \"type\": \"keyword\"\n",
      "        },\n",
      "        \"version\": {\n",
      "         \"type\": \"keyword\"\n",
      "        }\n",
      "       }\n",
      "      },\n",
      "      \"version\": {\n",
      "       \"type\": \"keyword\"\n",
      "      }\n",
      "     }\n",
      "    }\n",
      "   }\n",
      "  },\n",
      "  \"settings\": {\n",
      "   \"index\": {\n",
      "    \"routing\": {\n",
      "     \"allocation\": {\n",
      "      \"include\": {\n",
      "       \"_tier_preference\": \"data_content\"\n",
      "      }\n",
      "     }\n",
      "    },\n",
      "    \"mapping\": {\n",
      "     \"coerce\": \"false\"\n",
      "    },\n",
      "    \"number_of_shards\": \"2\",\n",
      "    \"provided_name\": \"access-logs-2023-01\",\n",
      "    \"creation_date\": \"1729587310327\",\n",
      "    \"number_of_replicas\": \"1\",\n",
      "    \"uuid\": \"JlEBqjIHRjW3JmdqKMD-Vg\",\n",
      "    \"version\": {\n",
      "     \"created\": \"8512000\"\n",
      "    }\n",
      "   }\n",
      "  }\n",
      " }\n",
      "}\n",
      "access-logs-2023-02: {\n",
      " \"access-logs-2023-02\": {\n",
      "  \"aliases\": {},\n",
      "  \"mappings\": {\n",
      "   \"properties\": {\n",
      "    \"@timestamp\": {\n",
      "     \"type\": \"date\"\n",
      "    },\n",
      "    \"client\": {\n",
      "     \"properties\": {\n",
      "      \"geo\": {\n",
      "       \"properties\": {\n",
      "        \"city_name\": {\n",
      "         \"type\": \"keyword\"\n",
      "        },\n",
      "        \"continent_name\": {\n",
      "         \"type\": \"keyword\"\n",
      "        },\n",
      "        \"country_name\": {\n",
      "         \"type\": \"keyword\"\n",
      "        },\n",
      "        \"region_name\": {\n",
      "         \"type\": \"keyword\"\n",
      "        }\n",
      "       }\n",
      "      }\n",
      "     }\n",
      "    },\n",
      "    \"url\": {\n",
      "     \"properties\": {\n",
      "      \"domain\": {\n",
      "       \"type\": \"keyword\"\n",
      "      },\n",
      "      \"original\": {\n",
      "       \"type\": \"wildcard\"\n",
      "      },\n",
      "      \"path\": {\n",
      "       \"type\": \"wildcard\"\n",
      "      },\n",
      "      \"query\": {\n",
      "       \"type\": \"keyword\"\n",
      "      },\n",
      "      \"scheme\": {\n",
      "       \"type\": \"keyword\"\n",
      "      }\n",
      "     }\n",
      "    },\n",
      "    \"user_agent\": {\n",
      "     \"properties\": {\n",
      "      \"device\": {\n",
      "       \"properties\": {\n",
      "        \"name\": {\n",
      "         \"type\": \"keyword\"\n",
      "        }\n",
      "       }\n",
      "      },\n",
      "      \"name\": {\n",
      "       \"type\": \"keyword\"\n",
      "      },\n",
      "      \"original\": {\n",
      "       \"type\": \"keyword\"\n",
      "      },\n",
      "      \"os\": {\n",
      "       \"properties\": {\n",
      "        \"name\": {\n",
      "         \"type\": \"keyword\"\n",
      "        },\n",
      "        \"version\": {\n",
      "         \"type\": \"keyword\"\n",
      "        }\n",
      "       }\n",
      "      },\n",
      "      \"version\": {\n",
      "       \"type\": \"keyword\"\n",
      "      }\n",
      "     }\n",
      "    }\n",
      "   }\n",
      "  },\n",
      "  \"settings\": {\n",
      "   \"index\": {\n",
      "    \"routing\": {\n",
      "     \"allocation\": {\n",
      "      \"include\": {\n",
      "       \"_tier_preference\": \"data_content\"\n",
      "      }\n",
      "     }\n",
      "    },\n",
      "    \"mapping\": {\n",
      "     \"coerce\": \"false\"\n",
      "    },\n",
      "    \"number_of_shards\": \"1\",\n",
      "    \"provided_name\": \"access-logs-2023-02\",\n",
      "    \"creation_date\": \"1729587400150\",\n",
      "    \"number_of_replicas\": \"1\",\n",
      "    \"uuid\": \"jkcs8X1eSGGRlUId6uT24w\",\n",
      "    \"version\": {\n",
      "     \"created\": \"8512000\"\n",
      "    }\n",
      "   }\n",
      "  }\n",
      " }\n",
      "}\n"
     ]
    }
   ],
   "source": [
    "# Get the index information for access-logs-2023-01\n",
    "response_2023_01 = es.indices.get(index=\"access-logs-2023-01\")\n",
    "print(\"access-logs-2023-01:\", json.dumps(response_2023_01.body, indent=1))\n",
    "\n",
    "# Get the index information for access-logs-2023-02\n",
    "response_2023_02 = es.indices.get(index=\"access-logs-2023-02\")\n",
    "print(\"access-logs-2023-02:\", json.dumps(response_2023_02.body, indent=1))"
   ]
  },
  {
   "cell_type": "code",
   "execution_count": 69,
   "metadata": {},
   "outputs": [
    {
     "name": "stdout",
     "output_type": "stream",
     "text": [
      "Access Logs Index Template: {\n",
      " \"index_templates\": [\n",
      "  {\n",
      "   \"name\": \"access-logs\",\n",
      "   \"index_template\": {\n",
      "    \"index_patterns\": [\n",
      "     \"access-logs-*\"\n",
      "    ],\n",
      "    \"template\": {\n",
      "     \"settings\": {\n",
      "      \"index\": {\n",
      "       \"number_of_shards\": \"2\",\n",
      "       \"mapping\": {\n",
      "        \"coerce\": \"false\"\n",
      "       }\n",
      "      }\n",
      "     },\n",
      "     \"mappings\": {\n",
      "      \"properties\": {\n",
      "       \"client.geo.continent_name\": {\n",
      "        \"type\": \"keyword\"\n",
      "       },\n",
      "       \"user_agent.original\": {\n",
      "        \"type\": \"keyword\"\n",
      "       },\n",
      "       \"client.geo.city_name\": {\n",
      "        \"type\": \"keyword\"\n",
      "       },\n",
      "       \"user_agent.name\": {\n",
      "        \"type\": \"keyword\"\n",
      "       },\n",
      "       \"url.scheme\": {\n",
      "        \"type\": \"keyword\"\n",
      "       },\n",
      "       \"user_agent.os.version\": {\n",
      "        \"type\": \"keyword\"\n",
      "       },\n",
      "       \"user_agent.os.name\": {\n",
      "        \"type\": \"keyword\"\n",
      "       },\n",
      "       \"url.original\": {\n",
      "        \"type\": \"wildcard\"\n",
      "       },\n",
      "       \"@timestamp\": {\n",
      "        \"type\": \"date\"\n",
      "       },\n",
      "       \"url.path\": {\n",
      "        \"type\": \"wildcard\"\n",
      "       },\n",
      "       \"client.geo.region_name\": {\n",
      "        \"type\": \"keyword\"\n",
      "       },\n",
      "       \"url.domain\": {\n",
      "        \"type\": \"keyword\"\n",
      "       },\n",
      "       \"user_agent.version\": {\n",
      "        \"type\": \"keyword\"\n",
      "       },\n",
      "       \"client.geo.country_name\": {\n",
      "        \"type\": \"keyword\"\n",
      "       },\n",
      "       \"user_agent.device.name\": {\n",
      "        \"type\": \"keyword\"\n",
      "       }\n",
      "      }\n",
      "     }\n",
      "    },\n",
      "    \"composed_of\": []\n",
      "   }\n",
      "  }\n",
      " ]\n",
      "}\n"
     ]
    }
   ],
   "source": [
    "# Get the index template for access-logs\n",
    "response = es.indices.get_index_template(name=\"access-logs\")\n",
    "print(\"Access Logs Index Template:\", json.dumps(response.body, indent=1))"
   ]
  },
  {
   "cell_type": "markdown",
   "metadata": {},
   "source": [
    "Explicit and dynamic mapping\n"
   ]
  },
  {
   "cell_type": "code",
   "execution_count": 70,
   "metadata": {},
   "outputs": [
    {
     "name": "stdout",
     "output_type": "stream",
     "text": [
      "Document Index Response: {'_index': 'people', '_id': 'N5B9s5IBumrHF_x8Z4Ke', '_version': 1, 'result': 'created', '_shards': {'total': 2, 'successful': 1, 'failed': 0}, '_seq_no': 0, '_primary_term': 1}\n"
     ]
    }
   ],
   "source": [
    "# Create index with mappings\n",
    "index_name = \"people\"\n",
    "mapping_body = {\"mappings\": {\"properties\": {\"first_name\": {\"type\": \"text\"}}}}\n",
    "\n",
    "# Create the index with mapping\n",
    "es.indices.create(index=index_name, body=mapping_body)\n",
    "\n",
    "# Add a document to the index\n",
    "doc_body = {\"first_name\": \"Bo\", \"last_name\": \"Andersen\"}\n",
    "\n",
    "response = es.index(index=index_name, body=doc_body)\n",
    "print(\"Document Index Response:\", response)"
   ]
  },
  {
   "cell_type": "markdown",
   "metadata": {},
   "source": [
    "configure dynamic mapping\n"
   ]
  },
  {
   "cell_type": "markdown",
   "metadata": {},
   "source": [
    "if dynamic there is strict ,it won't accept fields that are not mapped\n",
    "\n",
    "if dynamic is false , it will accept new fields but does not index it\n",
    "\n",
    "if dynamic is true, it will index and map new fields\n"
   ]
  },
  {
   "cell_type": "code",
   "execution_count": 71,
   "metadata": {},
   "outputs": [
    {
     "data": {
      "text/plain": [
       "ObjectApiResponse({'acknowledged': True, 'shards_acknowledged': True, 'index': 'computers'})"
      ]
     },
     "execution_count": 71,
     "metadata": {},
     "output_type": "execute_result"
    }
   ],
   "source": [
    "# Combined mappings and settings for 'computers' index\n",
    "computers_combined_mapping = {\n",
    "    \"settings\": {\"number_of_shards\": 1},\n",
    "    \"mappings\": {\n",
    "        \"dynamic\": \"strict\",  # Restrict new fields\n",
    "        \"numeric_detection\": True,  # Enable automatic numeric detection\n",
    "        \"date_detection\": False,  # Disable automatic date detection\n",
    "        \"dynamic_date_formats\": [\"dd-MM-yyyy\"],  # Custom dynamic date formats\n",
    "        \"properties\": {\n",
    "            \"name\": {\"type\": \"text\"},\n",
    "            \"specifications\": {\n",
    "                \"properties\": {\n",
    "                    \"cpu\": {\"properties\": {\"name\": {\"type\": \"text\"}}},\n",
    "                    \"other\": {\n",
    "                        \"dynamic\": True,  # Allow dynamic mappings for 'other'\n",
    "                        \"properties\": {\n",
    "                            # Define more fields as needed\n",
    "                        },\n",
    "                    },\n",
    "                }\n",
    "            },\n",
    "        },\n",
    "    },\n",
    "}\n",
    "\n",
    "# Create or update the 'computers' index with combined mappings\n",
    "es.indices.create(index=\"computers\", body=computers_combined_mapping)"
   ]
  },
  {
   "cell_type": "markdown",
   "metadata": {},
   "source": [
    "dynamic template\n",
    "\n",
    "it maps long to integers and strings to keywords\n"
   ]
  },
  {
   "cell_type": "code",
   "execution_count": 72,
   "metadata": {},
   "outputs": [
    {
     "data": {
      "text/plain": [
       "ObjectApiResponse({'acknowledged': True, 'shards_acknowledged': True, 'index': 'dynamic_template_test'})"
      ]
     },
     "execution_count": 72,
     "metadata": {},
     "output_type": "execute_result"
    }
   ],
   "source": [
    "# Define the mapping with dynamic templates for the index\n",
    "dynamic_template_mapping = {\n",
    "    \"mappings\": {\n",
    "        \"dynamic_templates\": [\n",
    "            {\n",
    "                \"integers\": {\n",
    "                    \"match_mapping_type\": \"long\",  # Match any long type fields\n",
    "                    \"mapping\": {\"type\": \"integer\"},  # Map them as integers\n",
    "                },\n",
    "                \"strings\": {\n",
    "                    \"match_mapping_type\": \"string\",  # Match any string type fields\n",
    "                    \"mapping\": {\n",
    "                        \"type\": \"text\",  # Map them as text\n",
    "                        \"fields\": {\n",
    "                            \"keyword\": {  # Include a 'keyword' subfield\n",
    "                                \"type\": \"keyword\",\n",
    "                                \"ignore_above\": 512,  # Set ignore_above limit for large strings\n",
    "                            }\n",
    "                        },\n",
    "                    },\n",
    "                },\n",
    "            }\n",
    "        ]\n",
    "    }\n",
    "}\n",
    "\n",
    "# Create the 'dynamic_template_test' index with the defined dynamic template mapping\n",
    "es.indices.create(index=\"dynamic_template_test\", body=dynamic_template_mapping)"
   ]
  },
  {
   "cell_type": "markdown",
   "metadata": {},
   "source": [
    "for the dynamic template, we can add mapping via the patters of the field name and the field type\n"
   ]
  },
  {
   "cell_type": "code",
   "execution_count": 73,
   "metadata": {},
   "outputs": [
    {
     "data": {
      "text/plain": [
       "ObjectApiResponse({'acknowledged': True, 'shards_acknowledged': True, 'index': 'test_index'})"
      ]
     },
     "execution_count": 73,
     "metadata": {},
     "output_type": "execute_result"
    }
   ],
   "source": [
    "# Define the dynamic template mapping for the index\n",
    "dynamic_template_mapping = {\n",
    "    \"mappings\": {\n",
    "        \"dynamic_templates\": [\n",
    "            {\n",
    "                \"strings_only_text\": {\n",
    "                    \"match_mapping_type\": \"string\",\n",
    "                    \"match\": \"text_*\",  # Match fields that start with 'text_'\n",
    "                    \"unmatch\": \"*_keyword\",  # Do not match fields ending with '_keyword'\n",
    "                    \"mapping\": {\"type\": \"text\"},  # Map them as text\n",
    "                }\n",
    "            },\n",
    "            {\n",
    "                \"strings_only_keyword\": {\n",
    "                    \"match_mapping_type\": \"string\",\n",
    "                    \"match\": \"*_keyword\",  # Match fields ending with '_keyword'\n",
    "                    \"mapping\": {\"type\": \"keyword\"},  # Map them as keyword\n",
    "                }\n",
    "            },\n",
    "        ]\n",
    "    }\n",
    "}\n",
    "\n",
    "# Create the 'test_index' with the defined dynamic template mapping\n",
    "es.indices.create(index=\"test_index\", body=dynamic_template_mapping)"
   ]
  },
  {
   "cell_type": "markdown",
   "metadata": {},
   "source": [
    "map using regex\n"
   ]
  },
  {
   "cell_type": "code",
   "execution_count": 77,
   "metadata": {},
   "outputs": [
    {
     "data": {
      "text/plain": [
       "ObjectApiResponse({'acknowledged': True, 'shards_acknowledged': True, 'index': 'test_index'})"
      ]
     },
     "execution_count": 77,
     "metadata": {},
     "output_type": "execute_result"
    }
   ],
   "source": [
    "es.options(ignore_status=[404, 400]).indices.delete(index=\"test_index\")\n",
    "# Define the dynamic template mapping for the index\n",
    "dynamic_template_mapping = {\n",
    "    \"mappings\": {\n",
    "        \"dynamic_templates\": [\n",
    "            {\n",
    "                \"names\": {\n",
    "                    \"match_mapping_type\": \"string\",\n",
    "                    \"match\": \"^[a-zA-Z]+_name$\",  # Match fields like 'first_name', 'middle_name', etc.\n",
    "                    \"match_pattern\": \"regex\",  # Use regex for matching\n",
    "                    \"mapping\": {\"type\": \"text\"},  # Map them as text\n",
    "                }\n",
    "            }\n",
    "        ]\n",
    "    }\n",
    "}\n",
    "\n",
    "# Create the 'test_index' with the defined dynamic template mapping\n",
    "es.indices.create(index=\"test_index\", body=dynamic_template_mapping)"
   ]
  },
  {
   "cell_type": "markdown",
   "metadata": {},
   "source": [
    "it matches all fields that come under employer.name and copy it to full_name field\n"
   ]
  },
  {
   "cell_type": "code",
   "execution_count": 78,
   "metadata": {},
   "outputs": [
    {
     "data": {
      "text/plain": [
       "ObjectApiResponse({'acknowledged': True, 'shards_acknowledged': True, 'index': 'test_index'})"
      ]
     },
     "execution_count": 78,
     "metadata": {},
     "output_type": "execute_result"
    }
   ],
   "source": [
    "es.options(ignore_status=[404, 400]).indices.delete(index=\"test_index\")\n",
    "\n",
    "# Define the dynamic template mapping for the index\n",
    "dynamic_template_mapping = {\n",
    "    \"mappings\": {\n",
    "        \"dynamic_templates\": [\n",
    "            {\n",
    "                \"copy_to_full_name\": {\n",
    "                    \"match_mapping_type\": \"string\",\n",
    "                    \"path_match\": \"employer.name.*\",  # Match fields under employer.name.*\n",
    "                    \"mapping\": {\n",
    "                        \"type\": \"text\",\n",
    "                        \"copy_to\": \"full_name\",  # Copy content to full_name\n",
    "                    },\n",
    "                }\n",
    "            }\n",
    "        ]\n",
    "    }\n",
    "}\n",
    "\n",
    "# Create the 'test_index' with the defined dynamic template mapping\n",
    "es.indices.create(index=\"test_index\", body=dynamic_template_mapping)"
   ]
  },
  {
   "cell_type": "markdown",
   "metadata": {},
   "source": [
    "this mapping keeps everything the same type as detected"
   ]
  },
  {
   "cell_type": "code",
   "execution_count": 80,
   "metadata": {},
   "outputs": [
    {
     "data": {
      "text/plain": [
       "ObjectApiResponse({'acknowledged': True, 'shards_acknowledged': True, 'index': 'test_index'})"
      ]
     },
     "execution_count": 80,
     "metadata": {},
     "output_type": "execute_result"
    }
   ],
   "source": [
    "es.options(ignore_status=[404, 400]).indices.delete(index=\"test_index\")\n",
    "\n",
    "# Define the dynamic template mapping for the index\n",
    "dynamic_template_mapping = {\n",
    "    \"mappings\": {\n",
    "        \"dynamic_templates\": [\n",
    "            {\n",
    "                \"no_doc_values\": {\n",
    "                    \"match_mapping_type\": \"*\",\n",
    "                    \"mapping\": {\"type\": \"{dynamic_type}\", \"index\": False},\n",
    "                }\n",
    "            }\n",
    "        ]\n",
    "    }\n",
    "}\n",
    "\n",
    "# Create the 'test_index' with the defined dynamic template mapping\n",
    "es.indices.create(index=\"test_index\", body=dynamic_template_mapping)"
   ]
  },
  {
   "cell_type": "markdown",
   "metadata": {},
   "source": [
    "# Creating custom analyzers"
   ]
  },
  {
   "cell_type": "code",
   "execution_count": 81,
   "metadata": {},
   "outputs": [
    {
     "name": "stdout",
     "output_type": "stream",
     "text": [
      "{'tokens': [{'token': \"I'm in a good mood - and I love açaí!\", 'start_offset': 0, 'end_offset': 78, 'type': 'word', 'position': 0}]}\n"
     ]
    }
   ],
   "source": [
    "# Query 1: Analyze text with HTML stripping\n",
    "response = es.indices.analyze(\n",
    "    body={\n",
    "        \"char_filter\": [\"html_strip\"],\n",
    "        \"text\": \"I&apos;m in a <em>good</em> mood&nbsp;-&nbsp;and I <strong>love</strong> açaí!\",\n",
    "    }\n",
    ")\n",
    "\n",
    "# Print the response\n",
    "print(response)"
   ]
  },
  {
   "cell_type": "code",
   "execution_count": 82,
   "metadata": {},
   "outputs": [
    {
     "name": "stdout",
     "output_type": "stream",
     "text": [
      "{'tokens': [{'token': \"I'm\", 'start_offset': 0, 'end_offset': 8, 'type': '<ALPHANUM>', 'position': 0}, {'token': 'in', 'start_offset': 9, 'end_offset': 11, 'type': '<ALPHANUM>', 'position': 1}, {'token': 'a', 'start_offset': 12, 'end_offset': 13, 'type': '<ALPHANUM>', 'position': 2}, {'token': 'good', 'start_offset': 18, 'end_offset': 27, 'type': '<ALPHANUM>', 'position': 3}, {'token': 'mood', 'start_offset': 28, 'end_offset': 32, 'type': '<ALPHANUM>', 'position': 4}, {'token': 'and', 'start_offset': 45, 'end_offset': 48, 'type': '<ALPHANUM>', 'position': 5}, {'token': 'I', 'start_offset': 49, 'end_offset': 50, 'type': '<ALPHANUM>', 'position': 6}, {'token': 'love', 'start_offset': 59, 'end_offset': 72, 'type': '<ALPHANUM>', 'position': 7}, {'token': 'açaí', 'start_offset': 73, 'end_offset': 77, 'type': '<ALPHANUM>', 'position': 8}]}\n"
     ]
    }
   ],
   "source": [
    "# Query 2: Analyze text with HTML stripping and standard tokenizer\n",
    "response = es.indices.analyze(\n",
    "    body={\n",
    "        \"char_filter\": [\"html_strip\"],\n",
    "        \"tokenizer\": \"standard\",\n",
    "        \"text\": \"I&apos;m in a <em>good</em> mood&nbsp;-&nbsp;and I <strong>love</strong> açaí!\",\n",
    "    }\n",
    ")\n",
    "\n",
    "# Print the response\n",
    "print(response)"
   ]
  },
  {
   "cell_type": "code",
   "execution_count": null,
   "metadata": {},
   "outputs": [],
   "source": [
    "# Query 2: Analyze text with HTML stripping and standard tokenizer\n",
    "response = es.indices.analyze(body={\n",
    "    \"char_filter\": [\"html_strip\"],\n",
    "    \"tokenizer\": \"standard\",\n",
    "    \"text\": \"I&apos;m in a <em>good</em> mood&nbsp;-&nbsp;and I <strong>love</strong> açaí!\"\n",
    "})\n",
    "\n",
    "# Print the response\n",
    "print(response)\n"
   ]
  },
  {
   "cell_type": "code",
   "execution_count": 83,
   "metadata": {},
   "outputs": [
    {
     "name": "stdout",
     "output_type": "stream",
     "text": [
      "{'tokens': [{'token': \"i'm\", 'start_offset': 0, 'end_offset': 8, 'type': '<ALPHANUM>', 'position': 0}, {'token': 'in', 'start_offset': 9, 'end_offset': 11, 'type': '<ALPHANUM>', 'position': 1}, {'token': 'a', 'start_offset': 12, 'end_offset': 13, 'type': '<ALPHANUM>', 'position': 2}, {'token': 'good', 'start_offset': 18, 'end_offset': 27, 'type': '<ALPHANUM>', 'position': 3}, {'token': 'mood', 'start_offset': 28, 'end_offset': 32, 'type': '<ALPHANUM>', 'position': 4}, {'token': 'and', 'start_offset': 45, 'end_offset': 48, 'type': '<ALPHANUM>', 'position': 5}, {'token': 'i', 'start_offset': 49, 'end_offset': 50, 'type': '<ALPHANUM>', 'position': 6}, {'token': 'love', 'start_offset': 59, 'end_offset': 72, 'type': '<ALPHANUM>', 'position': 7}, {'token': 'açaí', 'start_offset': 73, 'end_offset': 77, 'type': '<ALPHANUM>', 'position': 8}]}\n"
     ]
    }
   ],
   "source": [
    "# Query 3: Analyze text with HTML stripping, standard tokenizer, and lowercase filter\n",
    "response = es.indices.analyze(\n",
    "    body={\n",
    "        \"char_filter\": [\"html_strip\"],\n",
    "        \"tokenizer\": \"standard\",\n",
    "        \"filter\": [\"lowercase\"],\n",
    "        \"text\": \"I&apos;m in a <em>good</em> mood&nbsp;-&nbsp;and I <strong>love</strong> açaí!\",\n",
    "    }\n",
    ")\n",
    "\n",
    "# Print the response\n",
    "print(response)"
   ]
  },
  {
   "cell_type": "code",
   "execution_count": 84,
   "metadata": {},
   "outputs": [
    {
     "name": "stdout",
     "output_type": "stream",
     "text": [
      "{'tokens': [{'token': \"i'm\", 'start_offset': 0, 'end_offset': 8, 'type': '<ALPHANUM>', 'position': 0}, {'token': 'good', 'start_offset': 18, 'end_offset': 27, 'type': '<ALPHANUM>', 'position': 3}, {'token': 'mood', 'start_offset': 28, 'end_offset': 32, 'type': '<ALPHANUM>', 'position': 4}, {'token': 'i', 'start_offset': 49, 'end_offset': 50, 'type': '<ALPHANUM>', 'position': 6}, {'token': 'love', 'start_offset': 59, 'end_offset': 72, 'type': '<ALPHANUM>', 'position': 7}, {'token': 'açaí', 'start_offset': 73, 'end_offset': 77, 'type': '<ALPHANUM>', 'position': 8}]}\n"
     ]
    }
   ],
   "source": [
    "# Query 4: Analyze text with HTML stripping, standard tokenizer, lowercase, and stop filters\n",
    "response = es.indices.analyze(\n",
    "    body={\n",
    "        \"char_filter\": [\"html_strip\"],\n",
    "        \"tokenizer\": \"standard\",\n",
    "        \"filter\": [\"lowercase\", \"stop\"],\n",
    "        \"text\": \"I&apos;m in a <em>good</em> mood&nbsp;-&nbsp;and I <strong>love</strong> açaí!\",\n",
    "    }\n",
    ")\n",
    "\n",
    "# Print the response\n",
    "print(response)"
   ]
  },
  {
   "cell_type": "code",
   "execution_count": 85,
   "metadata": {},
   "outputs": [
    {
     "name": "stdout",
     "output_type": "stream",
     "text": [
      "{'tokens': [{'token': \"i'm\", 'start_offset': 0, 'end_offset': 8, 'type': '<ALPHANUM>', 'position': 0}, {'token': 'good', 'start_offset': 18, 'end_offset': 27, 'type': '<ALPHANUM>', 'position': 3}, {'token': 'mood', 'start_offset': 28, 'end_offset': 32, 'type': '<ALPHANUM>', 'position': 4}, {'token': 'i', 'start_offset': 49, 'end_offset': 50, 'type': '<ALPHANUM>', 'position': 6}, {'token': 'love', 'start_offset': 59, 'end_offset': 72, 'type': '<ALPHANUM>', 'position': 7}, {'token': 'acai', 'start_offset': 73, 'end_offset': 77, 'type': '<ALPHANUM>', 'position': 8}]}\n"
     ]
    }
   ],
   "source": [
    "# Query 5: Analyze text with HTML stripping, standard tokenizer, lowercase, stop, and asciifolding filters\n",
    "response = es.indices.analyze(\n",
    "    body={\n",
    "        \"char_filter\": [\"html_strip\"],\n",
    "        \"tokenizer\": \"standard\",\n",
    "        \"filter\": [\"lowercase\", \"stop\", \"asciifolding\"],\n",
    "        \"text\": \"I&apos;m in a <em>good</em> mood&nbsp;-&nbsp;and I <strong>love</strong> açaí!\",\n",
    "    }\n",
    ")\n",
    "\n",
    "# Print the response\n",
    "print(response)"
   ]
  },
  {
   "cell_type": "markdown",
   "metadata": {},
   "source": [
    "create a custom analyzer"
   ]
  },
  {
   "cell_type": "code",
   "execution_count": 86,
   "metadata": {},
   "outputs": [
    {
     "name": "stdout",
     "output_type": "stream",
     "text": [
      "{'acknowledged': True, 'shards_acknowledged': True, 'index': 'analyzer_test'}\n"
     ]
    }
   ],
   "source": [
    "# Define the settings with the custom analyzer\n",
    "settings = {\n",
    "    \"settings\": {\n",
    "        \"analysis\": {\n",
    "            \"analyzer\": {\n",
    "                \"my_custom_analyzer\": {\n",
    "                    \"type\": \"custom\",\n",
    "                    \"char_filter\": [\"html_strip\"],\n",
    "                    \"tokenizer\": \"standard\",\n",
    "                    \"filter\": [\"lowercase\", \"stop\", \"asciifolding\"],\n",
    "                }\n",
    "            }\n",
    "        }\n",
    "    }\n",
    "}\n",
    "\n",
    "# Create the index with the custom analyzer\n",
    "response = es.indices.create(index=\"analyzer_test\", body=settings)\n",
    "\n",
    "# Print the response\n",
    "print(response)"
   ]
  },
  {
   "cell_type": "markdown",
   "metadata": {},
   "source": [
    "custom analyzer with danish stop filter"
   ]
  },
  {
   "cell_type": "code",
   "execution_count": 91,
   "metadata": {},
   "outputs": [
    {
     "name": "stdout",
     "output_type": "stream",
     "text": [
      "{'acknowledged': True, 'shards_acknowledged': True, 'index': 'analyzer_test'}\n"
     ]
    }
   ],
   "source": [
    "es.options(ignore_status=[404, 400]).indices.delete(index=\"analyzer_test\")\n",
    "# Define the settings with the custom analyzer including the Danish stop filter\n",
    "settings = {\n",
    "    \"settings\": {\n",
    "        \"analysis\": {\n",
    "            \"filter\": {\"danish_stop\": {\"type\": \"stop\", \"stopwords\": \"_danish_\"}},\n",
    "            \"analyzer\": {\n",
    "                \"my_custom_analyzer\": {\n",
    "                    \"type\": \"custom\",\n",
    "                    \"char_filter\": [\"html_strip\"],\n",
    "                    \"tokenizer\": \"standard\",\n",
    "                    \"filter\": [\"uppercase\", \"danish_stop\", \"asciifolding\"],\n",
    "                }\n",
    "            },\n",
    "        }\n",
    "    }\n",
    "}\n",
    "\n",
    "# Create the index with the custom analyzer\n",
    "response = es.indices.create(index=\"analyzer_test\", body=settings)\n",
    "\n",
    "# Print the response\n",
    "print(response)"
   ]
  },
  {
   "cell_type": "code",
   "execution_count": 92,
   "metadata": {},
   "outputs": [
    {
     "name": "stdout",
     "output_type": "stream",
     "text": [
      "{'tokens': [{'token': \"I'M\", 'start_offset': 0, 'end_offset': 8, 'type': '<ALPHANUM>', 'position': 0}, {'token': 'IN', 'start_offset': 9, 'end_offset': 11, 'type': '<ALPHANUM>', 'position': 1}, {'token': 'A', 'start_offset': 12, 'end_offset': 13, 'type': '<ALPHANUM>', 'position': 2}, {'token': 'GOOD', 'start_offset': 18, 'end_offset': 27, 'type': '<ALPHANUM>', 'position': 3}, {'token': 'MOOD', 'start_offset': 28, 'end_offset': 32, 'type': '<ALPHANUM>', 'position': 4}, {'token': 'AND', 'start_offset': 45, 'end_offset': 48, 'type': '<ALPHANUM>', 'position': 5}, {'token': 'I', 'start_offset': 49, 'end_offset': 50, 'type': '<ALPHANUM>', 'position': 6}, {'token': 'LOVE', 'start_offset': 59, 'end_offset': 72, 'type': '<ALPHANUM>', 'position': 7}, {'token': 'ACAI', 'start_offset': 73, 'end_offset': 77, 'type': '<ALPHANUM>', 'position': 8}]}\n"
     ]
    }
   ],
   "source": [
    "# Define the analyze query\n",
    "analyze_query = {\n",
    "    \"analyzer\": \"my_custom_analyzer\",\n",
    "    \"text\": \"I&apos;m in a <em>good</em> mood&nbsp;-&nbsp;and I <strong>love</strong> açaí!\",\n",
    "}\n",
    "\n",
    "# Perform the analyze request\n",
    "response = es.indices.analyze(index=\"analyzer_test\", body=analyze_query)\n",
    "\n",
    "# Print the response\n",
    "print(response)"
   ]
  },
  {
   "cell_type": "markdown",
   "metadata": {},
   "source": [
    "To update the analyzer in a index, we have first to close it"
   ]
  },
  {
   "cell_type": "code",
   "execution_count": 93,
   "metadata": {},
   "outputs": [
    {
     "name": "stdout",
     "output_type": "stream",
     "text": [
      "{'acknowledged': True, 'shards_acknowledged': True, 'indices': {'analyzer_test': {'closed': True}}}\n"
     ]
    }
   ],
   "source": [
    "# Close the index\n",
    "response = es.indices.close(index=\"analyzer_test\")\n",
    "\n",
    "# Print the response\n",
    "print(response)"
   ]
  },
  {
   "cell_type": "markdown",
   "metadata": {},
   "source": [
    "then add the second analyzer"
   ]
  },
  {
   "cell_type": "code",
   "execution_count": 94,
   "metadata": {},
   "outputs": [
    {
     "name": "stdout",
     "output_type": "stream",
     "text": [
      "{'acknowledged': True}\n"
     ]
    }
   ],
   "source": [
    "# Define the settings for the new analyzer\n",
    "settings = {\n",
    "    \"analysis\": {\n",
    "        \"analyzer\": {\n",
    "            \"my_second_analyzer\": {\n",
    "                \"type\": \"custom\",\n",
    "                \"tokenizer\": \"standard\",\n",
    "                \"char_filter\": [\"html_strip\"],\n",
    "                \"filter\": [\"lowercase\", \"stop\", \"asciifolding\"],\n",
    "            }\n",
    "        }\n",
    "    }\n",
    "}\n",
    "\n",
    "# Update the index settings\n",
    "response = es.indices.put_settings(index=\"analyzer_test\", body=settings)\n",
    "\n",
    "# Print the response\n",
    "print(response)"
   ]
  },
  {
   "cell_type": "markdown",
   "metadata": {},
   "source": [
    "then open the index "
   ]
  },
  {
   "cell_type": "code",
   "execution_count": 99,
   "metadata": {},
   "outputs": [
    {
     "name": "stdout",
     "output_type": "stream",
     "text": [
      "Open index response: {'acknowledged': True, 'shards_acknowledged': True}\n",
      "Index settings: {\n",
      "  \"analyzer_test\": {\n",
      "    \"settings\": {\n",
      "      \"index\": {\n",
      "        \"routing\": {\n",
      "          \"allocation\": {\n",
      "            \"include\": {\n",
      "              \"_tier_preference\": \"data_content\"\n",
      "            }\n",
      "          }\n",
      "        },\n",
      "        \"number_of_shards\": \"1\",\n",
      "        \"provided_name\": \"analyzer_test\",\n",
      "        \"creation_date\": \"1729597501364\",\n",
      "        \"analysis\": {\n",
      "          \"filter\": {\n",
      "            \"danish_stop\": {\n",
      "              \"type\": \"stop\",\n",
      "              \"stopwords\": \"_danish_\"\n",
      "            }\n",
      "          },\n",
      "          \"analyzer\": {\n",
      "            \"my_second_analyzer\": {\n",
      "              \"filter\": [\n",
      "                \"lowercase\",\n",
      "                \"stop\",\n",
      "                \"asciifolding\"\n",
      "              ],\n",
      "              \"char_filter\": [\n",
      "                \"html_strip\"\n",
      "              ],\n",
      "              \"type\": \"custom\",\n",
      "              \"tokenizer\": \"standard\"\n",
      "            },\n",
      "            \"my_custom_analyzer\": {\n",
      "              \"filter\": [\n",
      "                \"uppercase\",\n",
      "                \"danish_stop\",\n",
      "                \"asciifolding\"\n",
      "              ],\n",
      "              \"char_filter\": [\n",
      "                \"html_strip\"\n",
      "              ],\n",
      "              \"type\": \"custom\",\n",
      "              \"tokenizer\": \"standard\"\n",
      "            }\n",
      "          }\n",
      "        },\n",
      "        \"number_of_replicas\": \"1\",\n",
      "        \"uuid\": \"-j7oAuGmRI25ZT4WKu2KwQ\",\n",
      "        \"version\": {\n",
      "          \"created\": \"8512000\"\n",
      "        }\n",
      "      }\n",
      "    }\n",
      "  }\n",
      "}\n"
     ]
    }
   ],
   "source": [
    "# Open the analyzer_test index\n",
    "open_response = es.indices.open(index=\"analyzer_test\")\n",
    "print(\"Open index response:\", open_response)\n",
    "\n",
    "# Retrieve the settings of the analyzer_test index\n",
    "settings_response = es.indices.get_settings(index=\"analyzer_test\")\n",
    "print(\"Index settings:\", json.dumps(settings_response.body, indent=2))"
   ]
  },
  {
   "cell_type": "markdown",
   "metadata": {},
   "source": [
    "UPDATION EXISTING ANALYZERS"
   ]
  },
  {
   "cell_type": "markdown",
   "metadata": {},
   "source": [
    "add a new description with the new analyzer"
   ]
  },
  {
   "cell_type": "code",
   "execution_count": 103,
   "metadata": {},
   "outputs": [
    {
     "name": "stdout",
     "output_type": "stream",
     "text": [
      "Mapping update response: {'acknowledged': True}\n"
     ]
    }
   ],
   "source": [
    "# Define the mapping with the custom analyzer\n",
    "mapping_body = {\n",
    "    \"properties\": {\"description\": {\"type\": \"text\", \"analyzer\": \"my_custom_analyzer\"}}\n",
    "}\n",
    "\n",
    "# Update the mapping for the analyzer_test index\n",
    "response = es.indices.put_mapping(index=\"analyzer_test\", body=mapping_body)\n",
    "print(\"Mapping update response:\", response)"
   ]
  },
  {
   "cell_type": "code",
   "execution_count": 104,
   "metadata": {},
   "outputs": [
    {
     "name": "stdout",
     "output_type": "stream",
     "text": [
      "Document index response: {'_index': 'analyzer_test', '_id': 'OZAgtJIBumrHF_x8t4Ih', '_version': 1, 'result': 'created', '_shards': {'total': 2, 'successful': 1, 'failed': 0}, '_seq_no': 1, '_primary_term': 3}\n"
     ]
    }
   ],
   "source": [
    "# Define the document to be indexed\n",
    "document = {\"description\": \"Is that Peter's cute-looking dog?\"}\n",
    "\n",
    "# Index the document into the analyzer_test index\n",
    "response = es.index(index=\"analyzer_test\", body=document)\n",
    "print(\"Document index response:\", response)"
   ]
  },
  {
   "cell_type": "code",
   "execution_count": 110,
   "metadata": {},
   "outputs": [
    {
     "name": "stdout",
     "output_type": "stream",
     "text": [
      "Search response: {'took': 2, 'timed_out': False, '_shards': {'total': 1, 'successful': 1, 'skipped': 0, 'failed': 0}, 'hits': {'total': {'value': 0, 'relation': 'eq'}, 'max_score': None, 'hits': []}}\n"
     ]
    }
   ],
   "source": [
    "# Define the search query with the keyword analyzer\n",
    "search_query = {\n",
    "    \"query\": {\n",
    "        \"match\": {\n",
    "            \"description\": {\n",
    "                \"query\": \"that\",\n",
    "                \"analyzer\": \"keyword\",  # Use your custom analyzer here\n",
    "            }\n",
    "        }\n",
    "    }\n",
    "}\n",
    "\n",
    "# Execute the search query\n",
    "response = es.search(index=\"analyzer_test\", body=search_query)\n",
    "print(\"Search response:\", response)"
   ]
  },
  {
   "cell_type": "code",
   "execution_count": 108,
   "metadata": {},
   "outputs": [
    {
     "name": "stdout",
     "output_type": "stream",
     "text": [
      "Search response: {'took': 3, 'timed_out': False, '_shards': {'total': 1, 'successful': 1, 'skipped': 0, 'failed': 0}, 'hits': {'total': {'value': 2, 'relation': 'eq'}, 'max_score': 0.18232156, 'hits': [{'_index': 'analyzer_test', '_id': 'OJAdtJIBumrHF_x8KoIo', '_score': 0.18232156, '_source': {'description': \"Is that Peter's cute-looking dog?\"}}, {'_index': 'analyzer_test', '_id': 'OZAgtJIBumrHF_x8t4Ih', '_score': 0.18232156, '_source': {'description': \"Is that Peter's cute-looking dog?\"}}]}}\n"
     ]
    }
   ],
   "source": [
    "# Define the search query with the keyword analyzer\n",
    "search_query = {\n",
    "    \"query\": {\n",
    "        \"match\": {\n",
    "            \"description\": {\n",
    "                \"query\": \"that\",\n",
    "                \"analyzer\": \"my_custom_analyzer\",  # Use your custom analyzer here\n",
    "            }\n",
    "        }\n",
    "    }\n",
    "}\n",
    "\n",
    "# Execute the search query\n",
    "response = es.search(index=\"analyzer_test\", body=search_query)\n",
    "print(\"Search response:\", response)"
   ]
  },
  {
   "cell_type": "markdown",
   "metadata": {},
   "source": [
    "what happened above is creating a description with the custom analyzer that remove the stopwords, so when querying with the keyword analyzer, we get no results because it is searching for \"that\" while "
   ]
  },
  {
   "cell_type": "markdown",
   "metadata": {},
   "source": []
  }
 ],
 "metadata": {
  "kernelspec": {
   "display_name": "Python 3",
   "language": "python",
   "name": "python3"
  },
  "language_info": {
   "codemirror_mode": {
    "name": "ipython",
    "version": 3
   },
   "file_extension": ".py",
   "mimetype": "text/x-python",
   "name": "python",
   "nbconvert_exporter": "python",
   "pygments_lexer": "ipython3",
   "version": "3.11.0rc1"
  }
 },
 "nbformat": 4,
 "nbformat_minor": 2
}
