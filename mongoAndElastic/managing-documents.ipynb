{
 "cells": [
  {
   "cell_type": "markdown",
   "metadata": {},
   "source": [
    "initializing elastic search api\n"
   ]
  },
  {
   "cell_type": "code",
   "execution_count": 1,
   "metadata": {},
   "outputs": [
    {
     "name": "stderr",
     "output_type": "stream",
     "text": [
      "/home/charbel/.local/lib/python3.11/site-packages/elasticsearch/_sync/client/__init__.py:400: SecurityWarning: Connecting to 'https://localhost:9200' using TLS with verify_certs=False is insecure\n",
      "  _transport = transport_class(\n"
     ]
    }
   ],
   "source": [
    "from elasticsearch import Elasticsearch\n",
    "\n",
    "# Create an Elasticsearch client instance with authentication\n",
    "es = Elasticsearch(\n",
    "    \"https://localhost:9200\",  # Use https for SSL\n",
    "    basic_auth=(\n",
    "        \"elastic\",\n",
    "        \"8+6x+mXMgyoyi0F7Fi07\",\n",
    "    ),  # Replace with your username and password\n",
    "    verify_certs=False,  # Optional: Disable SSL certificate verification for development\n",
    ")"
   ]
  },
  {
   "cell_type": "markdown",
   "metadata": {},
   "source": [
    "checking the health of the cluster\n"
   ]
  },
  {
   "cell_type": "code",
   "execution_count": null,
   "metadata": {},
   "outputs": [],
   "source": [
    "# Get the cluster health\n",
    "cluster_health = es.cluster.health()\n",
    "\n",
    "# Print the cluster health status\n",
    "print(cluster_health)"
   ]
  },
  {
   "cell_type": "markdown",
   "metadata": {},
   "source": [
    "listing all nodes\n"
   ]
  },
  {
   "cell_type": "code",
   "execution_count": null,
   "metadata": {},
   "outputs": [],
   "source": [
    "nodes_info = es.cat.nodes(v=True)\n",
    "print(nodes_info)"
   ]
  },
  {
   "cell_type": "markdown",
   "metadata": {},
   "source": [
    "listing all indices\n"
   ]
  },
  {
   "cell_type": "code",
   "execution_count": null,
   "metadata": {},
   "outputs": [],
   "source": [
    "indices_info = es.cat.indices(v=True, expand_wildcards=\"all\")\n",
    "print(indices_info)"
   ]
  },
  {
   "cell_type": "markdown",
   "metadata": {},
   "source": [
    "delete and creating indices\n"
   ]
  },
  {
   "cell_type": "code",
   "execution_count": 146,
   "metadata": {},
   "outputs": [
    {
     "data": {
      "text/plain": [
       "ObjectApiResponse({'acknowledged': True, 'shards_acknowledged': True, 'index': 'products'})"
      ]
     },
     "execution_count": 146,
     "metadata": {},
     "output_type": "execute_result"
    }
   ],
   "source": [
    "# Delete the 'products' index, ignoring 404 (index not found) errors\n",
    "es.options(ignore_status=[404]).indices.delete(index=\"products\")\n",
    "\n",
    "# Create the 'products' index with specific settings\n",
    "es.indices.create(\n",
    "    index=\"products\",\n",
    "    body={\"settings\": {\"number_of_shards\": 2, \"number_of_replicas\": 2}},\n",
    ")"
   ]
  },
  {
   "cell_type": "markdown",
   "metadata": {},
   "source": [
    "getting meta data of the indices\n"
   ]
  },
  {
   "cell_type": "code",
   "execution_count": null,
   "metadata": {},
   "outputs": [],
   "source": [
    "es.indices.get(index=\"products\")"
   ]
  },
  {
   "cell_type": "markdown",
   "metadata": {},
   "source": [
    "add data to index without id\n"
   ]
  },
  {
   "cell_type": "code",
   "execution_count": 110,
   "metadata": {},
   "outputs": [
    {
     "data": {
      "text/plain": [
       "ObjectApiResponse({'_index': 'products', '_id': '2K2TrpIB-9QmpfaGedZP', '_version': 1, 'result': 'created', '_shards': {'total': 3, 'successful': 1, 'failed': 0}, '_seq_no': 1, '_primary_term': 1})"
      ]
     },
     "execution_count": 110,
     "metadata": {},
     "output_type": "execute_result"
    }
   ],
   "source": [
    "# Index a new document (auto-generated ID)\n",
    "es.index(index=\"products\", body={\"name\": \"Coffee Maker\", \"price\": 64, \"in_stock\": 10})"
   ]
  },
  {
   "cell_type": "markdown",
   "metadata": {},
   "source": [
    "add data to index with id\n"
   ]
  },
  {
   "cell_type": "code",
   "execution_count": 111,
   "metadata": {},
   "outputs": [
    {
     "data": {
      "text/plain": [
       "ObjectApiResponse({'_index': 'products', '_id': '100', '_version': 2, 'result': 'updated', '_shards': {'total': 3, 'successful': 1, 'failed': 0}, '_seq_no': 41, '_primary_term': 1})"
      ]
     },
     "execution_count": 111,
     "metadata": {},
     "output_type": "execute_result"
    }
   ],
   "source": [
    "# Create or update a document with a specific ID (100)\n",
    "es.index(index=\"products\", id=100, body={\"name\": \"Toaster\", \"price\": 49, \"in_stock\": 4})"
   ]
  },
  {
   "cell_type": "markdown",
   "metadata": {},
   "source": [
    "get data by id\n"
   ]
  },
  {
   "cell_type": "code",
   "execution_count": 113,
   "metadata": {},
   "outputs": [
    {
     "name": "stdout",
     "output_type": "stream",
     "text": [
      "{'name': 'Toaster', 'price': 49, 'in_stock': 3}\n"
     ]
    }
   ],
   "source": [
    "# Get the document with ID 100 from the 'products' index\n",
    "doc = es.get(index=\"products\", id=100)\n",
    "\n",
    "# Print the document\n",
    "print(doc[\"_source\"])"
   ]
  },
  {
   "cell_type": "markdown",
   "metadata": {},
   "source": [
    "update a document by id\n"
   ]
  },
  {
   "cell_type": "code",
   "execution_count": 112,
   "metadata": {},
   "outputs": [
    {
     "data": {
      "text/plain": [
       "ObjectApiResponse({'_index': 'products', '_id': '100', '_version': 3, 'result': 'updated', '_shards': {'total': 3, 'successful': 1, 'failed': 0}, '_seq_no': 42, '_primary_term': 1})"
      ]
     },
     "execution_count": 112,
     "metadata": {},
     "output_type": "execute_result"
    }
   ],
   "source": [
    "# Update the document with ID 100 in the 'products' index\n",
    "es.update(index=\"products\", id=100, body={\"doc\": {\"in_stock\": 3}})"
   ]
  },
  {
   "cell_type": "markdown",
   "metadata": {},
   "source": [
    "add fields to a document by id\n"
   ]
  },
  {
   "cell_type": "code",
   "execution_count": null,
   "metadata": {},
   "outputs": [],
   "source": [
    "# Update the document with ID 100 to add the 'tags' field\n",
    "es.update(index=\"products\", id=100, body={\"doc\": {\"tags\": [\"electronics\"]}})"
   ]
  },
  {
   "cell_type": "markdown",
   "metadata": {},
   "source": [
    "scripted updates\n"
   ]
  },
  {
   "cell_type": "code",
   "execution_count": null,
   "metadata": {},
   "outputs": [],
   "source": [
    "# Update the document with ID 100 in the 'products' index\n",
    "\n",
    "# 1. Decrement the 'in_stock' field by 1\n",
    "es.update(\n",
    "    index=\"products\", id=100, body={\"script\": {\"source\": \"ctx._source.in_stock--\"}}\n",
    ")\n",
    "\n",
    "# 2. Set the 'in_stock' field to 10\n",
    "es.update(\n",
    "    index=\"products\", id=100, body={\"script\": {\"source\": \"ctx._source.in_stock = 10\"}}\n",
    ")\n",
    "\n",
    "# 3. Decrement the 'in_stock' field by a specific quantity\n",
    "es.update(\n",
    "    index=\"products\",\n",
    "    id=100,\n",
    "    body={\n",
    "        \"script\": {\n",
    "            \"source\": \"ctx._source.in_stock -= params.quantity\",\n",
    "            \"params\": {\"quantity\": 4},\n",
    "        }\n",
    "    },\n",
    ")\n",
    "\n",
    "# 4. Perform 'noop' if 'in_stock' is 0, else decrement it by 1\n",
    "es.update(\n",
    "    index=\"products\",\n",
    "    id=100,\n",
    "    body={\n",
    "        \"script\": {\n",
    "            \"source\": \"\"\"\n",
    "                if (ctx._source.in_stock == 0) {\n",
    "                    ctx.op = 'noop';\n",
    "                }\n",
    "                ctx._source.in_stock--;\n",
    "            \"\"\"\n",
    "        }\n",
    "    },\n",
    ")\n",
    "\n",
    "# 5. Decrement 'in_stock' by 1 if it is greater than 0\n",
    "es.update(\n",
    "    index=\"products\",\n",
    "    id=100,\n",
    "    body={\n",
    "        \"script\": {\n",
    "            \"source\": \"\"\"\n",
    "                if (ctx._source.in_stock > 0) {\n",
    "                    ctx._source.in_stock--;\n",
    "                }\n",
    "            \"\"\"\n",
    "        }\n",
    "    },\n",
    ")\n",
    "\n",
    "# 6. Delete the document if 'in_stock' is less than 0, else decrement it by 1\n",
    "es.update(\n",
    "    index=\"products\",\n",
    "    id=100,\n",
    "    body={\n",
    "        \"script\": {\n",
    "            \"source\": \"\"\"\n",
    "                if (ctx._source.in_stock < 0) {\n",
    "                    ctx.op = 'delete';\n",
    "                }\n",
    "                ctx._source.in_stock--;\n",
    "            \"\"\"\n",
    "        }\n",
    "    },\n",
    ")"
   ]
  },
  {
   "cell_type": "markdown",
   "metadata": {},
   "source": [
    "upserting, it means that if the document with id 101 doesn't exists, in this example it creates a new document\n"
   ]
  },
  {
   "cell_type": "code",
   "execution_count": 109,
   "metadata": {},
   "outputs": [
    {
     "data": {
      "text/plain": [
       "ObjectApiResponse({'_index': 'products', '_id': '100', '_version': 1, 'result': 'created', '_shards': {'total': 3, 'successful': 1, 'failed': 0}, '_seq_no': 40, '_primary_term': 1})"
      ]
     },
     "execution_count": 109,
     "metadata": {},
     "output_type": "execute_result"
    }
   ],
   "source": [
    "# Update the document with ID 101 in the 'products' index, incrementing 'in_stock' by 1.\n",
    "# If the document does not exist, create it with the specified fields.\n",
    "es.update(\n",
    "    index=\"products\",\n",
    "    id=101,\n",
    "    body={\n",
    "        \"script\": {\"source\": \"ctx._source.in_stock++\"},\n",
    "        \"upsert\": {\"name\": \"Blender\", \"price\": 399, \"in_stock\": 5},\n",
    "    },\n",
    ")"
   ]
  },
  {
   "cell_type": "markdown",
   "metadata": {},
   "source": [
    "In this command, we replaced the document that have id 100, we did not modify it\n"
   ]
  },
  {
   "cell_type": "code",
   "execution_count": 133,
   "metadata": {},
   "outputs": [
    {
     "data": {
      "text/plain": [
       "ObjectApiResponse({'_index': 'products', '_id': '100', '_version': 2, 'result': 'updated', '_shards': {'total': 3, 'successful': 1, 'failed': 0}, '_seq_no': 1, '_primary_term': 1})"
      ]
     },
     "execution_count": 133,
     "metadata": {},
     "output_type": "execute_result"
    }
   ],
   "source": [
    "# Create or update the document with ID 100 in the 'products' index.\n",
    "es.index(index=\"products\", id=100, body={\"name\": \"Toaster\", \"price\": 79, \"in_stock\": 4})"
   ]
  },
  {
   "cell_type": "markdown",
   "metadata": {},
   "source": [
    "delete document by id\n"
   ]
  },
  {
   "cell_type": "code",
   "execution_count": 115,
   "metadata": {},
   "outputs": [
    {
     "data": {
      "text/plain": [
       "ObjectApiResponse({'_index': 'products', '_id': '101', '_version': 9, 'result': 'not_found', '_shards': {'total': 3, 'successful': 1, 'failed': 0}, '_seq_no': 44, '_primary_term': 1})"
      ]
     },
     "execution_count": 115,
     "metadata": {},
     "output_type": "execute_result"
    }
   ],
   "source": [
    "# Delete the document with ID 101 from the 'products' index.\n",
    "es.options(ignore_status=[404]).delete(\n",
    "    index=\"products\",\n",
    "    id=101,\n",
    ")"
   ]
  },
  {
   "cell_type": "markdown",
   "metadata": {},
   "source": [
    "the next command ensures no conflicts when multiple queries are applied to the same document, first we have to get the product and save the primaryterm and the seq no, and add them in the query\n"
   ]
  },
  {
   "cell_type": "code",
   "execution_count": null,
   "metadata": {},
   "outputs": [],
   "source": [
    "# Update the document with ID 100 in the 'products' index, only if primary term and seq_no match.\n",
    "es.update(\n",
    "    index=\"products\",\n",
    "    id=100,\n",
    "    body={\"doc\": {\"in_stock\": 123}},\n",
    "    if_primary_term=X,  # Replace X with the actual primary term\n",
    "    if_seq_no=X,  # Replace X with the actual sequence number\n",
    ")"
   ]
  },
  {
   "cell_type": "markdown",
   "metadata": {},
   "source": [
    "update all matches from the products index\n"
   ]
  },
  {
   "cell_type": "code",
   "execution_count": 116,
   "metadata": {},
   "outputs": [
    {
     "data": {
      "text/plain": [
       "ObjectApiResponse({'took': 244, 'timed_out': False, 'total': 7, 'updated': 7, 'deleted': 0, 'batches': 1, 'version_conflicts': 0, 'noops': 0, 'retries': {'bulk': 0, 'search': 0}, 'throttled_millis': 0, 'requests_per_second': -1.0, 'throttled_until_millis': 0, 'failures': []})"
      ]
     },
     "execution_count": 116,
     "metadata": {},
     "output_type": "execute_result"
    }
   ],
   "source": [
    "# Perform an update by query on all documents in the 'products' index to decrement 'in_stock' field.\n",
    "es.update_by_query(\n",
    "    index=\"products\",\n",
    "    body={\"script\": {\"source\": \"ctx._source.in_stock--\"}, \"query\": {\"match_all\": {}}},\n",
    ")"
   ]
  },
  {
   "cell_type": "markdown",
   "metadata": {},
   "source": [
    "delete by query\n"
   ]
  },
  {
   "cell_type": "code",
   "execution_count": 117,
   "metadata": {},
   "outputs": [
    {
     "data": {
      "text/plain": [
       "ObjectApiResponse({'took': 36, 'timed_out': False, 'total': 7, 'deleted': 7, 'batches': 1, 'version_conflicts': 0, 'noops': 0, 'retries': {'bulk': 0, 'search': 0}, 'throttled_millis': 0, 'requests_per_second': -1.0, 'throttled_until_millis': 0, 'failures': []})"
      ]
     },
     "execution_count": 117,
     "metadata": {},
     "output_type": "execute_result"
    }
   ],
   "source": [
    "# Perform a delete by query to remove all documents in the 'products' index.\n",
    "es.delete_by_query(\n",
    "    index=\"products\", body={\"conflicts\": \"proceed\", \"query\": {\"match_all\": {}}}\n",
    ")"
   ]
  },
  {
   "cell_type": "markdown",
   "metadata": {},
   "source": [
    "bulk"
   ]
  },
  {
   "cell_type": "code",
   "execution_count": 151,
   "metadata": {},
   "outputs": [
    {
     "name": "stdout",
     "output_type": "stream",
     "text": [
      "Bulk operation response: 4 succeeded, [] failed\n"
     ]
    }
   ],
   "source": [
    "from elasticsearch import Elasticsearch, helpers\n",
    "\n",
    "# Ensure the 'products' index exists\n",
    "es.options(ignore_status=[400, 404]).indices.create(\n",
    "    index=\"products\"\n",
    ")  # Ignores the error if the index already exists\n",
    "\n",
    "# Define the actions for the bulk request\n",
    "actions = [\n",
    "    {\n",
    "        \"_op_type\": \"index\",\n",
    "        \"_index\": \"products\",\n",
    "        \"_id\": 200,\n",
    "        \"_source\": {\"name\": \"Espresso Machine\", \"price\": 199, \"in_stock\": 5},\n",
    "    },\n",
    "    {\n",
    "        \"_op_type\": \"create\",\n",
    "        \"_index\": \"products\",\n",
    "        \"_id\": 201,\n",
    "        \"_source\": {\"name\": \"Milk Frother\", \"price\": 149, \"in_stock\": 14},\n",
    "    },\n",
    "    {\n",
    "        \"_op_type\": \"update\",\n",
    "        \"_index\": \"products\",\n",
    "        \"_id\": 201,\n",
    "        \"_source\": {\"doc\": {\"price\": 129}},\n",
    "    },\n",
    "    {\"_op_type\": \"delete\", \"_index\": \"products\", \"_id\": 200},\n",
    "]\n",
    "\n",
    "# Execute the bulk request\n",
    "try:\n",
    "    success, failed = helpers.bulk(es, actions)\n",
    "    print(f\"Bulk operation response: {success} succeeded, {failed} failed\")\n",
    "except Exception as e:\n",
    "    print(f\"An error occurred: {e}\")"
   ]
  },
  {
   "cell_type": "markdown",
   "metadata": {},
   "source": [
    "read data from json to elastic"
   ]
  },
  {
   "cell_type": "code",
   "execution_count": 2,
   "metadata": {},
   "outputs": [
    {
     "name": "stderr",
     "output_type": "stream",
     "text": [
      "/tmp/ipykernel_320676/799621060.py:64: DeprecationWarning: Passing transport options in the API method is deprecated. Use 'Elasticsearch.options()' instead.\n",
      "  es.indices.create(\n",
      "/home/charbel/.local/lib/python3.11/site-packages/urllib3/connectionpool.py:1099: InsecureRequestWarning: Unverified HTTPS request is being made to host 'localhost'. Adding certificate verification is strongly advised. See: https://urllib3.readthedocs.io/en/latest/advanced-usage.html#tls-warnings\n",
      "  warnings.warn(\n",
      "/home/charbel/.local/lib/python3.11/site-packages/urllib3/connectionpool.py:1099: InsecureRequestWarning: Unverified HTTPS request is being made to host 'localhost'. Adding certificate verification is strongly advised. See: https://urllib3.readthedocs.io/en/latest/advanced-usage.html#tls-warnings\n",
      "  warnings.warn(\n",
      "/home/charbel/.local/lib/python3.11/site-packages/urllib3/connectionpool.py:1099: InsecureRequestWarning: Unverified HTTPS request is being made to host 'localhost'. Adding certificate verification is strongly advised. See: https://urllib3.readthedocs.io/en/latest/advanced-usage.html#tls-warnings\n",
      "  warnings.warn(\n"
     ]
    },
    {
     "name": "stdout",
     "output_type": "stream",
     "text": [
      "Bulk operation completed. Successful operations: 1000, Failed operations: 0\n"
     ]
    }
   ],
   "source": [
    "import json\n",
    "from elasticsearch import Elasticsearch, helpers\n",
    "\n",
    "# Initialize Elasticsearch client\n",
    "\n",
    "\n",
    "def parse_bulk_file(filename):\n",
    "    actions = []\n",
    "    with open(filename, \"r\") as file:\n",
    "        while True:\n",
    "            action_line = file.readline().strip()\n",
    "            if not action_line:\n",
    "                break  # End of file\n",
    "            document_line = file.readline().strip()\n",
    "            if not document_line:\n",
    "                raise ValueError(\"Unexpected end of file\")\n",
    "\n",
    "            action = json.loads(action_line)\n",
    "            document = json.loads(document_line)\n",
    "\n",
    "            # Combine action and document\n",
    "            if \"index\" in action:\n",
    "                actions.append(\n",
    "                    {\n",
    "                        \"_op_type\": \"index\",\n",
    "                        \"_index\": action[\"index\"].get(\n",
    "                            \"_index\", \"products\"\n",
    "                        ),  # Default to 'products' if not specified\n",
    "                        \"_id\": action[\"index\"][\"_id\"],\n",
    "                        \"_source\": document,\n",
    "                    }\n",
    "                )\n",
    "            elif \"create\" in action:\n",
    "                actions.append(\n",
    "                    {\n",
    "                        \"_op_type\": \"create\",\n",
    "                        \"_index\": action[\"create\"].get(\"_index\", \"products\"),\n",
    "                        \"_id\": action[\"create\"][\"_id\"],\n",
    "                        \"_source\": document,\n",
    "                    }\n",
    "                )\n",
    "            elif \"update\" in action:\n",
    "                actions.append(\n",
    "                    {\n",
    "                        \"_op_type\": \"update\",\n",
    "                        \"_index\": action[\"update\"].get(\"_index\", \"products\"),\n",
    "                        \"_id\": action[\"update\"][\"_id\"],\n",
    "                        \"_source\": {\"doc\": document},\n",
    "                    }\n",
    "                )\n",
    "            elif \"delete\" in action:\n",
    "                actions.append(\n",
    "                    {\n",
    "                        \"_op_type\": \"delete\",\n",
    "                        \"_index\": action[\"delete\"].get(\"_index\", \"products\"),\n",
    "                        \"_id\": action[\"delete\"][\"_id\"],\n",
    "                    }\n",
    "                )\n",
    "    return actions\n",
    "\n",
    "\n",
    "try:\n",
    "    # Ensure the 'products' index exists\n",
    "    es.indices.create(\n",
    "        index=\"products\", ignore=400\n",
    "    )  # ignore 400 means to ignore \"index already exists\" error\n",
    "\n",
    "    # Parse the bulk file\n",
    "    actions = parse_bulk_file(\"products-bulk.json\")\n",
    "\n",
    "    # Perform the bulk operation\n",
    "    success, failed = helpers.bulk(es, actions, stats_only=True)\n",
    "\n",
    "    # Print the response\n",
    "    print(\n",
    "        f\"Bulk operation completed. Successful operations: {success}, Failed operations: {failed}\"\n",
    "    )\n",
    "\n",
    "except json.JSONDecodeError as e:\n",
    "    print(f\"Error parsing JSON: {e}\")\n",
    "\n",
    "except Exception as e:\n",
    "    print(f\"An unexpected error occurred: {e}\")"
   ]
  },
  {
   "cell_type": "code",
   "execution_count": null,
   "metadata": {},
   "outputs": [],
   "source": []
  }
 ],
 "metadata": {
  "kernelspec": {
   "display_name": "Python 3",
   "language": "python",
   "name": "python3"
  },
  "language_info": {
   "codemirror_mode": {
    "name": "ipython",
    "version": 3
   },
   "file_extension": ".py",
   "mimetype": "text/x-python",
   "name": "python",
   "nbconvert_exporter": "python",
   "pygments_lexer": "ipython3",
   "version": "3.11.0"
  }
 },
 "nbformat": 4,
 "nbformat_minor": 2
}
