{
 "cells": [
  {
   "cell_type": "code",
   "execution_count": 2,
   "metadata": {},
   "outputs": [],
   "source": [
    "from elasticsearch import Elasticsearch\n",
    "\n",
    "es = Elasticsearch(\n",
    "    \"http://84.16.230.94:9200\", basic_auth=(\"elastic\", \"c*+Nbwk82gA7RQfFHkQ6\")\n",
    ")"
   ]
  },
  {
   "cell_type": "code",
   "execution_count": 3,
   "metadata": {},
   "outputs": [
    {
     "name": "stderr",
     "output_type": "stream",
     "text": [
      "/tmp/ipykernel_117115/372129935.py:1: DeprecationWarning: Passing transport options in the API method is deprecated. Use 'Elasticsearch.options()' instead.\n",
      "  es.indices.delete(index=\"department\", ignore=404)\n"
     ]
    },
    {
     "name": "stdout",
     "output_type": "stream",
     "text": [
      "Index 'department' created with response: {'acknowledged': True, 'shards_acknowledged': True, 'index': 'department'}\n"
     ]
    }
   ],
   "source": [
    "es.indices.delete(index=\"department\", ignore=404)\n",
    "\n",
    "# Define the mapping with explicit fields for department and employee\n",
    "create_index_body = {\n",
    "    \"mappings\": {\n",
    "        \"properties\": {\n",
    "            # Join field to create parent-child relationships\n",
    "            \"join_field\": {\n",
    "                \"type\": \"join\",\n",
    "                \"relations\": {\n",
    "                    \"company\": [\n",
    "                        \"department\",\n",
    "                        \"supplier\",\n",
    "                    ],  # Parent: company, Children: department and supplier\n",
    "                    \"department\": \"employee\",  # Parent: department, Child: employee\n",
    "                },\n",
    "            },\n",
    "            # Fields for Company\n",
    "            \"company\": {\n",
    "                \"properties\": {\n",
    "                    \"name\": {\n",
    "                        \"type\": \"text\",\n",
    "                        \"fields\": {\"keyword\": {\"type\": \"keyword\"}},\n",
    "                    },\n",
    "                    \"registration_number\": {\"type\": \"keyword\"},\n",
    "                    \"founded_date\": {\"type\": \"date\"},\n",
    "                    \"location\": {\"type\": \"geo_point\"},\n",
    "                }\n",
    "            },\n",
    "            # Fields for Department\n",
    "            \"department\": {\n",
    "                \"properties\": {\n",
    "                    \"name\": {\n",
    "                        \"type\": \"text\",\n",
    "                        \"fields\": {\"keyword\": {\"type\": \"keyword\"}},\n",
    "                    },\n",
    "                    \"budget\": {\"type\": \"float\"},\n",
    "                    \"floor_number\": {\"type\": \"integer\"},\n",
    "                }\n",
    "            },\n",
    "            # Fields for Supplier\n",
    "            \"supplier\": {\n",
    "                \"properties\": {\n",
    "                    \"name\": {\n",
    "                        \"type\": \"text\",\n",
    "                        \"fields\": {\"keyword\": {\"type\": \"keyword\"}},\n",
    "                    },\n",
    "                    \"contract_type\": {\"type\": \"keyword\"},\n",
    "                    \"supply_categories\": {\"type\": \"keyword\"},\n",
    "                }\n",
    "            },\n",
    "            # Fields for Employee\n",
    "            \"employee\": {\n",
    "                \"properties\": {\n",
    "                    \"first_name\": {\n",
    "                        \"type\": \"text\",\n",
    "                        \"fields\": {\"keyword\": {\"type\": \"keyword\"}},\n",
    "                    },\n",
    "                    \"last_name\": {\n",
    "                        \"type\": \"text\",\n",
    "                        \"fields\": {\"keyword\": {\"type\": \"keyword\"}},\n",
    "                    },\n",
    "                    \"email\": {\"type\": \"keyword\"},\n",
    "                    \"position\": {\"type\": \"text\"},\n",
    "                    \"salary\": {\"type\": \"float\"},\n",
    "                    \"hire_date\": {\"type\": \"date\"},\n",
    "                    \"skills\": {\"type\": \"keyword\"},\n",
    "                }\n",
    "            },\n",
    "        }\n",
    "    }\n",
    "}\n",
    "\n",
    "# Create the index\n",
    "index_name = \"department\"\n",
    "response = es.indices.create(index=index_name, body=create_index_body)\n",
    "print(f\"Index '{index_name}' created with response:\", response)\n",
    "# Sample data for departments\n",
    "departments = [\n",
    "    {\"id\": \"1\", \"name\": \"Engineering\", \"location\": \"New York\", \"budget\": 500000},\n",
    "    {\"id\": \"2\", \"name\": \"Marketing\", \"location\": \"San Francisco\", \"budget\": 300000},\n",
    "    {\"id\": \"3\", \"name\": \"Human Resources\", \"location\": \"Chicago\", \"budget\": 200000},\n",
    "]\n",
    "\n",
    "# Sample data for employees\n",
    "employees = {\n",
    "    \"1\": [  # Employees for Engineering\n",
    "        {\n",
    "            \"name\": \"Alice Smith\",\n",
    "            \"position\": \"Software Engineer\",\n",
    "            \"salary\": 80000,\n",
    "            \"date_of_joining\": \"2022-01-15\",\n",
    "        },\n",
    "        {\n",
    "            \"name\": \"Bob Johnson\",\n",
    "            \"position\": \"Data Scientist\",\n",
    "            \"salary\": 85000,\n",
    "            \"date_of_joining\": \"2022-05-10\",\n",
    "        },\n",
    "        {\n",
    "            \"name\": \"Charlie Brown\",\n",
    "            \"position\": \"DevOps Engineer\",\n",
    "            \"salary\": 78000,\n",
    "            \"date_of_joining\": \"2021-07-21\",\n",
    "        },\n",
    "    ],\n",
    "    \"2\": [  # Employees for Marketing\n",
    "        {\n",
    "            \"name\": \"David Wilson\",\n",
    "            \"position\": \"Marketing Manager\",\n",
    "            \"salary\": 70000,\n",
    "            \"date_of_joining\": \"2023-02-10\",\n",
    "        },\n",
    "        {\n",
    "            \"name\": \"Eva Green\",\n",
    "            \"position\": \"Content Creator\",\n",
    "            \"salary\": 55000,\n",
    "            \"date_of_joining\": \"2022-10-11\",\n",
    "        },\n",
    "        {\n",
    "            \"name\": \"Frank White\",\n",
    "            \"position\": \"SEO Specialist\",\n",
    "            \"salary\": 60000,\n",
    "            \"date_of_joining\": \"2021-11-05\",\n",
    "        },\n",
    "    ],\n",
    "    \"3\": [  # Employees for Human Resources\n",
    "        {\n",
    "            \"name\": \"Grace Kim\",\n",
    "            \"position\": \"HR Manager\",\n",
    "            \"salary\": 75000,\n",
    "            \"date_of_joining\": \"2020-04-12\",\n",
    "        },\n",
    "        {\n",
    "            \"name\": \"Hank Lee\",\n",
    "            \"position\": \"Recruiter\",\n",
    "            \"salary\": 50000,\n",
    "            \"date_of_joining\": \"2021-09-22\",\n",
    "        },\n",
    "        {\n",
    "            \"name\": \"Ivy Brown\",\n",
    "            \"position\": \"HR Assistant\",\n",
    "            \"salary\": 45000,\n",
    "            \"date_of_joining\": \"2023-01-14\",\n",
    "        },\n",
    "    ],\n",
    "}"
   ]
  },
  {
   "cell_type": "code",
   "execution_count": 4,
   "metadata": {},
   "outputs": [
    {
     "name": "stdout",
     "output_type": "stream",
     "text": [
      "Data inserted successfully.\n",
      "All Departments: {'took': 635, 'timed_out': False, '_shards': {'total': 1, 'successful': 1, 'skipped': 0, 'failed': 0}, 'hits': {'total': {'value': 3, 'relation': 'eq'}, 'max_score': 1.4733057, 'hits': [{'_index': 'department', '_id': '1', '_score': 1.4733057, '_source': {'department': {'name': 'Engineering', 'location': 'New York', 'budget': 500000}, 'join_field': 'department'}}, {'_index': 'department', '_id': '2', '_score': 1.4733057, '_source': {'department': {'name': 'Marketing', 'location': 'San Francisco', 'budget': 300000}, 'join_field': 'department'}}, {'_index': 'department', '_id': '3', '_score': 1.4733057, '_source': {'department': {'name': 'Human Resources', 'location': 'Chicago', 'budget': 200000}, 'join_field': 'department'}}]}}\n",
      "Employees in Engineering Department: {'took': 4, 'timed_out': False, '_shards': {'total': 1, 'successful': 1, 'skipped': 0, 'failed': 0}, 'hits': {'total': {'value': 6, 'relation': 'eq'}, 'max_score': 1.4234339, 'hits': [{'_index': 'department', '_id': '23JZ3JIB6crDCYvWcxUY', '_score': 1.4234339, '_routing': '1', '_source': {'employee': {'name': 'Alice Smith', 'position': 'Software Engineer', 'salary': 80000, 'date_of_joining': '2022-01-15'}, 'join_field': {'name': 'employee', 'parent': '1'}}}, {'_index': 'department', '_id': '3HJZ3JIB6crDCYvWcxWu', '_score': 1.4234339, '_routing': '1', '_source': {'employee': {'name': 'Bob Johnson', 'position': 'Data Scientist', 'salary': 85000, 'date_of_joining': '2022-05-10'}, 'join_field': {'name': 'employee', 'parent': '1'}}}, {'_index': 'department', '_id': '3XJZ3JIB6crDCYvWdBVX', '_score': 1.4234339, '_routing': '1', '_source': {'employee': {'name': 'Charlie Brown', 'position': 'DevOps Engineer', 'salary': 78000, 'date_of_joining': '2021-07-21'}, 'join_field': {'name': 'employee', 'parent': '1'}}}, {'_index': 'department', '_id': '5HJ13JIB6crDCYvWuBVp', '_score': 1.4234339, '_routing': '1', '_source': {'employee': {'name': 'Alice Smith', 'position': 'Software Engineer', 'salary': 80000, 'date_of_joining': '2022-01-15'}, 'join_field': {'name': 'employee', 'parent': '1'}}}, {'_index': 'department', '_id': '5XJ13JIB6crDCYvWuBXu', '_score': 1.4234339, '_routing': '1', '_source': {'employee': {'name': 'Bob Johnson', 'position': 'Data Scientist', 'salary': 85000, 'date_of_joining': '2022-05-10'}, 'join_field': {'name': 'employee', 'parent': '1'}}}, {'_index': 'department', '_id': '5nJ13JIB6crDCYvWuRVX', '_score': 1.4234339, '_routing': '1', '_source': {'employee': {'name': 'Charlie Brown', 'position': 'DevOps Engineer', 'salary': 78000, 'date_of_joining': '2021-07-21'}, 'join_field': {'name': 'employee', 'parent': '1'}}}]}}\n"
     ]
    }
   ],
   "source": [
    "# Insert department documents\n",
    "for department in departments:\n",
    "    department_doc = {\n",
    "        \"department\": {\n",
    "            \"name\": department[\"name\"],\n",
    "            \"location\": department[\"location\"],\n",
    "            \"budget\": department[\"budget\"],\n",
    "        },\n",
    "        \"join_field\": \"department\",\n",
    "    }\n",
    "    es.index(index=index_name, id=department[\"id\"], body=department_doc)\n",
    "\n",
    "# Insert employee documents for each department\n",
    "for dept_id, dept_employees in employees.items():\n",
    "    for employee in dept_employees:\n",
    "        employee_doc = {\n",
    "            \"employee\": {\n",
    "                \"name\": employee[\"name\"],\n",
    "                \"position\": employee[\"position\"],\n",
    "                \"salary\": employee[\"salary\"],\n",
    "                \"date_of_joining\": employee[\"date_of_joining\"],\n",
    "            },\n",
    "            \"join_field\": {\n",
    "                \"name\": \"employee\",\n",
    "                \"parent\": dept_id,  # Link employee to the department\n",
    "            },\n",
    "        }\n",
    "        es.index(index=index_name, routing=dept_id, body=employee_doc)\n",
    "\n",
    "print(\"Data inserted successfully.\")\n",
    "query = {\"query\": {\"term\": {\"join_field\": \"department\"}}}\n",
    "\n",
    "response = es.search(index=\"department\", body=query)\n",
    "print(\"All Departments:\", response)\n",
    "query = {\n",
    "    \"query\": {\n",
    "        \"bool\": {\n",
    "            \"must\": [\n",
    "                {\"term\": {\"join_field\": \"employee\"}},\n",
    "                {\n",
    "                    \"parent_id\": {\"type\": \"employee\", \"id\": \"1\"}\n",
    "                },  # Set parent_id to the department ID\n",
    "            ]\n",
    "        }\n",
    "    }\n",
    "}\n",
    "\n",
    "response = es.search(index=\"department\", routing=\"1\", body=query)\n",
    "print(\"Employees in Engineering Department:\", response)"
   ]
  },
  {
   "cell_type": "code",
   "execution_count": null,
   "metadata": {},
   "outputs": [],
   "source": []
  },
  {
   "cell_type": "code",
   "execution_count": null,
   "metadata": {},
   "outputs": [],
   "source": []
  },
  {
   "cell_type": "code",
   "execution_count": null,
   "metadata": {},
   "outputs": [],
   "source": []
  },
  {
   "cell_type": "code",
   "execution_count": null,
   "metadata": {},
   "outputs": [],
   "source": []
  },
  {
   "cell_type": "code",
   "execution_count": 6,
   "metadata": {},
   "outputs": [
    {
     "name": "stderr",
     "output_type": "stream",
     "text": [
      "/tmp/ipykernel_5142/2609188805.py:1: DeprecationWarning: Passing transport options in the API method is deprecated. Use 'Elasticsearch.options()' instead.\n",
      "  es.indices.delete(index=\"testingjoins\", ignore=404)\n"
     ]
    }
   ],
   "source": [
    "es.indices.delete(index=\"testingjoins\", ignore=404)\n",
    "\n",
    "# Define the mapping with explicit fields for department and employee\n",
    "create_index_body = {\n",
    "    \"mappings\": {\n",
    "        \"properties\": {\n",
    "            # Join field to create parent-child relationships\n",
    "            \"join_field\": {\n",
    "                \"type\": \"join\",\n",
    "                \"relations\": {\n",
    "                    \"company\": [\n",
    "                        \"department\",\n",
    "                        \"supplier\",\n",
    "                    ],  # Parent: company, Children: department and supplier\n",
    "                    \"department\": \"employee\",  # Parent: department, Child: employee\n",
    "                },\n",
    "            },\n",
    "            # Fields for Company\n",
    "            \"company\": {\n",
    "                \"properties\": {\n",
    "                    \"name\": {\n",
    "                        \"type\": \"text\",\n",
    "                        \"fields\": {\"keyword\": {\"type\": \"keyword\"}},\n",
    "                    },\n",
    "                    \"registration_number\": {\"type\": \"keyword\"},\n",
    "                    \"founded_date\": {\"type\": \"date\"},\n",
    "                    \"location\": {\"type\": \"geo_point\"},\n",
    "                }\n",
    "            },\n",
    "            # Fields for Department\n",
    "            \"department\": {\n",
    "                \"properties\": {\n",
    "                    \"name\": {\n",
    "                        \"type\": \"text\",\n",
    "                        \"fields\": {\"keyword\": {\"type\": \"keyword\"}},\n",
    "                    },\n",
    "                    \"budget\": {\"type\": \"float\"},\n",
    "                    \"floor_number\": {\"type\": \"integer\"},\n",
    "                }\n",
    "            },\n",
    "            # Fields for Supplier\n",
    "            \"supplier\": {\n",
    "                \"properties\": {\n",
    "                    \"name\": {\n",
    "                        \"type\": \"text\",\n",
    "                        \"fields\": {\"keyword\": {\"type\": \"keyword\"}},\n",
    "                    },\n",
    "                    \"contract_type\": {\"type\": \"keyword\"},\n",
    "                    \"supply_categories\": {\"type\": \"keyword\"},\n",
    "                }\n",
    "            },\n",
    "            # Fields for Employee\n",
    "            \"employee\": {\n",
    "                \"properties\": {\n",
    "                    \"first_name\": {\n",
    "                        \"type\": \"text\",\n",
    "                        \"fields\": {\"keyword\": {\"type\": \"keyword\"}},\n",
    "                    },\n",
    "                    \"last_name\": {\n",
    "                        \"type\": \"text\",\n",
    "                        \"fields\": {\"keyword\": {\"type\": \"keyword\"}},\n",
    "                    },\n",
    "                    \"email\": {\"type\": \"keyword\"},\n",
    "                    \"position\": {\"type\": \"text\"},\n",
    "                    \"salary\": {\"type\": \"float\"},\n",
    "                    \"hire_date\": {\"type\": \"date\"},\n",
    "                    \"skills\": {\"type\": \"keyword\"},\n",
    "                }\n",
    "            },\n",
    "        }\n",
    "    }\n",
    "}\n",
    "# Create the index\n",
    "index_name = \"testingjoins\"\n",
    "response = es.indices.create(index=index_name, body=create_index_body)"
   ]
  },
  {
   "cell_type": "code",
   "execution_count": 11,
   "metadata": {},
   "outputs": [
    {
     "data": {
      "text/plain": [
       "ObjectApiResponse({'_index': 'testingjoins', '_id': 'company_1', '_version': 1, 'result': 'created', '_shards': {'total': 2, 'successful': 1, 'failed': 0}, '_seq_no': 2, '_primary_term': 1})"
      ]
     },
     "execution_count": 11,
     "metadata": {},
     "output_type": "execute_result"
    }
   ],
   "source": [
    "# Company Document\n",
    "company = {\n",
    "    \"name\": \"Tech Innovations Inc.\",\n",
    "    \"registration_number\": \"REG123456\",\n",
    "    \"founded_date\": \"2005-06-15\",\n",
    "    \"location\": {\"lat\": 37.7749, \"lon\": -122.4194},\n",
    "    \"join_field\": \"company\",\n",
    "}\n",
    "\n",
    "es.index(index=index_name, id=\"company_1\", body=company)"
   ]
  },
  {
   "cell_type": "code",
   "execution_count": 12,
   "metadata": {},
   "outputs": [
    {
     "data": {
      "text/plain": [
       "ObjectApiResponse({'_index': 'testingjoins', '_id': 'supplier_2', '_version': 1, 'result': 'created', '_shards': {'total': 2, 'successful': 1, 'failed': 0}, '_seq_no': 4, '_primary_term': 1})"
      ]
     },
     "execution_count": 12,
     "metadata": {},
     "output_type": "execute_result"
    }
   ],
   "source": [
    "# Supplier Documents\n",
    "supplier_1 = {\n",
    "    \"name\": \"Office Supplies Co.\",\n",
    "    \"contract_type\": \"Annual\",\n",
    "    \"supply_categories\": [\"Office Supplies\", \"Stationery\"],\n",
    "    \"join_field\": {\"name\": \"supplier\", \"parent\": \"company_1\"},\n",
    "}\n",
    "\n",
    "supplier_2 = {\n",
    "    \"name\": \"IT Solutions Ltd.\",\n",
    "    \"contract_type\": \"Project-Based\",\n",
    "    \"supply_categories\": [\"Software\", \"Hardware\"],\n",
    "    \"join_field\": {\"name\": \"supplier\", \"parent\": \"company_1\"},\n",
    "}\n",
    "\n",
    "es.index(index=index_name, id=\"supplier_1\", body=supplier_1, routing=\"company_1\")\n",
    "es.index(index=index_name, id=\"supplier_2\", body=supplier_2, routing=\"company_1\")"
   ]
  },
  {
   "cell_type": "code",
   "execution_count": 13,
   "metadata": {},
   "outputs": [
    {
     "data": {
      "text/plain": [
       "ObjectApiResponse({'_index': 'testingjoins', '_id': 'department_2', '_version': 1, 'result': 'created', '_shards': {'total': 2, 'successful': 1, 'failed': 0}, '_seq_no': 6, '_primary_term': 1})"
      ]
     },
     "execution_count": 13,
     "metadata": {},
     "output_type": "execute_result"
    }
   ],
   "source": [
    "# Department Documents\n",
    "department_1 = {\n",
    "    \"name\": \"Research and Development\",\n",
    "    \"budget\": 500000.0,\n",
    "    \"floor_number\": 5,\n",
    "    \"join_field\": {\"name\": \"department\", \"parent\": \"company_1\"},\n",
    "}\n",
    "\n",
    "department_2 = {\n",
    "    \"name\": \"Sales\",\n",
    "    \"budget\": 300000.0,\n",
    "    \"floor_number\": 3,\n",
    "    \"join_field\": {\"name\": \"department\", \"parent\": \"company_1\"},\n",
    "}\n",
    "\n",
    "es.index(index=index_name, id=\"department_1\", body=department_1, routing=\"company_1\")\n",
    "es.index(index=index_name, id=\"department_2\", body=department_2, routing=\"company_1\")"
   ]
  },
  {
   "cell_type": "code",
   "execution_count": 14,
   "metadata": {},
   "outputs": [
    {
     "data": {
      "text/plain": [
       "ObjectApiResponse({'_index': 'testingjoins', '_id': 'employee_2_dep2', '_version': 1, 'result': 'created', '_shards': {'total': 2, 'successful': 1, 'failed': 0}, '_seq_no': 10, '_primary_term': 1})"
      ]
     },
     "execution_count": 14,
     "metadata": {},
     "output_type": "execute_result"
    }
   ],
   "source": [
    "# Employees for Department 1 (Research and Development)\n",
    "employee_1_dep1 = {\n",
    "    \"first_name\": \"Alice\",\n",
    "    \"last_name\": \"Smith\",\n",
    "    \"email\": \"alice.smith@techinnovations.com\",\n",
    "    \"position\": \"Senior Engineer\",\n",
    "    \"salary\": 85000.0,\n",
    "    \"hire_date\": \"2018-09-01\",\n",
    "    \"skills\": [\"Python\", \"Machine Learning\", \"AI\"],\n",
    "    \"join_field\": {\"name\": \"employee\", \"parent\": \"department_1\"},\n",
    "}\n",
    "\n",
    "employee_2_dep1 = {\n",
    "    \"first_name\": \"Bob\",\n",
    "    \"last_name\": \"Johnson\",\n",
    "    \"email\": \"bob.johnson@techinnovations.com\",\n",
    "    \"position\": \"Data Scientist\",\n",
    "    \"salary\": 90000.0,\n",
    "    \"hire_date\": \"2019-11-15\",\n",
    "    \"skills\": [\"Data Analysis\", \"Statistics\", \"SQL\"],\n",
    "    \"join_field\": {\"name\": \"employee\", \"parent\": \"department_1\"},\n",
    "}\n",
    "\n",
    "es.index(\n",
    "    index=index_name,\n",
    "    id=\"employee_1_dep1\",\n",
    "    body=employee_1_dep1,\n",
    "    routing=\"department_1\",\n",
    ")\n",
    "es.index(\n",
    "    index=index_name,\n",
    "    id=\"employee_2_dep1\",\n",
    "    body=employee_2_dep1,\n",
    "    routing=\"department_1\",\n",
    ")\n",
    "\n",
    "# Employees for Department 2 (Sales)\n",
    "employee_1_dep2 = {\n",
    "    \"first_name\": \"Carol\",\n",
    "    \"last_name\": \"Williams\",\n",
    "    \"email\": \"carol.williams@techinnovations.com\",\n",
    "    \"position\": \"Sales Manager\",\n",
    "    \"salary\": 75000.0,\n",
    "    \"hire_date\": \"2020-02-10\",\n",
    "    \"skills\": [\"Salesforce\", \"Negotiation\", \"Marketing\"],\n",
    "    \"join_field\": {\"name\": \"employee\", \"parent\": \"department_2\"},\n",
    "}\n",
    "\n",
    "employee_2_dep2 = {\n",
    "    \"first_name\": \"David\",\n",
    "    \"last_name\": \"Brown\",\n",
    "    \"email\": \"david.brown@techinnovations.com\",\n",
    "    \"position\": \"Account Executive\",\n",
    "    \"salary\": 65000.0,\n",
    "    \"hire_date\": \"2021-05-21\",\n",
    "    \"skills\": [\"Customer Service\", \"CRM\", \"Communication\"],\n",
    "    \"join_field\": {\"name\": \"employee\", \"parent\": \"department_2\"},\n",
    "}\n",
    "\n",
    "es.index(\n",
    "    index=index_name,\n",
    "    id=\"employee_1_dep2\",\n",
    "    body=employee_1_dep2,\n",
    "    routing=\"department_2\",\n",
    ")\n",
    "es.index(\n",
    "    index=index_name,\n",
    "    id=\"employee_2_dep2\",\n",
    "    body=employee_2_dep2,\n",
    "    routing=\"department_2\",\n",
    ")"
   ]
  },
  {
   "cell_type": "code",
   "execution_count": 21,
   "metadata": {},
   "outputs": [
    {
     "name": "stdout",
     "output_type": "stream",
     "text": [
      "{'name': 'Tech Innovations Inc.', 'registration_number': 'REG123456', 'founded_date': '2005-06-15', 'location': {'lat': 37.7749, 'lon': -122.4194}, 'join_field': 'company'}\n"
     ]
    }
   ],
   "source": [
    "# Search for companies with departments having an employee named \"John Doe\"\n",
    "response = es.search(\n",
    "    index=index_name,\n",
    "    body={\n",
    "        \"query\": {\n",
    "            \"has_child\": {\n",
    "                \"type\": \"department\",\n",
    "                \"query\": {\n",
    "                    \"has_child\": {\n",
    "                        \"type\": \"employee\",\n",
    "                        \"query\": {\"term\": {\"first_name.keyword\": \"David\"}},\n",
    "                    }\n",
    "                },\n",
    "            }\n",
    "        }\n",
    "    },\n",
    ")\n",
    "\n",
    "# Print search results\n",
    "for hit in response[\"hits\"][\"hits\"]:\n",
    "    print(hit[\"_source\"])"
   ]
  },
  {
   "cell_type": "code",
   "execution_count": 25,
   "metadata": {},
   "outputs": [
    {
     "name": "stdout",
     "output_type": "stream",
     "text": [
      "{'name': 'Research and Development', 'budget': 500000.0, 'floor_number': 5, 'join_field': {'name': 'department', 'parent': 'company_1'}}\n"
     ]
    }
   ],
   "source": [
    "response = es.search(\n",
    "    index=index_name,\n",
    "    body={\n",
    "        \"query\": {\n",
    "            \"has_child\": {\n",
    "                \"type\": \"employee\",\n",
    "                \"query\": {\n",
    "                    \"has_parent\": {\n",
    "                        \"parent_type\": \"department\",\n",
    "                        \"query\": {\"term\": {\"name.keyword\": \"Research and Development\"}},\n",
    "                    }\n",
    "                },\n",
    "            }\n",
    "        }\n",
    "    },\n",
    "    \"_source\": [\"first_name\", \"last_name\"],\n",
    ")\n",
    "\n",
    "# Print search results\n",
    "for hit in response[\"hits\"][\"hits\"]:\n",
    "    print(hit[\"_source\"])"
   ]
  },
  {
   "cell_type": "code",
   "execution_count": 64,
   "metadata": {},
   "outputs": [
    {
     "data": {
      "text/plain": [
       "ObjectApiResponse({'took': 2, 'timed_out': False, '_shards': {'total': 1, 'successful': 1, 'skipped': 0, 'failed': 0}, 'hits': {'total': {'value': 2, 'relation': 'eq'}, 'max_score': 2.568616, 'hits': [{'_index': 'testingjoins', '_id': 'department_1', '_score': 2.568616, '_routing': 'company_1', '_source': {'name': 'Research and Development', 'budget': 500000.0, 'floor_number': 5, 'join_field': {'name': 'department', 'parent': 'company_1'}}, 'inner_hits': {'company': {'hits': {'total': {'value': 1, 'relation': 'eq'}, 'max_score': 1.3862942, 'hits': [{'_index': 'testingjoins', '_id': 'company_1', '_score': 1.3862942, '_source': {'name': 'Tech Innovations Inc.', 'registration_number': 'REG123456', 'founded_date': '2005-06-15', 'location': {'lat': 37.7749, 'lon': -122.4194}, 'join_field': 'company'}}]}}}}, {'_index': 'testingjoins', '_id': 'department_2', '_score': 2.568616, '_routing': 'company_1', '_source': {'name': 'Sales', 'budget': 300000.0, 'floor_number': 3, 'join_field': {'name': 'department', 'parent': 'company_1'}}, 'inner_hits': {'company': {'hits': {'total': {'value': 1, 'relation': 'eq'}, 'max_score': 1.3862942, 'hits': [{'_index': 'testingjoins', '_id': 'company_1', '_score': 1.3862942, '_source': {'name': 'Tech Innovations Inc.', 'registration_number': 'REG123456', 'founded_date': '2005-06-15', 'location': {'lat': 37.7749, 'lon': -122.4194}, 'join_field': 'company'}}]}}}}]}})"
      ]
     },
     "execution_count": 64,
     "metadata": {},
     "output_type": "execute_result"
    }
   ],
   "source": [
    "response = es.search(\n",
    "    index=index_name,\n",
    "    body={\n",
    "        \"query\": {\n",
    "            \"bool\": {\n",
    "                \"must\": [\n",
    "                    {\n",
    "                        \"has_parent\": {\n",
    "                            \"parent_type\": \"company\",\n",
    "                            \"inner_hits\": {},\n",
    "                            \"query\": {\"term\": {\"name.keyword\": \"Tech Innovations Inc.\"}},  # Changed to `match` for text field\n",
    "\n",
    "                        }\n",
    "                    },\n",
    "                    {\n",
    "                        \"term\": {\n",
    "                            \"join_field\": \"department\"  # Ensure we only get departments\n",
    "                        }\n",
    "                    }\n",
    "                ]\n",
    "            }\n",
    "        }\n",
    "    }\n",
    ")\n",
    "response"
   ]
  },
  {
   "cell_type": "code",
   "execution_count": 61,
   "metadata": {},
   "outputs": [
    {
     "data": {
      "text/plain": [
       "ObjectApiResponse({'took': 3, 'timed_out': False, '_shards': {'total': 1, 'successful': 1, 'skipped': 0, 'failed': 0}, 'hits': {'total': {'value': 2, 'relation': 'eq'}, 'max_score': 2.568616, 'hits': [{'_index': 'testingjoins', '_id': 'department_1', '_score': 2.568616, '_routing': 'company_1', '_source': {'name': 'Research and Development', 'budget': 500000.0, 'floor_number': 5, 'join_field': {'name': 'department', 'parent': 'company_1'}}, 'inner_hits': {'company': {'hits': {'total': {'value': 1, 'relation': 'eq'}, 'max_score': 1.3042111, 'hits': [{'_index': 'testingjoins', '_id': 'company_1', '_score': 1.3042111, '_source': {'name': 'Tech Innovations Inc.', 'registration_number': 'REG123456', 'founded_date': '2005-06-15', 'location': {'lat': 37.7749, 'lon': -122.4194}, 'join_field': 'company'}}]}}}}, {'_index': 'testingjoins', '_id': 'department_2', '_score': 2.568616, '_routing': 'company_1', '_source': {'name': 'Sales', 'budget': 300000.0, 'floor_number': 3, 'join_field': {'name': 'department', 'parent': 'company_1'}}, 'inner_hits': {'company': {'hits': {'total': {'value': 1, 'relation': 'eq'}, 'max_score': 1.3042111, 'hits': [{'_index': 'testingjoins', '_id': 'company_1', '_score': 1.3042111, '_source': {'name': 'Tech Innovations Inc.', 'registration_number': 'REG123456', 'founded_date': '2005-06-15', 'location': {'lat': 37.7749, 'lon': -122.4194}, 'join_field': 'company'}}]}}}}]}})"
      ]
     },
     "execution_count": 61,
     "metadata": {},
     "output_type": "execute_result"
    }
   ],
   "source": [
    "response"
   ]
  },
  {
   "cell_type": "code",
   "execution_count": 56,
   "metadata": {},
   "outputs": [
    {
     "data": {
      "text/plain": [
       "ObjectApiResponse({'took': 2, 'timed_out': False, '_shards': {'total': 1, 'successful': 1, 'skipped': 0, 'failed': 0}, 'hits': {'total': {'value': 2, 'relation': 'eq'}, 'max_score': 1.0, 'hits': [{'_index': 'testingjoins', '_id': 'employee_1_dep2', '_score': 1.0, '_routing': 'department_2', '_source': {'first_name': 'Carol', 'last_name': 'Williams', 'email': 'carol.williams@techinnovations.com', 'position': 'Sales Manager', 'salary': 75000.0, 'hire_date': '2020-02-10', 'skills': ['Salesforce', 'Negotiation', 'Marketing'], 'join_field': {'name': 'employee', 'parent': 'department_2'}}, 'inner_hits': {'department': {'hits': {'total': {'value': 1, 'relation': 'eq'}, 'max_score': 1.3862942, 'hits': [{'_index': 'testingjoins', '_id': 'department_2', '_score': 1.3862942, '_routing': 'company_1', '_source': {'name': 'Sales', 'budget': 300000.0, 'floor_number': 3, 'join_field': {'name': 'department', 'parent': 'company_1'}}}]}}}}, {'_index': 'testingjoins', '_id': 'employee_2_dep2', '_score': 1.0, '_routing': 'department_2', '_source': {'first_name': 'David', 'last_name': 'Brown', 'email': 'david.brown@techinnovations.com', 'position': 'Account Executive', 'salary': 65000.0, 'hire_date': '2021-05-21', 'skills': ['Customer Service', 'CRM', 'Communication'], 'join_field': {'name': 'employee', 'parent': 'department_2'}}, 'inner_hits': {'department': {'hits': {'total': {'value': 1, 'relation': 'eq'}, 'max_score': 1.3862942, 'hits': [{'_index': 'testingjoins', '_id': 'department_2', '_score': 1.3862942, '_routing': 'company_1', '_source': {'name': 'Sales', 'budget': 300000.0, 'floor_number': 3, 'join_field': {'name': 'department', 'parent': 'company_1'}}}]}}}}]}})"
      ]
     },
     "execution_count": 56,
     "metadata": {},
     "output_type": "execute_result"
    }
   ],
   "source": [
    "# Perform has_parent query with inner_hits for department parent documents\n",
    "response = es.search(\n",
    "    index=index_name,\n",
    "    body={\n",
    "        \"query\": {\n",
    "            \"has_parent\": {\n",
    "                \"parent_type\": \"department\",\n",
    "                \"inner_hits\": {},  # Enables inner hits\n",
    "                \"query\": {\"term\": {\"name.keyword\": \"Sales\"}},\n",
    "            }\n",
    "        }\n",
    "    },\n",
    ")\n",
    "response"
   ]
  },
  {
   "cell_type": "code",
   "execution_count": 55,
   "metadata": {},
   "outputs": [
    {
     "data": {
      "text/plain": [
       "ObjectApiResponse({'took': 3, 'timed_out': False, '_shards': {'total': 1, 'successful': 1, 'skipped': 0, 'failed': 0}, 'hits': {'total': {'value': 2, 'relation': 'eq'}, 'max_score': 1.0, 'hits': [{'_index': 'testingjoins', '_id': 'employee_1_dep2', '_score': 1.0, '_routing': 'department_2', '_source': {'first_name': 'Carol', 'last_name': 'Williams', 'email': 'carol.williams@techinnovations.com', 'position': 'Sales Manager', 'salary': 75000.0, 'hire_date': '2020-02-10', 'skills': ['Salesforce', 'Negotiation', 'Marketing'], 'join_field': {'name': 'employee', 'parent': 'department_2'}}, 'inner_hits': {'department': {'hits': {'total': {'value': 1, 'relation': 'eq'}, 'max_score': 1.8527111, 'hits': [{'_index': 'testingjoins', '_id': 'department_2', '_score': 1.8527111, '_routing': 'company_1', '_source': {'name': 'Sales', 'budget': 300000.0, 'floor_number': 3, 'join_field': {'name': 'department', 'parent': 'company_1'}}}]}}}}, {'_index': 'testingjoins', '_id': 'employee_2_dep2', '_score': 1.0, '_routing': 'department_2', '_source': {'first_name': 'David', 'last_name': 'Brown', 'email': 'david.brown@techinnovations.com', 'position': 'Account Executive', 'salary': 65000.0, 'hire_date': '2021-05-21', 'skills': ['Customer Service', 'CRM', 'Communication'], 'join_field': {'name': 'employee', 'parent': 'department_2'}}, 'inner_hits': {'department': {'hits': {'total': {'value': 1, 'relation': 'eq'}, 'max_score': 1.8527111, 'hits': [{'_index': 'testingjoins', '_id': 'department_2', '_score': 1.8527111, '_routing': 'company_1', '_source': {'name': 'Sales', 'budget': 300000.0, 'floor_number': 3, 'join_field': {'name': 'department', 'parent': 'company_1'}}}]}}}}]}})"
      ]
     },
     "execution_count": 55,
     "metadata": {},
     "output_type": "execute_result"
    }
   ],
   "source": [
    "response = es.search(\n",
    "    index=index_name,\n",
    "    body={\n",
    "        \"query\": {\n",
    "            \"has_parent\": {\n",
    "                \"parent_type\": \"department\",\n",
    "                \"inner_hits\": {},  # Enables inner hits\n",
    "                \"query\": {\"match\": {\"name\": \"Sales\"}},  # Changed to `match` for text field\n",
    "            }\n",
    "        }\n",
    "    },\n",
    ")\n",
    "response"
   ]
  },
  {
   "cell_type": "code",
   "execution_count": null,
   "metadata": {},
   "outputs": [],
   "source": []
  }
 ],
 "metadata": {
  "kernelspec": {
   "display_name": "Python 3",
   "language": "python",
   "name": "python3"
  },
  "language_info": {
   "codemirror_mode": {
    "name": "ipython",
    "version": 3
   },
   "file_extension": ".py",
   "mimetype": "text/x-python",
   "name": "python",
   "nbconvert_exporter": "python",
   "pygments_lexer": "ipython3",
   "version": "3.11.0rc1"
  }
 },
 "nbformat": 4,
 "nbformat_minor": 2
}
