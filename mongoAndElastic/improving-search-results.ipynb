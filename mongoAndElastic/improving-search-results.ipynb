{
 "cells": [
  {
   "cell_type": "code",
   "execution_count": 1,
   "metadata": {},
   "outputs": [],
   "source": [
    "from elasticsearch import Elasticsearch\n",
    "\n",
    "# Create an Elasticsearch client instance with authentication\n",
    "es = Elasticsearch(\n",
    "    \"https://localhost:9200\",  # Use https for SSL\n",
    "    basic_auth=(\n",
    "        \"elastic\",\n",
    "        \"8+6x+mXMgyoyi0F7Fi07\",\n",
    "    ),  # Replace with your username and password\n",
    "    verify_certs=False,  # Optional: Disable SSL certificate verification for development\n",
    "    ssl_show_warn=False,  # This will disable the warning\n",
    ")"
   ]
  },
  {
   "cell_type": "markdown",
   "metadata": {},
   "source": [
    "slop to search for phrases with words between them or swapped"
   ]
  },
  {
   "cell_type": "code",
   "execution_count": 3,
   "metadata": {},
   "outputs": [
    {
     "name": "stdout",
     "output_type": "stream",
     "text": [
      "Response with slop=1: {'took': 10, 'timed_out': False, '_shards': {'total': 1, 'successful': 1, 'skipped': 0, 'failed': 0}, 'hits': {'total': {'value': 2, 'relation': 'eq'}, 'max_score': 0.11540276, 'hits': [{'_index': 'proximity', '_id': '1', '_score': 0.11540276, '_source': {'title': 'Spicy Sauce'}}, {'_index': 'proximity', '_id': '2', '_score': 0.06775388, '_source': {'title': 'Spicy Tomato Sauce'}}]}}\n",
      "Response with slop=2: {'took': 10, 'timed_out': False, '_shards': {'total': 1, 'successful': 1, 'skipped': 0, 'failed': 0}, 'hits': {'total': {'value': 3, 'relation': 'eq'}, 'max_score': 0.11540276, 'hits': [{'_index': 'proximity', '_id': '1', '_score': 0.11540276, '_source': {'title': 'Spicy Sauce'}}, {'_index': 'proximity', '_id': '2', '_score': 0.06775388, '_source': {'title': 'Spicy Tomato Sauce'}}, {'_index': 'proximity', '_id': '4', '_score': 0.05077119, '_source': {'title': 'Tomato Sauce (spicy)'}}]}}\n"
     ]
    }
   ],
   "source": [
    "# Adding test documents to the 'proximity' index\n",
    "documents = [\n",
    "    {\"_id\": \"1\", \"title\": \"Spicy Sauce\"},\n",
    "    {\"_id\": \"2\", \"title\": \"Spicy Tomato Sauce\"},\n",
    "    {\"_id\": \"3\", \"title\": \"Spicy Tomato and Garlic Sauce\"},\n",
    "    {\"_id\": \"4\", \"title\": \"Tomato Sauce (spicy)\"},\n",
    "    {\"_id\": \"5\", \"title\": \"Spicy and very delicious Tomato Sauce\"},\n",
    "]\n",
    "\n",
    "# Indexing documents\n",
    "for doc in documents:\n",
    "    es.index(index=\"proximity\", id=doc[\"_id\"], body={\"title\": doc[\"title\"]})\n",
    "\n",
    "# Refreshing the index to make the documents searchable immediately\n",
    "es.indices.refresh(index=\"proximity\")\n",
    "\n",
    "# Running a match_phrase query with slop=1\n",
    "response_slop_1 = es.search(\n",
    "    index=\"proximity\",\n",
    "    body={\"query\": {\"match_phrase\": {\"title\": {\"query\": \"spicy sauce\", \"slop\": 1}}}},\n",
    ")\n",
    "\n",
    "# Running a match_phrase query with slop=2\n",
    "response_slop_2 = es.search(\n",
    "    index=\"proximity\",\n",
    "    body={\"query\": {\"match_phrase\": {\"title\": {\"query\": \"spicy sauce\", \"slop\": 2}}}},\n",
    ")\n",
    "\n",
    "# Displaying the results\n",
    "print(\"Response with slop=1:\", response_slop_1)\n",
    "print(\"Response with slop=2:\", response_slop_2)"
   ]
  },
  {
   "cell_type": "markdown",
   "metadata": {},
   "source": [
    "affecting relevance scores, using the match phrase with slop parameter , this will boost the relevance scores for documents having the exact words in proximity"
   ]
  },
  {
   "cell_type": "code",
   "execution_count": 4,
   "metadata": {},
   "outputs": [
    {
     "name": "stdout",
     "output_type": "stream",
     "text": [
      "Response with simple match query within bool query: {'took': 22, 'timed_out': False, '_shards': {'total': 1, 'successful': 1, 'skipped': 0, 'failed': 0}, 'hits': {'total': {'value': 5, 'relation': 'eq'}, 'max_score': 0.11540276, 'hits': [{'_index': 'proximity', '_id': '1', '_score': 0.11540276, '_source': {'title': 'Spicy Sauce'}}, {'_index': 'proximity', '_id': '2', '_score': 0.1018082, '_source': {'title': 'Spicy Tomato Sauce'}}, {'_index': 'proximity', '_id': '4', '_score': 0.1018082, '_source': {'title': 'Tomato Sauce (spicy)'}}, {'_index': 'proximity', '_id': '3', '_score': 0.08239561, '_source': {'title': 'Spicy Tomato and Garlic Sauce'}}, {'_index': 'proximity', '_id': '5', '_score': 0.07522385, '_source': {'title': 'Spicy and very delicious Tomato Sauce'}}]}}\n",
      "Response with boosted relevance based on proximity: {'took': 45, 'timed_out': False, '_shards': {'total': 1, 'successful': 1, 'skipped': 0, 'failed': 0}, 'hits': {'total': {'value': 5, 'relation': 'eq'}, 'max_score': 0.23080552, 'hits': [{'_index': 'proximity', '_id': '1', '_score': 0.23080552, '_source': {'title': 'Spicy Sauce'}}, {'_index': 'proximity', '_id': '2', '_score': 0.1018082, '_source': {'title': 'Spicy Tomato Sauce'}}, {'_index': 'proximity', '_id': '4', '_score': 0.1018082, '_source': {'title': 'Tomato Sauce (spicy)'}}, {'_index': 'proximity', '_id': '3', '_score': 0.08239561, '_source': {'title': 'Spicy Tomato and Garlic Sauce'}}, {'_index': 'proximity', '_id': '5', '_score': 0.07522385, '_source': {'title': 'Spicy and very delicious Tomato Sauce'}}]}}\n",
      "Response with slop parameter in match_phrase: {'took': 15, 'timed_out': False, '_shards': {'total': 1, 'successful': 1, 'skipped': 0, 'failed': 0}, 'hits': {'total': {'value': 5, 'relation': 'eq'}, 'max_score': 0.23080552, 'hits': [{'_index': 'proximity', '_id': '1', '_score': 0.23080552, '_source': {'title': 'Spicy Sauce'}}, {'_index': 'proximity', '_id': '2', '_score': 0.16956207, '_source': {'title': 'Spicy Tomato Sauce'}}, {'_index': 'proximity', '_id': '4', '_score': 0.1525794, '_source': {'title': 'Tomato Sauce (spicy)'}}, {'_index': 'proximity', '_id': '3', '_score': 0.111903, '_source': {'title': 'Spicy Tomato and Garlic Sauce'}}, {'_index': 'proximity', '_id': '5', '_score': 0.096533835, '_source': {'title': 'Spicy and very delicious Tomato Sauce'}}]}}\n"
     ]
    }
   ],
   "source": [
    "# Simple match query within a bool query\n",
    "response_bool_match = es.search(\n",
    "    index=\"proximity\",\n",
    "    body={\n",
    "        \"query\": {\"bool\": {\"must\": [{\"match\": {\"title\": {\"query\": \"spicy sauce\"}}}]}}\n",
    "    },\n",
    ")\n",
    "\n",
    "# Boosting relevance based on proximity\n",
    "response_bool_match_phrase = es.search(\n",
    "    index=\"proximity\",\n",
    "    body={\n",
    "        \"query\": {\n",
    "            \"bool\": {\n",
    "                \"must\": [{\"match\": {\"title\": {\"query\": \"spicy sauce\"}}}],\n",
    "                \"should\": [{\"match_phrase\": {\"title\": {\"query\": \"spicy sauce\"}}}],\n",
    "            }\n",
    "        }\n",
    "    },\n",
    ")\n",
    "\n",
    "# Adding the slop parameter to boost relevance\n",
    "response_bool_match_phrase_slop = es.search(\n",
    "    index=\"proximity\",\n",
    "    body={\n",
    "        \"query\": {\n",
    "            \"bool\": {\n",
    "                \"must\": [{\"match\": {\"title\": {\"query\": \"spicy sauce\"}}}],\n",
    "                \"should\": [\n",
    "                    {\"match_phrase\": {\"title\": {\"query\": \"spicy sauce\", \"slop\": 5}}}\n",
    "                ],\n",
    "            }\n",
    "        }\n",
    "    },\n",
    ")\n",
    "\n",
    "# Print responses\n",
    "print(\"Response with simple match query within bool query:\", response_bool_match)\n",
    "print(\"Response with boosted relevance based on proximity:\", response_bool_match_phrase)\n",
    "print(\"Response with slop parameter in match_phrase:\", response_bool_match_phrase_slop)"
   ]
  },
  {
   "cell_type": "markdown",
   "metadata": {},
   "source": [
    "fuzzy search"
   ]
  },
  {
   "cell_type": "code",
   "execution_count": 5,
   "metadata": {},
   "outputs": [
    {
     "name": "stdout",
     "output_type": "stream",
     "text": [
      "Response for fuzziness auto (l0bster): {'took': 151, 'timed_out': False, '_shards': {'total': 2, 'successful': 2, 'skipped': 0, 'failed': 0}, 'hits': {'total': {'value': 5, 'relation': 'eq'}, 'max_score': 4.866661, 'hits': [{'_index': 'products', '_id': '19', '_score': 4.866661, '_ignored': ['description.keyword'], '_source': {'name': 'Lobster - Live', 'price': 79, 'in_stock': 43, 'sold': 370, 'tags': ['Meat', 'Seafood'], 'description': 'Integer non velit. Donec diam neque, vestibulum eget, vulputate ut, ultrices vel, augue. Vestibulum ante ipsum primis in faucibus orci luctus et ultrices posuere cubilia Curae; Donec pharetra, magna vestibulum aliquet ultrices, erat tortor sollicitudin mi, sit amet lobortis sapien sapien non mi. Integer ac neque. Duis bibendum. Morbi non quam nec dui luctus rutrum.', 'is_active': False, 'created': '2007/08/10'}}, {'_index': 'products', '_id': '55', '_score': 4.1739345, '_source': {'name': 'Lobster - Baby Boiled', 'price': 134, 'in_stock': 41, 'sold': 207, 'tags': ['Meat', 'Seafood'], 'description': 'Nulla tellus. In sagittis dui vel nisl. Duis ac nibh. Fusce lacus purus, aliquet at, feugiat non, pretium quis, lectus. Suspendisse potenti. In eleifend quam a odio.', 'is_active': False, 'created': '2016/01/19'}}, {'_index': 'products', '_id': '471', '_score': 3.8419204, '_source': {'name': 'Lobster - Tail 6 Oz', 'price': 197, 'in_stock': 9, 'sold': 47, 'tags': ['Meat', 'Seafood'], 'description': 'Aenean lectus. Pellentesque eget nunc. Donec quis orci eget orci vehicula condimentum. Curabitur in libero ut massa volutpat convallis. Morbi odio odio, elementum eu, interdum eu, tincidunt in, leo.', 'is_active': True, 'created': '2014/10/01'}}, {'_index': 'products', '_id': '373', '_score': 3.653841, '_ignored': ['description.keyword'], '_source': {'name': 'Appetizer - Lobster Phyllo Roll', 'price': 153, 'in_stock': 32, 'sold': 92, 'tags': ['Meat', 'Seafood'], 'description': 'Ut tellus. Nulla ut erat id mauris vulputate elementum. Nullam varius. Nulla facilisi. Cras non velit nec nisi vulputate nonummy. Maecenas tincidunt lacus at velit. Vivamus vel nulla eget eros elementum pellentesque. Quisque porta volutpat erat. Quisque erat eros, viverra eget, congue eget, semper rutrum, nulla. Nunc purus.', 'is_active': True, 'created': '2012/10/10'}}, {'_index': 'products', '_id': '500', '_score': 3.4192924, '_source': {'name': 'Lobster - Tail 3 - 4 Oz', 'price': 46, 'in_stock': 33, 'sold': 188, 'tags': ['Meat', 'Seafood'], 'description': 'Integer a nibh. In quis justo. Maecenas rhoncus aliquam lacus. Morbi quis tortor id nulla ultrices aliquet. Maecenas leo odio, condimentum id, luctus nec, molestie sed, justo. Pellentesque viverra pede ac diam.', 'is_active': False, 'created': '2015/08/26'}}]}}\n",
      "Response for fuzziness auto (lobster): {'took': 35, 'timed_out': False, '_shards': {'total': 2, 'successful': 2, 'skipped': 0, 'failed': 0}, 'hits': {'total': {'value': 7, 'relation': 'eq'}, 'max_score': 5.677772, 'hits': [{'_index': 'products', '_id': '19', '_score': 5.677772, '_ignored': ['description.keyword'], '_source': {'name': 'Lobster - Live', 'price': 79, 'in_stock': 43, 'sold': 370, 'tags': ['Meat', 'Seafood'], 'description': 'Integer non velit. Donec diam neque, vestibulum eget, vulputate ut, ultrices vel, augue. Vestibulum ante ipsum primis in faucibus orci luctus et ultrices posuere cubilia Curae; Donec pharetra, magna vestibulum aliquet ultrices, erat tortor sollicitudin mi, sit amet lobortis sapien sapien non mi. Integer ac neque. Duis bibendum. Morbi non quam nec dui luctus rutrum.', 'is_active': False, 'created': '2007/08/10'}}, {'_index': 'products', '_id': '55', '_score': 4.8695903, '_source': {'name': 'Lobster - Baby Boiled', 'price': 134, 'in_stock': 41, 'sold': 207, 'tags': ['Meat', 'Seafood'], 'description': 'Nulla tellus. In sagittis dui vel nisl. Duis ac nibh. Fusce lacus purus, aliquet at, feugiat non, pretium quis, lectus. Suspendisse potenti. In eleifend quam a odio.', 'is_active': False, 'created': '2016/01/19'}}, {'_index': 'products', '_id': '44', '_score': 4.8625674, '_source': {'name': 'Toaster', 'price': 151, 'in_stock': 7, 'sold': 467, 'tags': [], 'description': 'Good for toasting bread.', 'is_active': True, 'created': '2012/04/10'}}, {'_index': 'products', '_id': '471', '_score': 4.4822407, '_source': {'name': 'Lobster - Tail 6 Oz', 'price': 197, 'in_stock': 9, 'sold': 47, 'tags': ['Meat', 'Seafood'], 'description': 'Aenean lectus. Pellentesque eget nunc. Donec quis orci eget orci vehicula condimentum. Curabitur in libero ut massa volutpat convallis. Morbi odio odio, elementum eu, interdum eu, tincidunt in, leo.', 'is_active': True, 'created': '2014/10/01'}}, {'_index': 'products', '_id': '373', '_score': 4.262815, '_ignored': ['description.keyword'], '_source': {'name': 'Appetizer - Lobster Phyllo Roll', 'price': 153, 'in_stock': 32, 'sold': 92, 'tags': ['Meat', 'Seafood'], 'description': 'Ut tellus. Nulla ut erat id mauris vulputate elementum. Nullam varius. Nulla facilisi. Cras non velit nec nisi vulputate nonummy. Maecenas tincidunt lacus at velit. Vivamus vel nulla eget eros elementum pellentesque. Quisque porta volutpat erat. Quisque erat eros, viverra eget, congue eget, semper rutrum, nulla. Nunc purus.', 'is_active': True, 'created': '2012/10/10'}}, {'_index': 'products', '_id': '500', '_score': 3.9891744, '_source': {'name': 'Lobster - Tail 3 - 4 Oz', 'price': 46, 'in_stock': 33, 'sold': 188, 'tags': ['Meat', 'Seafood'], 'description': 'Integer a nibh. In quis justo. Maecenas rhoncus aliquam lacus. Morbi quis tortor id nulla ultrices aliquet. Maecenas leo odio, condimentum id, luctus nec, molestie sed, justo. Pellentesque viverra pede ac diam.', 'is_active': False, 'created': '2015/08/26'}}, {'_index': 'products', '_id': '610', '_score': 3.9694064, '_source': {'name': 'Sauce - Oyster', 'price': 99, 'in_stock': 11, 'sold': 31, 'tags': ['Seafood'], 'description': 'Morbi quis tortor id nulla ultrices aliquet. Maecenas leo odio, condimentum id, luctus nec, molestie sed, justo.', 'is_active': True, 'created': '2013/08/22'}}]}}\n",
      "Response for fuzziness level 1 (l0bster love): {'took': 19, 'timed_out': False, '_shards': {'total': 2, 'successful': 2, 'skipped': 0, 'failed': 0}, 'hits': {'total': {'value': 1, 'relation': 'eq'}, 'max_score': 9.843444, 'hits': [{'_index': 'products', '_id': '19', '_score': 9.843444, '_ignored': ['description.keyword'], '_source': {'name': 'Lobster - Live', 'price': 79, 'in_stock': 43, 'sold': 370, 'tags': ['Meat', 'Seafood'], 'description': 'Integer non velit. Donec diam neque, vestibulum eget, vulputate ut, ultrices vel, augue. Vestibulum ante ipsum primis in faucibus orci luctus et ultrices posuere cubilia Curae; Donec pharetra, magna vestibulum aliquet ultrices, erat tortor sollicitudin mi, sit amet lobortis sapien sapien non mi. Integer ac neque. Duis bibendum. Morbi non quam nec dui luctus rutrum.', 'is_active': False, 'created': '2007/08/10'}}]}}\n",
      "Response with transpositions enabled (lvie): {'took': 11, 'timed_out': False, '_shards': {'total': 2, 'successful': 2, 'skipped': 0, 'failed': 0}, 'hits': {'total': {'value': 1, 'relation': 'eq'}, 'max_score': 4.976783, 'hits': [{'_index': 'products', '_id': '19', '_score': 4.976783, '_ignored': ['description.keyword'], '_source': {'name': 'Lobster - Live', 'price': 79, 'in_stock': 43, 'sold': 370, 'tags': ['Meat', 'Seafood'], 'description': 'Integer non velit. Donec diam neque, vestibulum eget, vulputate ut, ultrices vel, augue. Vestibulum ante ipsum primis in faucibus orci luctus et ultrices posuere cubilia Curae; Donec pharetra, magna vestibulum aliquet ultrices, erat tortor sollicitudin mi, sit amet lobortis sapien sapien non mi. Integer ac neque. Duis bibendum. Morbi non quam nec dui luctus rutrum.', 'is_active': False, 'created': '2007/08/10'}}]}}\n",
      "Response with transpositions disabled (lvie): {'took': 8, 'timed_out': False, '_shards': {'total': 2, 'successful': 2, 'skipped': 0, 'failed': 0}, 'hits': {'total': {'value': 0, 'relation': 'eq'}, 'max_score': None, 'hits': []}}\n"
     ]
    }
   ],
   "source": [
    "# Searching with fuzziness set to auto (for \"l0bster\")\n",
    "response_fuzziness_auto_l0bster = es.search(\n",
    "    index=\"products\",\n",
    "    body={\"query\": {\"match\": {\"name\": {\"query\": \"l0bster\", \"fuzziness\": \"auto\"}}}},\n",
    ")\n",
    "\n",
    "# Searching with fuzziness set to auto (for \"lobster\")\n",
    "response_fuzziness_auto_lobster = es.search(\n",
    "    index=\"products\",\n",
    "    body={\"query\": {\"match\": {\"name\": {\"query\": \"lobster\", \"fuzziness\": \"auto\"}}}},\n",
    ")\n",
    "\n",
    "# Fuzziness is set per term with an integer (for \"l0bster love\")\n",
    "response_fuzziness_int = es.search(\n",
    "    index=\"products\",\n",
    "    body={\n",
    "        \"query\": {\n",
    "            \"match\": {\n",
    "                \"name\": {\"query\": \"l0bster love\", \"operator\": \"and\", \"fuzziness\": 1}\n",
    "            }\n",
    "        }\n",
    "    },\n",
    ")\n",
    "\n",
    "# Transpositions enabled (switching letters around, for \"lvie\")\n",
    "response_fuzziness_transpose = es.search(\n",
    "    index=\"products\",\n",
    "    body={\"query\": {\"match\": {\"name\": {\"query\": \"lvie\", \"fuzziness\": 1}}}},\n",
    ")\n",
    "\n",
    "# Disabling transpositions (for \"lvie\")\n",
    "response_fuzziness_no_transpose = es.search(\n",
    "    index=\"products\",\n",
    "    body={\n",
    "        \"query\": {\n",
    "            \"match\": {\n",
    "                \"name\": {\"query\": \"lvie\", \"fuzziness\": 1, \"fuzzy_transpositions\": False}\n",
    "            }\n",
    "        }\n",
    "    },\n",
    ")\n",
    "\n",
    "# Print each response\n",
    "print(\"Response for fuzziness auto (l0bster):\", response_fuzziness_auto_l0bster)\n",
    "print(\"Response for fuzziness auto (lobster):\", response_fuzziness_auto_lobster)\n",
    "print(\"Response for fuzziness level 1 (l0bster love):\", response_fuzziness_int)\n",
    "print(\"Response with transpositions enabled (lvie):\", response_fuzziness_transpose)\n",
    "print(\"Response with transpositions disabled (lvie):\", response_fuzziness_no_transpose)"
   ]
  },
  {
   "cell_type": "markdown",
   "metadata": {},
   "source": [
    "using the fuzzy query, the query will not be analyzed which causes problems in searching. so it is better to use the match query with fuzzy parameter"
   ]
  },
  {
   "cell_type": "code",
   "execution_count": 7,
   "metadata": {},
   "outputs": [
    {
     "name": "stdout",
     "output_type": "stream",
     "text": [
      "Response for fuzzy search (LOBSTER): {'took': 11, 'timed_out': False, '_shards': {'total': 2, 'successful': 2, 'skipped': 0, 'failed': 0}, 'hits': {'total': {'value': 0, 'relation': 'eq'}, 'max_score': None, 'hits': []}}\n",
      "Response for fuzzy search (lobster): {'took': 18, 'timed_out': False, '_shards': {'total': 2, 'successful': 2, 'skipped': 0, 'failed': 0}, 'hits': {'total': {'value': 7, 'relation': 'eq'}, 'max_score': 5.677772, 'hits': [{'_index': 'products', '_id': '19', '_score': 5.677772, '_ignored': ['description.keyword'], '_source': {'name': 'Lobster - Live', 'price': 79, 'in_stock': 43, 'sold': 370, 'tags': ['Meat', 'Seafood'], 'description': 'Integer non velit. Donec diam neque, vestibulum eget, vulputate ut, ultrices vel, augue. Vestibulum ante ipsum primis in faucibus orci luctus et ultrices posuere cubilia Curae; Donec pharetra, magna vestibulum aliquet ultrices, erat tortor sollicitudin mi, sit amet lobortis sapien sapien non mi. Integer ac neque. Duis bibendum. Morbi non quam nec dui luctus rutrum.', 'is_active': False, 'created': '2007/08/10'}}, {'_index': 'products', '_id': '55', '_score': 4.8695903, '_source': {'name': 'Lobster - Baby Boiled', 'price': 134, 'in_stock': 41, 'sold': 207, 'tags': ['Meat', 'Seafood'], 'description': 'Nulla tellus. In sagittis dui vel nisl. Duis ac nibh. Fusce lacus purus, aliquet at, feugiat non, pretium quis, lectus. Suspendisse potenti. In eleifend quam a odio.', 'is_active': False, 'created': '2016/01/19'}}, {'_index': 'products', '_id': '44', '_score': 4.8625674, '_source': {'name': 'Toaster', 'price': 151, 'in_stock': 7, 'sold': 467, 'tags': [], 'description': 'Good for toasting bread.', 'is_active': True, 'created': '2012/04/10'}}, {'_index': 'products', '_id': '471', '_score': 4.4822407, '_source': {'name': 'Lobster - Tail 6 Oz', 'price': 197, 'in_stock': 9, 'sold': 47, 'tags': ['Meat', 'Seafood'], 'description': 'Aenean lectus. Pellentesque eget nunc. Donec quis orci eget orci vehicula condimentum. Curabitur in libero ut massa volutpat convallis. Morbi odio odio, elementum eu, interdum eu, tincidunt in, leo.', 'is_active': True, 'created': '2014/10/01'}}, {'_index': 'products', '_id': '373', '_score': 4.262815, '_ignored': ['description.keyword'], '_source': {'name': 'Appetizer - Lobster Phyllo Roll', 'price': 153, 'in_stock': 32, 'sold': 92, 'tags': ['Meat', 'Seafood'], 'description': 'Ut tellus. Nulla ut erat id mauris vulputate elementum. Nullam varius. Nulla facilisi. Cras non velit nec nisi vulputate nonummy. Maecenas tincidunt lacus at velit. Vivamus vel nulla eget eros elementum pellentesque. Quisque porta volutpat erat. Quisque erat eros, viverra eget, congue eget, semper rutrum, nulla. Nunc purus.', 'is_active': True, 'created': '2012/10/10'}}, {'_index': 'products', '_id': '500', '_score': 3.9891744, '_source': {'name': 'Lobster - Tail 3 - 4 Oz', 'price': 46, 'in_stock': 33, 'sold': 188, 'tags': ['Meat', 'Seafood'], 'description': 'Integer a nibh. In quis justo. Maecenas rhoncus aliquam lacus. Morbi quis tortor id nulla ultrices aliquet. Maecenas leo odio, condimentum id, luctus nec, molestie sed, justo. Pellentesque viverra pede ac diam.', 'is_active': False, 'created': '2015/08/26'}}, {'_index': 'products', '_id': '610', '_score': 3.9694064, '_source': {'name': 'Sauce - Oyster', 'price': 99, 'in_stock': 11, 'sold': 31, 'tags': ['Seafood'], 'description': 'Morbi quis tortor id nulla ultrices aliquet. Maecenas leo odio, condimentum id, luctus nec, molestie sed, justo.', 'is_active': True, 'created': '2013/08/22'}}]}}\n"
     ]
    }
   ],
   "source": [
    "# Fuzzy search with \"LOBSTER\" and fuzziness set to auto\n",
    "response_fuzzy_lobster_upper = es.search(\n",
    "    index=\"products\",\n",
    "    body={\"query\": {\"fuzzy\": {\"name\": {\"value\": \"LOBSTER\", \"fuzziness\": \"auto\"}}}},\n",
    ")\n",
    "\n",
    "# Fuzzy search with \"lobster\" and fuzziness set to auto\n",
    "response_fuzzy_lobster_lower = es.search(\n",
    "    index=\"products\",\n",
    "    body={\"query\": {\"fuzzy\": {\"name\": {\"value\": \"lobster\", \"fuzziness\": \"auto\"}}}},\n",
    ")\n",
    "\n",
    "# Print responses\n",
    "print(\"Response for fuzzy search (LOBSTER):\", response_fuzzy_lobster_upper)\n",
    "print(\"Response for fuzzy search (lobster):\", response_fuzzy_lobster_lower)"
   ]
  },
  {
   "cell_type": "markdown",
   "metadata": {},
   "source": [
    "while creating customer analyzer for synonyms, watch out of the order of the filters so like in this example lowercase must be before the synonymms and the synonyms matching must be all lowercase"
   ]
  },
  {
   "cell_type": "code",
   "execution_count": 8,
   "metadata": {},
   "outputs": [
    {
     "name": "stdout",
     "output_type": "stream",
     "text": [
      "Analysis result for 'awesome': {'tokens': [{'token': 'great', 'start_offset': 0, 'end_offset': 7, 'type': 'SYNONYM', 'position': 0}, {'token': 'super', 'start_offset': 0, 'end_offset': 7, 'type': 'SYNONYM', 'position': 0}]}\n",
      "Analysis result for 'Elasticsearch': {'tokens': [{'token': 'elk', 'start_offset': 0, 'end_offset': 13, 'type': 'SYNONYM', 'position': 0}]}\n",
      "Analysis result for 'weird': {'tokens': [{'token': 'weird', 'start_offset': 0, 'end_offset': 5, 'type': '<ALPHANUM>', 'position': 0}, {'token': 'strange', 'start_offset': 0, 'end_offset': 5, 'type': 'SYNONYM', 'position': 0}]}\n",
      "Analysis result for 'Elasticsearch is awesome, but can also seem weird sometimes.': {'tokens': [{'token': 'elk', 'start_offset': 0, 'end_offset': 13, 'type': 'SYNONYM', 'position': 0}, {'token': 'is', 'start_offset': 14, 'end_offset': 16, 'type': '<ALPHANUM>', 'position': 1}, {'token': 'great', 'start_offset': 17, 'end_offset': 24, 'type': 'SYNONYM', 'position': 2}, {'token': 'super', 'start_offset': 17, 'end_offset': 24, 'type': 'SYNONYM', 'position': 2}, {'token': 'but', 'start_offset': 26, 'end_offset': 29, 'type': '<ALPHANUM>', 'position': 3}, {'token': 'can', 'start_offset': 30, 'end_offset': 33, 'type': '<ALPHANUM>', 'position': 4}, {'token': 'also', 'start_offset': 34, 'end_offset': 38, 'type': '<ALPHANUM>', 'position': 5}, {'token': 'seem', 'start_offset': 39, 'end_offset': 43, 'type': '<ALPHANUM>', 'position': 6}, {'token': 'weird', 'start_offset': 44, 'end_offset': 49, 'type': '<ALPHANUM>', 'position': 7}, {'token': 'strange', 'start_offset': 44, 'end_offset': 49, 'type': 'SYNONYM', 'position': 7}, {'token': 'sometimes', 'start_offset': 50, 'end_offset': 59, 'type': '<ALPHANUM>', 'position': 8}]}\n",
      "Search results for 'great': {'took': 6, 'timed_out': False, '_shards': {'total': 1, 'successful': 1, 'skipped': 0, 'failed': 0}, 'hits': {'total': {'value': 0, 'relation': 'eq'}, 'max_score': None, 'hits': []}}\n",
      "Search results for 'awesome': {'took': 17, 'timed_out': False, '_shards': {'total': 1, 'successful': 1, 'skipped': 0, 'failed': 0}, 'hits': {'total': {'value': 0, 'relation': 'eq'}, 'max_score': None, 'hits': []}}\n"
     ]
    }
   ],
   "source": [
    "# Step 1: Create an index with custom analyzer\n",
    "index_name = \"synonyms\"\n",
    "index_body = {\n",
    "    \"settings\": {\n",
    "        \"analysis\": {\n",
    "            \"filter\": {\n",
    "                \"synonym_test\": {\n",
    "                    \"type\": \"synonym\",\n",
    "                    \"synonyms\": [\n",
    "                        \"awful => terrible\",\n",
    "                        \"awesome => great, super\",\n",
    "                        \"elasticsearch, logstash, kibana => elk\",\n",
    "                        \"weird, strange\",\n",
    "                    ],\n",
    "                }\n",
    "            },\n",
    "            \"analyzer\": {\n",
    "                \"my_analyzer\": {\n",
    "                    \"tokenizer\": \"standard\",\n",
    "                    \"filter\": [\"lowercase\", \"synonym_test\"],\n",
    "                }\n",
    "            },\n",
    "        }\n",
    "    },\n",
    "    \"mappings\": {\n",
    "        \"properties\": {\"description\": {\"type\": \"text\", \"analyzer\": \"my_analyzer\"}}\n",
    "    },\n",
    "}\n",
    "\n",
    "# Create the index\n",
    "es.indices.create(index=index_name, body=index_body)\n",
    "\n",
    "\n",
    "# Step 2: Test the analyzer for specific synonym words\n",
    "def test_analyzer(analyzer_text):\n",
    "    response = es.indices.analyze(\n",
    "        index=index_name, body={\"analyzer\": \"my_analyzer\", \"text\": analyzer_text}\n",
    "    )\n",
    "    print(f\"Analysis result for '{analyzer_text}':\", response)\n",
    "\n",
    "\n",
    "# Testing synonyms\n",
    "test_analyzer(\"awesome\")\n",
    "test_analyzer(\"Elasticsearch\")\n",
    "test_analyzer(\"weird\")\n",
    "test_analyzer(\"Elasticsearch is awesome, but can also seem weird sometimes.\")\n",
    "\n",
    "# Step 3: Add a test document to the index\n",
    "document = {\n",
    "    \"description\": \"Elasticsearch is awesome, but can also seem weird sometimes.\"\n",
    "}\n",
    "es.index(index=index_name, body=document)\n",
    "\n",
    "\n",
    "# Step 4: Search for synonyms\n",
    "def search_synonyms(search_text):\n",
    "    response = es.search(\n",
    "        index=index_name, body={\"query\": {\"match\": {\"description\": search_text}}}\n",
    "    )\n",
    "    print(f\"Search results for '{search_text}':\", response)\n",
    "\n",
    "\n",
    "# Search for terms that should match synonyms\n",
    "search_synonyms(\"great\")\n",
    "search_synonyms(\"awesome\")"
   ]
  },
  {
   "cell_type": "markdown",
   "metadata": {},
   "source": [
    "adding synonyms from txt file"
   ]
  },
  {
   "cell_type": "code",
   "execution_count": 13,
   "metadata": {},
   "outputs": [
    {
     "name": "stdout",
     "output_type": "stream",
     "text": [
      "Index synonyms does not exist, nothing to delete.\n",
      "Created index: synonyms\n",
      "Analysis result for 'Elasticsearch': {'tokens': [{'token': 'elk', 'start_offset': 0, 'end_offset': 13, 'type': 'SYNONYM', 'position': 0}]}\n"
     ]
    }
   ],
   "source": [
    "from elasticsearch.exceptions import NotFoundError\n",
    "\n",
    "# Define the index name\n",
    "index_name = \"synonyms\"\n",
    "\n",
    "# Delete the existing index if it exists\n",
    "try:\n",
    "    es.indices.delete(index=index_name)\n",
    "    print(f\"Deleted index: {index_name}\")\n",
    "except NotFoundError:\n",
    "    print(f\"Index {index_name} does not exist, nothing to delete.\")\n",
    "\n",
    "# Define index with custom analyzer referencing the synonyms file\n",
    "index_body = {\n",
    "    \"settings\": {\n",
    "        \"analysis\": {\n",
    "            \"filter\": {\n",
    "                \"synonym_test\": {\n",
    "                    \"type\": \"synonym\",\n",
    "                    \"synonyms_path\": \"./synonyms.txt\",  # Path within Elasticsearch config directory\n",
    "                }\n",
    "            },\n",
    "            \"analyzer\": {\n",
    "                \"my_analyzer\": {\n",
    "                    \"tokenizer\": \"standard\",\n",
    "                    \"filter\": [\"lowercase\", \"synonym_test\"],\n",
    "                }\n",
    "            },\n",
    "        }\n",
    "    },\n",
    "    \"mappings\": {\n",
    "        \"properties\": {\"description\": {\"type\": \"text\", \"analyzer\": \"my_analyzer\"}}\n",
    "    },\n",
    "}\n",
    "\n",
    "# Create the index with the custom analyzer\n",
    "es.indices.create(index=index_name, body=index_body)\n",
    "print(f\"Created index: {index_name}\")\n",
    "\n",
    "\n",
    "# Function to test the custom analyzer\n",
    "def test_analyzer(analyzer_text):\n",
    "    response = es.indices.analyze(\n",
    "        index=index_name, body={\"analyzer\": \"my_analyzer\", \"text\": analyzer_text}\n",
    "    )\n",
    "    print(f\"Analysis result for '{analyzer_text}':\", response)\n",
    "\n",
    "\n",
    "# Testing the analyzer for synonym expansion with example text\n",
    "test_analyzer(\"Elasticsearch\")"
   ]
  },
  {
   "cell_type": "code",
   "execution_count": 17,
   "metadata": {},
   "outputs": [
    {
     "name": "stdout",
     "output_type": "stream",
     "text": [
      "Added document with ID 1.\n",
      "Highlighting matches:\n",
      "{'took': 11, 'timed_out': False, '_shards': {'total': 1, 'successful': 1, 'skipped': 0, 'failed': 0}, 'hits': {'total': {'value': 1, 'relation': 'eq'}, 'max_score': 0.68324494, 'hits': [{'_index': 'highlighting', '_id': '1', '_score': 0.68324494, '_ignored': ['description.keyword'], 'highlight': {'description': ['Let me tell you a <em>story</em> about <em>Elasticsearch</em>.', 'Lots of well-known and established companies use <em>Elasticsearch</em>, and so should you!']}}]}}\n",
      "Highlighting matches with custom tags:\n",
      "{'took': 15, 'timed_out': False, '_shards': {'total': 1, 'successful': 1, 'skipped': 0, 'failed': 0}, 'hits': {'total': {'value': 1, 'relation': 'eq'}, 'max_score': 0.68324494, 'hits': [{'_index': 'highlighting', '_id': '1', '_score': 0.68324494, '_ignored': ['description.keyword'], 'highlight': {'description': ['Let me tell you a <strong>story</strong> about <strong>Elasticsearch</strong>.', 'Lots of well-known and established companies use <strong>Elasticsearch</strong>, and so should you!']}}]}}\n"
     ]
    }
   ],
   "source": [
    "# Define index name\n",
    "index_name = \"highlighting\"\n",
    "\n",
    "# Create index if it doesn't exist\n",
    "if not es.indices.exists(index=index_name):\n",
    "    es.indices.create(index=index_name)\n",
    "    print(f\"Created index: {index_name}\")\n",
    "\n",
    "# Adding a test document\n",
    "doc_id = 1\n",
    "test_document = {\n",
    "    \"description\": \"Let me tell you a story about Elasticsearch. It's a full-text search engine that is built on Apache Lucene. It's really easy to use, but also packs lots of advanced features that you can use to tweak its searching capabilities. Lots of well-known and established companies use Elasticsearch, and so should you!\"\n",
    "}\n",
    "\n",
    "# Indexing the document\n",
    "es.index(index=index_name, id=doc_id, body=test_document)\n",
    "print(f\"Added document with ID {doc_id}.\")\n",
    "\n",
    "# Highlighting matches within the description field\n",
    "search_query = {\n",
    "    \"_source\": False,\n",
    "    \"query\": {\"match\": {\"description\": \"Elasticsearch story\"}},\n",
    "    \"highlight\": {\"fields\": {\"description\": {}}},\n",
    "}\n",
    "\n",
    "highlight_response = es.search(index=index_name, body=search_query)\n",
    "print(\"Highlighting matches:\")\n",
    "print(highlight_response)\n",
    "\n",
    "# Specifying a custom tag\n",
    "custom_highlight_query = {\n",
    "    \"_source\": False,\n",
    "    \"query\": {\"match\": {\"description\": \"Elasticsearch story\"}},\n",
    "    \"highlight\": {\n",
    "        \"pre_tags\": [\"<strong>\"],\n",
    "        \"post_tags\": [\"</strong>\"],\n",
    "        \"fields\": {\"description\": {}},\n",
    "    },\n",
    "}\n",
    "\n",
    "custom_highlight_response = es.search(index=index_name, body=custom_highlight_query)\n",
    "print(\"Highlighting matches with custom tags:\")\n",
    "print(custom_highlight_response)"
   ]
  },
  {
   "cell_type": "markdown",
   "metadata": {},
   "source": [
    "add stemmer also"
   ]
  },
  {
   "cell_type": "code",
   "execution_count": 19,
   "metadata": {},
   "outputs": [
    {
     "name": "stdout",
     "output_type": "stream",
     "text": [
      "Added document with ID 1.\n",
      "Search results for 'enjoy work':\n",
      "{'took': 14, 'timed_out': False, '_shards': {'total': 1, 'successful': 1, 'skipped': 0, 'failed': 0}, 'hits': {'total': {'value': 1, 'relation': 'eq'}, 'max_score': 0.7176595, 'hits': [{'_index': 'stemming_test', '_id': '1', '_score': 0.7176595, '_source': {'description': 'I love working for my firm!'}}]}}\n",
      "Search results for 'love working':\n",
      "{'took': 9, 'timed_out': False, '_shards': {'total': 1, 'successful': 1, 'skipped': 0, 'failed': 0}, 'hits': {'total': {'value': 1, 'relation': 'eq'}, 'max_score': 0.7176595, 'hits': [{'_index': 'stemming_test', '_id': '1', '_score': 0.7176595, '_source': {'description': 'I love working for my firm!'}}]}}\n",
      "Highlighting matches for 'enjoy work':\n",
      "{'took': 14, 'timed_out': False, '_shards': {'total': 1, 'successful': 1, 'skipped': 0, 'failed': 0}, 'hits': {'total': {'value': 1, 'relation': 'eq'}, 'max_score': 0.7176595, 'hits': [{'_index': 'stemming_test', '_id': '1', '_score': 0.7176595, '_source': {'description': 'I love working for my firm!'}, 'highlight': {'description': ['I <em>love</em> <em>working</em> for my firm!']}}]}}\n"
     ]
    }
   ],
   "source": [
    "# Define index name\n",
    "index_name = \"stemming_test\"\n",
    "\n",
    "# Create index with custom analyzer\n",
    "if not es.indices.exists(index=index_name):\n",
    "    index_body = {\n",
    "        \"settings\": {\n",
    "            \"analysis\": {\n",
    "                \"filter\": {\n",
    "                    \"synonym_test\": {\n",
    "                        \"type\": \"synonym\",\n",
    "                        \"synonyms\": [\"firm => company\", \"love, enjoy\"],\n",
    "                    },\n",
    "                    \"stemmer_test\": {\"type\": \"stemmer\", \"name\": \"english\"},\n",
    "                },\n",
    "                \"analyzer\": {\n",
    "                    \"my_analyzer\": {\n",
    "                        \"tokenizer\": \"standard\",\n",
    "                        \"filter\": [\"lowercase\", \"synonym_test\", \"stemmer_test\"],\n",
    "                    }\n",
    "                },\n",
    "            }\n",
    "        },\n",
    "        \"mappings\": {\n",
    "            \"properties\": {\"description\": {\"type\": \"text\", \"analyzer\": \"my_analyzer\"}}\n",
    "        },\n",
    "    }\n",
    "\n",
    "    es.indices.create(index=index_name, body=index_body)\n",
    "    print(f\"Created index: {index_name}\")\n",
    "\n",
    "# Adding a test document\n",
    "doc_id = 1\n",
    "test_document = {\"description\": \"I love working for my firm!\"}\n",
    "\n",
    "# Indexing the document\n",
    "es.index(index=index_name, id=doc_id, body=test_document)\n",
    "print(f\"Added document with ID {doc_id}.\")\n",
    "\n",
    "# Matching the document with the base word (work)\n",
    "search_query_1 = {\"query\": {\"match\": {\"description\": \"enjoy work\"}}}\n",
    "\n",
    "search_response_1 = es.search(index=index_name, body=search_query_1)\n",
    "print(\"Search results for 'enjoy work':\")\n",
    "print(search_response_1)\n",
    "\n",
    "# The query is stemmed, so the document still matches\n",
    "search_query_2 = {\"query\": {\"match\": {\"description\": \"love working\"}}}\n",
    "\n",
    "search_response_2 = es.search(index=index_name, body=search_query_2)\n",
    "print(\"Search results for 'love working':\")\n",
    "print(search_response_2)\n",
    "\n",
    "# Synonyms and stemmed words are still highlighted\n",
    "highlight_query = {\n",
    "    \"query\": {\"match\": {\"description\": \"enjoy work\"}},\n",
    "    \"highlight\": {\"fields\": {\"description\": {}}},\n",
    "}\n",
    "\n",
    "highlight_response = es.search(index=index_name, body=highlight_query)\n",
    "print(\"Highlighting matches for 'enjoy work':\")\n",
    "print(highlight_response)"
   ]
  },
  {
   "cell_type": "code",
   "execution_count": null,
   "metadata": {},
   "outputs": [],
   "source": []
  }
 ],
 "metadata": {
  "kernelspec": {
   "display_name": "Python 3",
   "language": "python",
   "name": "python3"
  },
  "language_info": {
   "codemirror_mode": {
    "name": "ipython",
    "version": 3
   },
   "file_extension": ".py",
   "mimetype": "text/x-python",
   "name": "python",
   "nbconvert_exporter": "python",
   "pygments_lexer": "ipython3",
   "version": "3.11.0"
  }
 },
 "nbformat": 4,
 "nbformat_minor": 2
}
